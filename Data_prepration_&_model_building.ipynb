{
  "nbformat": 4,
  "nbformat_minor": 0,
  "metadata": {
    "colab": {
      "provenance": []
    },
    "kernelspec": {
      "name": "python3",
      "display_name": "Python 3"
    },
    "language_info": {
      "name": "python"
    }
  },
  "cells": [
    {
      "cell_type": "markdown",
      "source": [
        "**Step 1 :**\n",
        "\n",
        "Loading the data"
      ],
      "metadata": {
        "id": "ovTj6LQizxJx"
      }
    },
    {
      "cell_type": "code",
      "execution_count": 1,
      "metadata": {
        "id": "j_pS4bOkyZHB",
        "colab": {
          "base_uri": "https://localhost:8080/"
        },
        "outputId": "97fa9f9c-e388-4963-b274-810cc3664d2a"
      },
      "outputs": [
        {
          "output_type": "stream",
          "name": "stdout",
          "text": [
            "Mounted at /content/drive\n"
          ]
        }
      ],
      "source": [
        "from google.colab import drive\n",
        "\n",
        "drive.mount('/content/drive')"
      ]
    },
    {
      "cell_type": "code",
      "source": [
        "import pandas as pd\n",
        "\n",
        "df = pd.read_csv('/content/drive/My Drive/Colab Notebooks/HousePricePrediction.csv')\n",
        "df.head()"
      ],
      "metadata": {
        "colab": {
          "base_uri": "https://localhost:8080/",
          "height": 206
        },
        "id": "6hkdAMSQzMbM",
        "outputId": "db2e3150-ed86-4d90-e6c6-b1295699c3ba"
      },
      "execution_count": 2,
      "outputs": [
        {
          "output_type": "execute_result",
          "data": {
            "text/plain": [
              "   Id  MSSubClass MSZoning  LotArea LotConfig BldgType  OverallCond  \\\n",
              "0   0          60       RL     8450    Inside     1Fam            5   \n",
              "1   1          20       RL     9600       FR2     1Fam            8   \n",
              "2   2          60       RL    11250    Inside     1Fam            5   \n",
              "3   3          70       RL     9550    Corner     1Fam            5   \n",
              "4   4          60       RL    14260       FR2     1Fam            5   \n",
              "\n",
              "   YearBuilt  YearRemodAdd Exterior1st  BsmtFinSF2  TotalBsmtSF  SalePrice  \n",
              "0       2003          2003     VinylSd         0.0        856.0   208500.0  \n",
              "1       1976          1976     MetalSd         0.0       1262.0   181500.0  \n",
              "2       2001          2002     VinylSd         0.0        920.0   223500.0  \n",
              "3       1915          1970     Wd Sdng         0.0        756.0   140000.0  \n",
              "4       2000          2000     VinylSd         0.0       1145.0   250000.0  "
            ],
            "text/html": [
              "\n",
              "  <div id=\"df-6cdfb0fe-8017-4a27-bbc6-9afe6ef24bfd\" class=\"colab-df-container\">\n",
              "    <div>\n",
              "<style scoped>\n",
              "    .dataframe tbody tr th:only-of-type {\n",
              "        vertical-align: middle;\n",
              "    }\n",
              "\n",
              "    .dataframe tbody tr th {\n",
              "        vertical-align: top;\n",
              "    }\n",
              "\n",
              "    .dataframe thead th {\n",
              "        text-align: right;\n",
              "    }\n",
              "</style>\n",
              "<table border=\"1\" class=\"dataframe\">\n",
              "  <thead>\n",
              "    <tr style=\"text-align: right;\">\n",
              "      <th></th>\n",
              "      <th>Id</th>\n",
              "      <th>MSSubClass</th>\n",
              "      <th>MSZoning</th>\n",
              "      <th>LotArea</th>\n",
              "      <th>LotConfig</th>\n",
              "      <th>BldgType</th>\n",
              "      <th>OverallCond</th>\n",
              "      <th>YearBuilt</th>\n",
              "      <th>YearRemodAdd</th>\n",
              "      <th>Exterior1st</th>\n",
              "      <th>BsmtFinSF2</th>\n",
              "      <th>TotalBsmtSF</th>\n",
              "      <th>SalePrice</th>\n",
              "    </tr>\n",
              "  </thead>\n",
              "  <tbody>\n",
              "    <tr>\n",
              "      <th>0</th>\n",
              "      <td>0</td>\n",
              "      <td>60</td>\n",
              "      <td>RL</td>\n",
              "      <td>8450</td>\n",
              "      <td>Inside</td>\n",
              "      <td>1Fam</td>\n",
              "      <td>5</td>\n",
              "      <td>2003</td>\n",
              "      <td>2003</td>\n",
              "      <td>VinylSd</td>\n",
              "      <td>0.0</td>\n",
              "      <td>856.0</td>\n",
              "      <td>208500.0</td>\n",
              "    </tr>\n",
              "    <tr>\n",
              "      <th>1</th>\n",
              "      <td>1</td>\n",
              "      <td>20</td>\n",
              "      <td>RL</td>\n",
              "      <td>9600</td>\n",
              "      <td>FR2</td>\n",
              "      <td>1Fam</td>\n",
              "      <td>8</td>\n",
              "      <td>1976</td>\n",
              "      <td>1976</td>\n",
              "      <td>MetalSd</td>\n",
              "      <td>0.0</td>\n",
              "      <td>1262.0</td>\n",
              "      <td>181500.0</td>\n",
              "    </tr>\n",
              "    <tr>\n",
              "      <th>2</th>\n",
              "      <td>2</td>\n",
              "      <td>60</td>\n",
              "      <td>RL</td>\n",
              "      <td>11250</td>\n",
              "      <td>Inside</td>\n",
              "      <td>1Fam</td>\n",
              "      <td>5</td>\n",
              "      <td>2001</td>\n",
              "      <td>2002</td>\n",
              "      <td>VinylSd</td>\n",
              "      <td>0.0</td>\n",
              "      <td>920.0</td>\n",
              "      <td>223500.0</td>\n",
              "    </tr>\n",
              "    <tr>\n",
              "      <th>3</th>\n",
              "      <td>3</td>\n",
              "      <td>70</td>\n",
              "      <td>RL</td>\n",
              "      <td>9550</td>\n",
              "      <td>Corner</td>\n",
              "      <td>1Fam</td>\n",
              "      <td>5</td>\n",
              "      <td>1915</td>\n",
              "      <td>1970</td>\n",
              "      <td>Wd Sdng</td>\n",
              "      <td>0.0</td>\n",
              "      <td>756.0</td>\n",
              "      <td>140000.0</td>\n",
              "    </tr>\n",
              "    <tr>\n",
              "      <th>4</th>\n",
              "      <td>4</td>\n",
              "      <td>60</td>\n",
              "      <td>RL</td>\n",
              "      <td>14260</td>\n",
              "      <td>FR2</td>\n",
              "      <td>1Fam</td>\n",
              "      <td>5</td>\n",
              "      <td>2000</td>\n",
              "      <td>2000</td>\n",
              "      <td>VinylSd</td>\n",
              "      <td>0.0</td>\n",
              "      <td>1145.0</td>\n",
              "      <td>250000.0</td>\n",
              "    </tr>\n",
              "  </tbody>\n",
              "</table>\n",
              "</div>\n",
              "    <div class=\"colab-df-buttons\">\n",
              "\n",
              "  <div class=\"colab-df-container\">\n",
              "    <button class=\"colab-df-convert\" onclick=\"convertToInteractive('df-6cdfb0fe-8017-4a27-bbc6-9afe6ef24bfd')\"\n",
              "            title=\"Convert this dataframe to an interactive table.\"\n",
              "            style=\"display:none;\">\n",
              "\n",
              "  <svg xmlns=\"http://www.w3.org/2000/svg\" height=\"24px\" viewBox=\"0 -960 960 960\">\n",
              "    <path d=\"M120-120v-720h720v720H120Zm60-500h600v-160H180v160Zm220 220h160v-160H400v160Zm0 220h160v-160H400v160ZM180-400h160v-160H180v160Zm440 0h160v-160H620v160ZM180-180h160v-160H180v160Zm440 0h160v-160H620v160Z\"/>\n",
              "  </svg>\n",
              "    </button>\n",
              "\n",
              "  <style>\n",
              "    .colab-df-container {\n",
              "      display:flex;\n",
              "      gap: 12px;\n",
              "    }\n",
              "\n",
              "    .colab-df-convert {\n",
              "      background-color: #E8F0FE;\n",
              "      border: none;\n",
              "      border-radius: 50%;\n",
              "      cursor: pointer;\n",
              "      display: none;\n",
              "      fill: #1967D2;\n",
              "      height: 32px;\n",
              "      padding: 0 0 0 0;\n",
              "      width: 32px;\n",
              "    }\n",
              "\n",
              "    .colab-df-convert:hover {\n",
              "      background-color: #E2EBFA;\n",
              "      box-shadow: 0px 1px 2px rgba(60, 64, 67, 0.3), 0px 1px 3px 1px rgba(60, 64, 67, 0.15);\n",
              "      fill: #174EA6;\n",
              "    }\n",
              "\n",
              "    .colab-df-buttons div {\n",
              "      margin-bottom: 4px;\n",
              "    }\n",
              "\n",
              "    [theme=dark] .colab-df-convert {\n",
              "      background-color: #3B4455;\n",
              "      fill: #D2E3FC;\n",
              "    }\n",
              "\n",
              "    [theme=dark] .colab-df-convert:hover {\n",
              "      background-color: #434B5C;\n",
              "      box-shadow: 0px 1px 3px 1px rgba(0, 0, 0, 0.15);\n",
              "      filter: drop-shadow(0px 1px 2px rgba(0, 0, 0, 0.3));\n",
              "      fill: #FFFFFF;\n",
              "    }\n",
              "  </style>\n",
              "\n",
              "    <script>\n",
              "      const buttonEl =\n",
              "        document.querySelector('#df-6cdfb0fe-8017-4a27-bbc6-9afe6ef24bfd button.colab-df-convert');\n",
              "      buttonEl.style.display =\n",
              "        google.colab.kernel.accessAllowed ? 'block' : 'none';\n",
              "\n",
              "      async function convertToInteractive(key) {\n",
              "        const element = document.querySelector('#df-6cdfb0fe-8017-4a27-bbc6-9afe6ef24bfd');\n",
              "        const dataTable =\n",
              "          await google.colab.kernel.invokeFunction('convertToInteractive',\n",
              "                                                    [key], {});\n",
              "        if (!dataTable) return;\n",
              "\n",
              "        const docLinkHtml = 'Like what you see? Visit the ' +\n",
              "          '<a target=\"_blank\" href=https://colab.research.google.com/notebooks/data_table.ipynb>data table notebook</a>'\n",
              "          + ' to learn more about interactive tables.';\n",
              "        element.innerHTML = '';\n",
              "        dataTable['output_type'] = 'display_data';\n",
              "        await google.colab.output.renderOutput(dataTable, element);\n",
              "        const docLink = document.createElement('div');\n",
              "        docLink.innerHTML = docLinkHtml;\n",
              "        element.appendChild(docLink);\n",
              "      }\n",
              "    </script>\n",
              "  </div>\n",
              "\n",
              "\n",
              "<div id=\"df-386f316a-1591-4fed-ae56-9d7cbe916354\">\n",
              "  <button class=\"colab-df-quickchart\" onclick=\"quickchart('df-386f316a-1591-4fed-ae56-9d7cbe916354')\"\n",
              "            title=\"Suggest charts.\"\n",
              "            style=\"display:none;\">\n",
              "\n",
              "<svg xmlns=\"http://www.w3.org/2000/svg\" height=\"24px\"viewBox=\"0 0 24 24\"\n",
              "     width=\"24px\">\n",
              "    <g>\n",
              "        <path d=\"M19 3H5c-1.1 0-2 .9-2 2v14c0 1.1.9 2 2 2h14c1.1 0 2-.9 2-2V5c0-1.1-.9-2-2-2zM9 17H7v-7h2v7zm4 0h-2V7h2v10zm4 0h-2v-4h2v4z\"/>\n",
              "    </g>\n",
              "</svg>\n",
              "  </button>\n",
              "\n",
              "<style>\n",
              "  .colab-df-quickchart {\n",
              "      --bg-color: #E8F0FE;\n",
              "      --fill-color: #1967D2;\n",
              "      --hover-bg-color: #E2EBFA;\n",
              "      --hover-fill-color: #174EA6;\n",
              "      --disabled-fill-color: #AAA;\n",
              "      --disabled-bg-color: #DDD;\n",
              "  }\n",
              "\n",
              "  [theme=dark] .colab-df-quickchart {\n",
              "      --bg-color: #3B4455;\n",
              "      --fill-color: #D2E3FC;\n",
              "      --hover-bg-color: #434B5C;\n",
              "      --hover-fill-color: #FFFFFF;\n",
              "      --disabled-bg-color: #3B4455;\n",
              "      --disabled-fill-color: #666;\n",
              "  }\n",
              "\n",
              "  .colab-df-quickchart {\n",
              "    background-color: var(--bg-color);\n",
              "    border: none;\n",
              "    border-radius: 50%;\n",
              "    cursor: pointer;\n",
              "    display: none;\n",
              "    fill: var(--fill-color);\n",
              "    height: 32px;\n",
              "    padding: 0;\n",
              "    width: 32px;\n",
              "  }\n",
              "\n",
              "  .colab-df-quickchart:hover {\n",
              "    background-color: var(--hover-bg-color);\n",
              "    box-shadow: 0 1px 2px rgba(60, 64, 67, 0.3), 0 1px 3px 1px rgba(60, 64, 67, 0.15);\n",
              "    fill: var(--button-hover-fill-color);\n",
              "  }\n",
              "\n",
              "  .colab-df-quickchart-complete:disabled,\n",
              "  .colab-df-quickchart-complete:disabled:hover {\n",
              "    background-color: var(--disabled-bg-color);\n",
              "    fill: var(--disabled-fill-color);\n",
              "    box-shadow: none;\n",
              "  }\n",
              "\n",
              "  .colab-df-spinner {\n",
              "    border: 2px solid var(--fill-color);\n",
              "    border-color: transparent;\n",
              "    border-bottom-color: var(--fill-color);\n",
              "    animation:\n",
              "      spin 1s steps(1) infinite;\n",
              "  }\n",
              "\n",
              "  @keyframes spin {\n",
              "    0% {\n",
              "      border-color: transparent;\n",
              "      border-bottom-color: var(--fill-color);\n",
              "      border-left-color: var(--fill-color);\n",
              "    }\n",
              "    20% {\n",
              "      border-color: transparent;\n",
              "      border-left-color: var(--fill-color);\n",
              "      border-top-color: var(--fill-color);\n",
              "    }\n",
              "    30% {\n",
              "      border-color: transparent;\n",
              "      border-left-color: var(--fill-color);\n",
              "      border-top-color: var(--fill-color);\n",
              "      border-right-color: var(--fill-color);\n",
              "    }\n",
              "    40% {\n",
              "      border-color: transparent;\n",
              "      border-right-color: var(--fill-color);\n",
              "      border-top-color: var(--fill-color);\n",
              "    }\n",
              "    60% {\n",
              "      border-color: transparent;\n",
              "      border-right-color: var(--fill-color);\n",
              "    }\n",
              "    80% {\n",
              "      border-color: transparent;\n",
              "      border-right-color: var(--fill-color);\n",
              "      border-bottom-color: var(--fill-color);\n",
              "    }\n",
              "    90% {\n",
              "      border-color: transparent;\n",
              "      border-bottom-color: var(--fill-color);\n",
              "    }\n",
              "  }\n",
              "</style>\n",
              "\n",
              "  <script>\n",
              "    async function quickchart(key) {\n",
              "      const quickchartButtonEl =\n",
              "        document.querySelector('#' + key + ' button');\n",
              "      quickchartButtonEl.disabled = true;  // To prevent multiple clicks.\n",
              "      quickchartButtonEl.classList.add('colab-df-spinner');\n",
              "      try {\n",
              "        const charts = await google.colab.kernel.invokeFunction(\n",
              "            'suggestCharts', [key], {});\n",
              "      } catch (error) {\n",
              "        console.error('Error during call to suggestCharts:', error);\n",
              "      }\n",
              "      quickchartButtonEl.classList.remove('colab-df-spinner');\n",
              "      quickchartButtonEl.classList.add('colab-df-quickchart-complete');\n",
              "    }\n",
              "    (() => {\n",
              "      let quickchartButtonEl =\n",
              "        document.querySelector('#df-386f316a-1591-4fed-ae56-9d7cbe916354 button');\n",
              "      quickchartButtonEl.style.display =\n",
              "        google.colab.kernel.accessAllowed ? 'block' : 'none';\n",
              "    })();\n",
              "  </script>\n",
              "</div>\n",
              "    </div>\n",
              "  </div>\n"
            ]
          },
          "metadata": {},
          "execution_count": 2
        }
      ]
    },
    {
      "cell_type": "markdown",
      "source": [
        "**Step 2 :**\n",
        "\n",
        "Undrestanding the data"
      ],
      "metadata": {
        "id": "V-iNDkky46Kh"
      }
    },
    {
      "cell_type": "code",
      "source": [
        "df.info()"
      ],
      "metadata": {
        "colab": {
          "base_uri": "https://localhost:8080/"
        },
        "id": "SWFThbQWzsMV",
        "outputId": "3c4b09fd-119c-47d2-a059-4cf97569cd47"
      },
      "execution_count": 65,
      "outputs": [
        {
          "output_type": "stream",
          "name": "stdout",
          "text": [
            "<class 'pandas.core.frame.DataFrame'>\n",
            "RangeIndex: 2919 entries, 0 to 2918\n",
            "Data columns (total 13 columns):\n",
            " #   Column        Non-Null Count  Dtype  \n",
            "---  ------        --------------  -----  \n",
            " 0   Id            2919 non-null   int64  \n",
            " 1   MSSubClass    2919 non-null   int64  \n",
            " 2   MSZoning      2915 non-null   object \n",
            " 3   LotArea       2919 non-null   int64  \n",
            " 4   LotConfig     2919 non-null   object \n",
            " 5   BldgType      2919 non-null   object \n",
            " 6   OverallCond   2919 non-null   int64  \n",
            " 7   YearBuilt     2919 non-null   int64  \n",
            " 8   YearRemodAdd  2919 non-null   int64  \n",
            " 9   Exterior1st   2918 non-null   object \n",
            " 10  BsmtFinSF2    2918 non-null   float64\n",
            " 11  TotalBsmtSF   2918 non-null   float64\n",
            " 12  SalePrice     1460 non-null   float64\n",
            "dtypes: float64(3), int64(6), object(4)\n",
            "memory usage: 296.6+ KB\n"
          ]
        }
      ]
    },
    {
      "cell_type": "markdown",
      "source": [
        "Here is a description of columns in dataframe :   \n",
        "\n",
        "![Features.png](data:image/png;base64,iVBORw0KGgoAAAANSUhEUgAAAvUAAALyCAYAAABaRys1AAAAAXNSR0IArs4c6QAAAARnQU1BAACxjwv8YQUAAAAJcEhZcwAAFiUAABYlAUlSJPAAAABhaVRYdFNuaXBNZXRhZGF0YQAAAAAAeyJjbGlwUG9pbnRzIjpbeyJ4IjowLCJ5IjowfSx7IngiOjc1NywieSI6MH0seyJ4Ijo3NTcsInkiOjc1NH0seyJ4IjowLCJ5Ijo3NTR9XX24gdwUAAD/OElEQVR4Xuz9DVxUdd4//r/27z5g15+Yu1h9Y+mKllbLvA2XwFQoFQuh3YBdBStHS0xz0vIuLUuzvEtaVrqWpBJqE9xL8NpAt0S7BLYESy9oUVy4JGcTx1yhDFi3mUc8zv9zZj4DZ4YZZgYBHX09Hx6Zzzlnzs3n5sz7nPmcMz9QBBARERERkc/6/8m/RERERETko7p1pd5gMMhXRERERETUl0JCQuSrDt0O6oOCgmSq7xiNRqc7QeSMWk9ZX4iIiOhq4iq+YfcbIiIiIiIfx6CeiIiIiMjHMagnIiIiIvJxDOqJiIiIiHwcg3oiIiIiIh/HoJ6IiIiIyMcxqCciIiIi8nEM6omIiIiIfByDeiIiIiIiH8egnoiIiIjIxzGoJyIiIiLycQzqiYiIiIh8HIN6IiIiIiIfd1mCepNZviAiIiIiokvWp0F902d/xJO/isEvH3gbn8txRERERER0afomqP9nJd58Kg73PvU2/vpPM3DRJCcQEREREdGl6oOg/ix2Pvc0Mj4z445f3omfybFERERERNQz+iCovwlTFm3CWzt340/Px+LnciwREREREfWMPul+Ezj8boTfMkCmiIiIiIioJ/XpjbJERERERNTzruqgvn6nHrqdBplyrbksDQmvHwVv3702NR/Ogu4RHRLcDOsOtsp3kNq2ln7YJFPXuPoC6JYWoUEmiYiILoerOqhvOXcUFefcB2LmC0bU1BnRItN0bRl4WzSeWKjHctswMwyoAe6eqRknhsSRV0sXMjNq8jOwo9aDH4w4V4L0zHI0yqSN2rb21J6VqWtcixEVBw2d8oiIiKgvsfsNUeAQRNwd1jGMCcH1CEToGM04MQwLlPP7vBbUlOWhrNaD09iz1XjjrSO8Ck1ERHSFuzaD+jYzmi+0ovmiTBN5yaTWHzGY2uQIT9jqnav3ma3TmlucX0E3ORsv3mO3LG36olxeb/+Csyfrsc3jSZtT88k2nyVPHBbsLh9VPZXXcjl2y7At28V729n22d18REREPaAPgvpW/PX1pzF9zlxMX/Y2PrWM+wteVNNieLb4a8uYvmFGff4qhIdHY/JjC6FLikHCyyU46SowIHJgqsnDvNhohKeI+vNYAkZF6/B8ocHt/RgNBzYgIToaE2zvi0nFpsOya1ibEfs3pCI8MgHJ+oWIVZe/IAcV2i7r1VkIj96GKpm0asKeFTF4am/HjFWZIl14FPtf1iE8SawrJU4sNwb6vUbL9Ma9S3B7WDye/wQoXRsvXo/D7RNWYU+n7vHHkD5BTHssT7zOwwx1PjGEv3XMOlnVdsrletpdNCDfNo/YN0ube60cjV21ueptCH+2CBVqnk2KQXhiGkrllwqNR3Kgi4mz5JNOn4oJMauwo94+aL7kvD5XhKdEXpeKstbFiOnxC5Erb81p/CSjY9k6sc8L8lDTbJ3WTqxjz3PxGBWfat3n6WIfdBmouCCnExER9QalG06dOqWYTCYPB4OS93iUMvSuSKfDA9vrnLzH+aCu1xuV6WId6dUypSjfVW5VJt2VrGz8rEWOUZRvP9uqPDRebJ++UDkvx9HVwdv60u6rQiX1rmeUXV/JtM1X+5RUUVdSd5+RI4Qvxbxi3Esfm+SIzr772zYl1qHeKV8dUXZ93ChemJTKPyQrQxO2KuXN1knK9y1KeboYNytfOfm9HCfq7tC7tiqVMmnVqOzSRyqp76vLsVLr/Mjxs+zWdXr3M8rQ8VuU8vZN7Pw+l5yuV7Yth33qvJ4WpXhVlBKbfkT51rYf3zcqRaujlOm7NHnoSF1nXKIyfc0+5aQ2W/+ercSOF+XypUwL3x3PVqZr1tkjeW0p/0Qldkm2UvmNHKeyjO9c/gvvU49vHXl0/n2RD+J4ctq2POF8xT77ZREREXWTq/imD67U34SE/yzG38pLnA5/nnmLnK+3mVHxQR7OP7oKK8Z23PA4cOw8LIrl1+PkXv3BXJSOWYJXHgqSY4Sb47H8yRDsyC9xcaOkqHd7clCfpMdiTb3DjWFIuidQTD6KoreMmL1aj4gAOa3fAETM12NmdQaKauQ4L5hi59mtK3hcNKIuGtHwjRzRUxz2qdN6Tu/D2x+Ow/xZYRjYT47rF4i4mTo0vl+OejnKKWMY5i+LQaifTKv5WJgD06x5SLpZjhL8hyXhsYkF2P+Z2oZ7Mq8HIGm+DqMHyaRQf7AApfd0Lv/Fc0NkwuqfTf8AAgfjets+C4PvjrFbFhERUU+7hvrUt+D8WSDi1ptk2sYPobeHyddErrWcqwNCb8VgmbYJvU3Un7JaFzeTWutd1J1D4C/H2PmmUbwvDKGdquUtuGOsGSdOdeOxkf0DnKxLBNE9/bAad+tpMqJKnOqU5GUhPVMzFFYDNe6eNjUA1/WXLy1a0HBaBO7Hi+yXlZmLfWeAhiZ1aT2Z14EI0JwXqLosf41hU1MxpWwJJujWYFN+MSrEvrrs+09ERNRD+PQbwWTiwyyp+0ym3vimxwzT1XAjd+BYJCWnYI52mLsWu0vmYbScxRt3TEy0X5YYXkgvxtZpl/JookvL607lHxSDjOIS7F4ejztRi/zNOoyKWYU95+R0IiKiXnANBfUBCL7ZDxW1jjc1tuJEZZ18TeRa8K2RQGXnK/L1J8qB+0fg5zJtLxC3hfqh9JOjcLyf0mLwrfh5/6M4YXAIDC/UoaImCGOGymD1x6L+ognnteefbU1oPCVfd4OpzfOfW/uuO1eabwpBVJPIL9MADBzkMAS096vxkDUfy75s7bwsMfhburr0UF67MPhnw12Xv6N+fggeFoa4JD225OzGlrElKDrcjW9diIiIPHQNBfV+iHhQh+CdadhcJj9c28yo/+/12H5S00eWyIXBk5Mwsz4D63bWoVkGuc2HM7As0w9PzBiHgdZRnYz+zRJEHcrCS3vFCaXtfTXF2PGJqIf9hiPpySHYsTkDpbYruWYD8teuR9nEVCQNleNuHYGo/sXI3yefLtPWiqp3c1BkTXkpEMNGBqHi/WJUqScJoh247B4SMhRTUID8/bLNmL34VuLGqZj/6Fms21iAGs2TX5prirAp20Xg3QU1HyPy12NdmaY7i9mIirfSkH/amuyRvHYheHIK4pyU/+YPtCcoolzyC1Bq0PzoXUstjp8EAvrLTkGGAugX5KDqavgmhoiIrhhXd1Dv5wd/7eftUB3e2RqJ47ZH+YXHYV1LCl6ddYv4xA0QYT+R8ENr8PWjH1r+dOgfidW5qxD84UKEh8tHPK6qQ/y2DCwe0UXtCYrH1pxk4D91GCXfN+Hlo/D/f9a7NUN/8xp2/sqI55Ks026P1CE3cAl2vxLT0X/bLwzzNybj/O+TrPNEJ+O9gFQsnyynawQPdNiW/gEIwBAEa27UHJayBouRixnRYlnh0XjuoItfXh4UgxUvRaPiFdlmEnPVH9u1cL8eP4xemIFtdx5CarzcNzFM3nwUwWOHujwJsrAFwFq2fNzekY+3T5qH7H+NQ4TtvLwn8lrqVP6DovFKjh4B76bK8o+Gbv9QvLwyGv5BtuPHAASHtCB3QZyYHoNpiTGirFbixAMZePZeayf95lN1KDtcjMqevseBiIiuaT9QH4EjX3vMYDAgKKjvr24bjUaEhNg/aaJLtqt5mqdQ2Kg/HqTeCWf92l5Q53UyH/kutZ56VV+03NUH9YeF2vy870aivk8EfgPtbgKV1B81ajHDX1svHTnO47idruq8q/1Rt+eHYnvc7YZlvcDAQXJGb9cjqG3O1N+Ddam6WI6F+uNRF0X+27bHmUvJazfrN7WIffHX7Iuz+S3biK7Lk4iIyEuu4pur+0q9+kHq4sPUv70frsQPXdJyVx/U4NTrfuGC+j5nQaaqnxqkugkAHedxnFdNO3u/q2V6GmRb1quZ0dv1CGqb82hdqi6WY+EnltVVQK+6lLx2s341ULfbF2fzW7aRAT0REfUNPv2GiIiIiMjHMagnIiIiIvJxDOqJiIiIiHwcg3oiIiIiIh/HoJ6IiIiIyMcxqCciIiIi8nEM6omIiIiIfByDeiIiIiIiH8egnoiIiIjIxzGoJyIiIiLycQzqiYiIiIh8HIN6IiIiIiIfx6CeiIiIiMjHMagnIiIiIvJxDOqJiIiIiHwcg3oiIiIiIh/HoJ6IiIiIyMcxqCciIiIi8nEM6omIiIiIfByDeiIiIiIiH8egnoiIiIjIx/1AEeRrjxkMBvmKiIiIiIj6UkhIiHzVodtBfVBQkEz1HaPR6HQniJxR6ynrCxEREV1NXMU37H5DREREROTjGNQTEREREfk4BvVERERERD6OQT0RERERkY9jUE9ERERE5OMY1BMRERER+TgG9UREREREPo5BPRERERGRj2NQT0RERETk4xjUExERERH5OAb1REREREQ+jkE9EREREZGPY1BPREREROTj+jaov9iK5gutMLXJNBERERERXbLeD+rbvsanO17GIw9EY+SkOIx/IA6/HB+HR17diy8uynmIiIiIiKjbej2o//ztGXj89QP4HLfgjqhfY0bULxDYvxWf734V0zeVoVnOR0RERERE3dPrQf3tk5djzavv4OM97+BPGxdj1cY3cXD7YowS00zFe/Hx19b5iIiIiIioe3o9qPf/+WQkjL8FA/vJEapbfmEJ6lXffS9fEBERERFRt/TtjbI2Df+Hz9W//W9BaKBlDBERERERdVPfB/VtZ7H793+wBPWjnnwIo7RX8ImIiIiIyGt9HNSb8Xnms1jzsRn+45dh469ukuN7R/1OPXQ76mTKFTOqsvXQFxplWmprRc2HWVi6QIeER6yDfkMBKoxmOUOHxsMFWLe0Yz7dC1nYU9Mqp3qhpRzrFuSgqvMqnBPbWF/Wed35VU1yBlUrSl/V441qTxdKNs1laUh4tdz9zdz1BdAtLUKDTPY+M2oKs5Bd5qzO5lnrg7rdbUaUvivqQ81lKntv6/M1qLm2GNkbVom2m4bSFjnSA5a6+fpRmGS6V6n1+4ViNMqkhbOyNZYjO7MINX31VLO+Xp8jZ/nSqwzYsWAV8k/LZCcujgs9qc/32Us85tA1rg+DehHQZz2Jx3f8A7jlt3hr7TT8rJev0recO4qK13Kw54Ic4cy5fcgUH477T2nu2BXBUP7SOBEYVeO2B/VYvlAd5iGqfwmeio/D82W2gF2cEPw+BeNFQGeKmCfn0yPpNiO2zxPv32GQ83noYiMaDlfj5Dcy3ZWLdXgjNQ7T1pYAESnt2xgXWIt0fSIS3jomP/BNOH/6KCpPeRExkIX5ghE1pxtFKbvRYkTFQUPvfNCdK0F6ZrnDslvwxcFcZB45qwnqWrH/hTgk72rBmDnrkfNkJAa2fY3K93Oxp7a3P4JFMJGfgR21DjnlTX3uBlNtATbl1/VNYNsLmg+swYTH8/HtGB22ZugRFSAneMBSN+uMoib0AbV+7621P2l1Urampmrk5xajRntNoRf19fo6cZYvvapV5HkJ6l3ur7PjQnc1YX9mFkrPyaRNn++zl3r5mEN0peuzoP7M+6vxePb/waQG9G8uwKj+ckIv8+9/COnv2AJcR2aUbk9DqUzZNB/MwvNH4rGtKANP3B+GiLvVIRJJizLw6V9eR8qdA6wz1uZi6bsDsPqPOXg5KVLOF4a4R9dg91/EuIlB1vl6nAjgXklF+oVE7BTbuDopRrONafhYrPuFe0PgL+cmH3a2Gm+8dcThQzQQcb8rwafPhHWU8bmDyP8wBMtXpyJuWBAGqu3LbzgWF5Qg56Heqoc2Lagpy0NZbd+eOLbUHkJ2WW3fBLY9rgnFhcUIfXIVFt8/BMGD/OR43+U/IhV7/5qBpJvliF7W1+u78jk5LnTbWfzvWzmoOCuTROQT+iSoP7NnBX698bAI6H+N//zDAoR7cUXqUkU8oUdU/lbnX1kaipB5KBGzk2Ra+uL/SoAxQ3CnsxOPG4dgmLy5t/FktQi2RuDOEGvaTkAIht2s+aA2O/8lXVOLi+vAbWbLr+82X3Ay/fQ+vP3hYCxep8doZ9so1j06VJ54uGGyrEMMri5Ht2+H618CdruMq40tT1yVnU1XeadOs3Ub8HR5Wo716axBnJyGda6LF12Um/x15/ZtcORBuXulfXld7GNPrNNFO1Np21r7697cri7z+CzqPwHuvt3ZwcMJ2za4KC9XxxGn49VlOY7uibwXHNfXrXzWvsdN1xqv16eOd7EJTvPKXTvR6oVlm1qs83hcJo71X5u2rc/FNnrNsbyc8Sb/bGzvcbXc9rL1vq7aPqsupY4TXcl6P6iv+yOefEUE9OKl/7+P4/WlczF9Tsfw9O5/WOfrLQHRmL0I2PxeucPV+lbsf3MbghfNxlSHwDj4P8KAyjocd3MgGvwfQ+GPahx328umCXtWxOCpvQ7fm1ZnITx6G6pk0qalMg+6mDgk6xciNj4ao1I2YL+mm2Rj5SFU9Y9BxDA5ohsaDqRhxqRxGJWYCp0+FZMjo5GQaf+NhqkqBzNiYhC7YKFlngnR8Vj634aOeYzFWBobjQmPqdPFtk6KwYzfH72qf1Cs8ZMMJESLfU4R+6yLQ/iCPNQ42eHGIzntZWjJu5hV2FGv+ZCq3obwZ4tQcWADEmISoVuQLPI3GuEritFg+cA5hvQJ43D7Y3nidR5mhInXYgh/65g6EVWZMQjPUl8bkJ3iOF+07CLWhPxnRb37UFPvLhqQ/7IO4UnWMtMlxSDhtXI0aj7k3Ja7RuPeJWJ98XheBKila+Mt23j7hFXYo1llR30W9WySWp+zUOXQttzml1ZTMeaJ9YxfWw58sgHj5T7rxX5WvS3K5LXOfc1Nh9MQnpKLGjVxrghPRa9HflnX7Uzl1XbZXKxD9tPxGDU12fKeyRNE23q5CPVyn+t36MT2piJbvM5+zFquo152de+GGfX5qxAeHo3JajtTy+vlEpy0C0qOITM2BusO229X88EN4viyEvkOXShqslMw4W1rPVJ1ax+dseTryo6yt6S3obTGXfmr+7gG40X9t+zjdFG3RTuoKFxpaSMuO491Y32NH4plphZ07j5yugCzRJ3Yb/vax00ZOuP5st23QTSVY1OK2PZY6/onxOiRXeP+O6mO44KVmn6q8Cj229aXItpHZAz0e133u6/KjO5UP2+flGP3OXXS5XFL8mQfHbUZsec5kefx6meSeI9aD3QZqLB1nxXT929I7WgLjyVgVLQO6R50oDfVF+H5lBhMshzTFmJSjA6bPnH4PCa6GijdcOrUKcVkMnk0NB/9g/LAXZHKUBfDLzdXKM1O3udsUNfrjcr0SCX1/UZFMVUrG+OSlcy/ywmq49nKpIRs5fj31vmGplfLCYKpVtk+J0oZet9cZUlavlJUeUo532ySE7UaleI1ycrQ8XFK6vpcZVdprXL6G+fz7dLLbdGq3CryYKtSKZPKV4VKqsiTkYvzlePNctz3jUrJZrGOWfnKSbGtKsv26guV89akG87WbVJOfrxPqTyj2dYz6rpnKe/Zsvh7kWfjE5WNn2nmaa5VSj4+pXxnScjl7j5jSVmIbS3/oFr5ViYvN2/ri6Pz7z9jn8+W8omy3+cvC5WF94m6oi3Hv2crseOfUXZ9KdPCd6K+TR+/RSm3Zada9uOjlIfSjyjfynK1lkGU8lKFJs8d64jUqc46nc+x7FuU4lVRSqx2naLMilZHKdN3yX1yW+7OuKjf7fW5UDltW9+/joi2GNmxPpUn+eVEp/JRqe36rpVK0TcybdGiFC3XrNPDdta97RL5uTjKfp+/P6PsUsetP6TJQ5HPYhs2Ohasg+9EuU66K1mUR4scoyjffrZVeUjUHe2+H38zURm5+Yhm+dZ9Vo+xdnn9fa2SGRfVsV5P66pj3bLkoXjfVzKtchwn28svl3dd/t9VbFFG3jVXyfxb1/vYSXfW980+ZeFdiUrmcWvSxj7/PCxDx3zxaNketEHZnjqtf/kUkU9d1xnH44KaHjl+ll39Ob1btBs3bctl/bTsc6T99nc6bnmyj53Z2nP7PgvnK8TnlK0tm04pJeLz5bRmuy378rBoszLttF5+c1BZMt6+DSmN+8S4ucp7mnpP5EtcxTe9fqXef/hj+HN5Cf7mYvh40Zje7/vtNxzzFw3B9ndL5NWwJuS/kYOoZ1IwzNnNun5DMDtrD/a+OBXXXyjB9lU6y1WkUbGpWFdYh+b2qw2BmPJiLj7OSEUEqpH7+4WWK0O3T0qB/q2jXV+VcCkI8+cmYpiti1K/QETN1WFKdR72n5TjLpkfQu+JweggTfegoDBMGVuHL87Iqx4XG3H+4gDc8BPNPAFDEHWPra9+ExpPAdcHDrakLMS2Rtw/HANl8mpTf7AApfcswSvaPuo3x2PxXG0XCjMqCnNgmjXPrq+v/7AkPDaxAPs/01xVuhiPRfPDOn6YLWgcptxjRsO5Xuolbum2NQ7zZ2nWKcosbqYOje+Xo15Nuy13bw3B8kXxCLatr38Ypk4Gqs7Ybkz3Ir88MSwGs0eU4L0DmiuRYr/fOxCNhydr7y1w1866uV0GcbwoC8PqZzX73C8ISYv0CM3Px36vLg6KbfggD+cfXYUVYzu60w0cOw+LYu3XP2xcHK4vLEGlbfSFQ9h3KBEZWxJxYk95x9Xj6n3IhA7xI9RED+e9UyGijndV/q0oKywAHn0KT4zQ7qMeLzh0i/SMm/UNisbMGY3I3Kv5Nsd8FAXvAPOnyb7o3S1DT5btSRsU68/9JLLz+ufPQ6hMesMUOw+LNfUneFw0oi4a0dDtm0kTsbyr45Yn++jEP5v+IT5SB+N623uEwXeLz6lBMuEXgijx+RKsOTQF3x2NiBoDGrqoqg0HcrFnnA7zNXmAwBjMmfM1Cj7x8mEWRFe4Pnz6zeU18F4dFp15HZlVZpg+ycG6Zj1m36M5OjjqNwChExOx4qUM7P5LCf5eXoTdz47F8Vd1SH7X/jGZg0fHY/bK9dhdUIy/f1qCA2mJuO4DPSa9YDuJ8MZwhDre+DUoCMEwovKk9dNksNo96FQT/mlJdVNbE2rKipCdmYX0zAwsXbAK6TXiANgkD8wB4/Dw40C6Lh7zNuQhv+wY6u2eIjQEcU9Eo/jpOMx4IQM7PjyKGieP+7yatJwT5R56KzSnMRaht4nyaNeChtMiH44XiXxV89Y25GLfGU3+WvjhOidVsPRUL92d1mREFRpRkqfdLjEUVkMUnvWGU7fl7q1A+P9YvtSqPyW7VXiTX54IQvyMaFS9U4waeVJdsy8PJ2YkYootOLBw1866uV3qU2lEYHnbjTJtc3MI7kY5jrt8HKEzLTgvqkLErY6P/hUn5bdr65wwLBqzQzoC8cayfSh7MBoT74lGUn0RSi2xiwji9xfg+oRx8mJGT+e9M+7K34RvxWo676MI2G512EePuFufHyKm6XD9TpFXsl43/08BdoQmI87WnbHbZejBsj1pg12uvxv6Bzg5IRfBdbcPM26OW57soxPDpqZiStkSTNCtwab8YlSIeTv1fRfH4NLCPOvyXlsD3dIsVIo2e76LE5TGM8fE+w5hu3ZbxFDwN7E557rx6GmiK9g1E9SjXwiS5kYid3sGNr9ZjpTF8eID3At+gSLIT8WWZ8JQX1krPyCc6OeH4NGJeHllMkwfVuMLOdpzLTBZP5c7CfC3HpqDbx0Cf+MhVHoVIGiYjyH9t/FYdtCMOx5IxJzk2Xhh/SrMt+uj74fR83Pw6Z8zMP+eAWj5JBuz4qM1j8oU2zFtPT79aw5emDZUHB2L8NIj1r6VLvPmKmVyUmB3iBPCOckpdsML6cXYOu0y/4Ry4FgkOWzXnLlrsbtkHkZbZnBf7r2hJ/Nr4H2JmHkhBwVHRLk4Xilt576dqXpsu9rMIqTuOSaTY2gUgqhfDceOvxxCswhy9u0+ipQpYp/9wpA4qxUFFSKqN1djf+EQzJ48RL7H6kqoq6a2zrXrO5FnvcLu2xwjinaWYMqMqe4/DzwpQ0+W7bYNutDDdahXdWcfg2KQUVyC3cvjcSdqkb9Zh1Exq7BH3hNiqs7CtNg12G8egvgEsbw5S7H1RR3GWCd3afDYePttEcOiF8Vxbv5wOQfR1eHaCeoF/3t0WI0C7LgxFfNHd3GV/qLrQ6flw7Sf/NA3m13eRW8J9PrbggN/XBcA1DfZf2/b/JWzSyVHO18JOl2LSgThtpvl14cj4rF8xDHLzb8dXYE0xMHfVcBiceoI9hgiMfuJRESEBGLgoAEYGGBGg+UuQnv+gSEYPVH9JiINH2/ToTnzIE7IaRb9gzDs7hjMfGYNdhaswd0H9qHE8dnGV4nBPxMfAOKEzvFGuPoT5fKVKhC3hfqh7MtWa746DP6ar5a98V23unI5uEkEfk1i+02dt2tggH17cFvuTjgLzNy7xPwSq/xOvmxnCWQHI7+sGg3qldJxqUjpdFO5u3bWze1S81i9ed5x2SdrUYoY3OVV/4kABN/sh4pax5uUW3GisvOP6gXfPRWjPyzB4apyFDTZuthYu+Y07yhBVWUJ8kOnIqr9G4reqaveCcSwMUGoULtlaOt4mwGl7x+ViZ6m+TanphjZTeLzYIqma8YllaEHy3bXBgODRODrav197Hv51xteHGc6US+KDQtDXJIeW3J2Y8vYEhQdtn5u1h8pRv09yVicFIbQG+Xy/m0UbbZrwbdGorHOCLPjtqiDm80h8jXXVFCvfoAkbSnGp+tiuuj33YQ9a6MRviAD+VXGjsdqXWxC/YcZWPafBsRNG2fpglH1bhzCH1mD7DIDGm2PTjO3oqEqD0tfKEDonGh5VWIA7hgzHA2796FCXmAzGYqxeVed06tDuZvTOn70o6UOO17LwImJqUgaKsf1C8HM9SsR8ZclmKzPQamhCc3iRER9/FlDVRE2pcYgfLPtaRrWE4qKg4c6nk4QFIKI/kdxolZ+9aj+EumuXHG6o3G6BNmFx+z6KjbUVuN8UAAsx8GWY9iRLz6INV0zmsWHzhciELmuj36DoK8FT05BXH0G1u3suK+i+XAGNn9g/8kw+jdLEJG/HuvKNF8fm42oeCuti1+DdCFkKKaIksm3deQVJ5LdduNUzH/0LNZtLECNttxqRJ3Jlk8tclfuTonAbKQamBWjSq3f6kmlFych3c2vwbeNQPCRIuypttZj7YnssPhZiNiZhnlvHsLMhGin7d1dO+vWdok8Tkmqw+bXRB7bLqZfOIpNq7Pg/3gSJnr1OF8/RDyoQ7DYj81lsvxF3tb/93psP+nktwdunoqHJxeLdeWh+Ve2LjaC2jVn0B4sfbkAESIvtMccj/bxx+LkAuXYd0TTVaF/gGjpR7H/kOunqHhq2PQ1mN2ShqfE9pXWGNGgBsMr0lD2E/tvFHrSwCk6LMYeLFudg8GzYuzvrfK0DJ3li+Bu2W7boCjHx+53sv7Xi510o+ktIbhzsmgjhcXWe8O8adOe7GMnrajKF+Vv0ORlSy2OnxSntvLiWHBIGPzVp9LZ8kRts3lFMiE5qZeDJ8/G7DNpeE5z3LZ85hVm4I3Dcn2GAujVX6Lt4ulGRL7g6g7q/ZyEIX5Ozs7FfP7t4wIRt74IWyOakL8qBeHR6uO91Mf0xSNhqwExvyvAlsnWKy+jZ+9G3qOB+N/fp2K8eoOsOl9kDCYvOYgbFuVi9+yOD6Xg2FVYPawIumjrI8ImrKnFlMWznNz4FI1Xng/D/qfl8qJTkYl5yHslxr4vd1A8tqldJAYfwrLEeIRPiMaoaHXdeWiITMNHKyNlIDMAU55cg4l/24DJ4eMwKvOYOEpGY/kf5qF+rQj+E3WYFp+M7QEpWD624wCKwBAEHN+KhEjxntgUjJ8wDtN2Dcbq9BRYLnr2vwmhF/IxK1593FkKpk0ah/AVdYjfpscUrwKXK5j6YWz7VkY1SJRNjh4B76qPVVPLMRq6/UPx8spo+GuDXlE2W3OSge06jLLMp+bRPGT/axwi7O7VdAyUrSdgw27UXNkbFIMVL0Wj4hX5uMhE+VhGUWeDtRVZbKd/+zdDHX4k9qG9TMXaRi/MwLY7DyFVLTd1eWKYvPkogscOtdYXd+XuwrCUNSKQycUMtX6HR+O5g7YP584neX4DRSbcNFhMkTzNL0fDUrBlvvq2GMt7Rq3V3MNiCcwMqDfrkDjWscGrwrD6GW070+H3Jod21q3t8kPU8ly8csO+9rZ++6SVOPFABt5JHW4XlPn3F8cdbcDnzFAd3tkaieO2x4WGx2FdSwpenXWLyFrH+jMAE6fE4Lzxp5g9VRsQhyDqVz9Fw4UYJE106FLjyT4OFfn8uB9y56n5vMT6CElxDFn80jhUvpwkxkUjvVqM+6G6d47l7UH59x+OFTk5mD/oKH6/YRWe2l6L6+duwOp73XT/6e76VP2GIG7WT1H/z2g8ZncDtcrDMnSWLyo3y3bbBtVj9nM5WN4/B8ly/aMWFOPOlUswpX8QrnN2z4CN43FBcExbA1/1B89k2qkBiFu0BlOOrMd4tV6EpyDb9qAGt8ctT/bR0QARtLcgd0GcmDcG0xJFnkZb8/zZe63LHThRj3fmGrBMfM5Ne0Qcm6bn4rpkPSK0Ze6sXqr1KysNYw4vwQRbHQ9PwEtHghAxzLrs5lN1KDtcjMpu32dAdGX4gfoIHPnaYwaDAUFBjger3mc0GhES4uGPtajUs3J3H5oq29m7s3nbzNar9f3dfFVnm089aXD4ULGj/rBGm1/H15CO26hJq1feTf6efUWo/qiGyc26TRfM8Hf45Ur1fQiQX7W7yC93y7ZspziQu/1qtY+p9dSr+uKMqzxxLBsX86nf3DRfFHnj7BdDnb3H1XIs9Ut8sHX1y6Ou3uuCpVy7qNee1KlO1Pr9Qw/ypTv55YqaNxdF3tjVPyN26JJQFJePnUkOx6pzRZgXW4Ipf0lD0o1OytKZ7m6XOCb429qXo26UV3tbVXmbt+7W524f1eki+LLLJ3UfTeI9rupId7dFqMlOQsJXS/D5ykjPr1D3dJ64K0OVs3xRebCP7tqgZdlq/rr6vHBHnV/l+B4vlqO2D/Xzr8t618Xy3O6jI0s9FKcKLtuNw7HQ6fa4qJeelCeRD3AV31zdV+o9bbTqfK7m7ad+yHlwQLLN5y4AUg9u2uDDcb2atHrg8fRA6O/Buh0DepX6vvaDm4s8cLdsy3ZeYQF9j3GVJ45l42I+y0meqyDJ2XtcLcdSv9zksav3umAp1y4W6Umd6sTxw9vl/si/jrrKL1fUvHGsf2oXjmrHx1g651E76+52aduXo26Ul92yvF2uu/W520d1uuNkdR+7qiOebEt9AfQbilDT1NF/qrm2AL/f3oiZ9zne4OxGT+eJuzJUOcsXlbtlC+7aoGXZXX1euKPO7+w9XiynUwDs5fLc7qMjSz3sqt04HAudbo+LeulJeRL5sGusTz0RXQuqDuUCj6Y4PMZSq3M3DbpMQqIx8/pyLPut7AolhvDHcxCwKAfL7/YmGiQiurZd3d1v6JrWI91vyDe5617gRfcD6kNq9y2zw5VYIiKyc212vyGia5O7gJ0B/ZVJ7b7FgJ6IqFsY1BMRERER+TgG9UREREREPo5BPRERERGRj2NQT0RERETk4xjUExERERH5OAb1REREREQ+jkE9EREREZGPY1BPREREROTjGNQTEREREfk4BvVERERERD6OQT0RERERkY9jUE9ERERE5OMY1BMRERER+TgG9UREREREPo5BPRERERGRj2NQT0RERETk4xjUExERERH5OAb1REREREQ+7geKIF97zGAwyFdERERERNSXQkJC5KsO3Q7qg4KCZKrvGI1GpztB5IxaT1lfiIiI6GriKr5h9xsiIiIiIh/HoJ6IiIiIyMcxqCciIiIi8nEM6omIiIiIfByDeiIiIiIiH8egnoiIiIjIxzGoJyIiIiLycQzqiYiIiIh8HIN6IiIiIiIfx6CeiIiIiMjHMagnIiIiIvJxDOqJiIiIiHxc3wb1F1vRfKEVpjaZJiIiIiKiS9b7QX3b1/h0x8t45IFojJwUh/EPxOGX4+PwyKt78cVFOQ8REREREXVbrwf1n789A4+/fgCf4xbcEfVrzIj6BQL7t+Lz3a9i+osH0CTnIyIiIiKi7un1oH5U0iZs3JqHz/a8gz9tXIxVG9/EwV3PY5KYZvp4Pw5/bZ2PiIiIiIi6p/e73/x0DGJ/eRP8+8m06qc34WfyJRERERERXZq+vVFWairdj4/EX/+YaRj/U+s4IiIiIiLqnj4K6lvx141xGBkZbRnuffbP+O6+xfjTiokYKOcgIiIiIqLu6aOg3g8Dg36BO+5Qh1ssgXzT//wBK987DpN1BiIiIiIi6qY+C+pHPfo7/Gn7m2J4Bx8X/yf0w804kf0y3j0hZ+kF9Tv10O2okylXzKjK1kNfaJRpqa0VNR9mYekCHRIesQ76DQWoMJrlDNb32aY5G/T5BjlvzzHVFCH93XI08Fn/PcyAHQv02FEvky61ovRVHdKP2OpBHzCWIzuzCDWOj4A9dxQ7XlsD3SPW7b7cdUNtb0s/5POsPKPWIz3eqO7DeuTGlXZsuWz16Qpsb1fscd/yOZmHdUvFZ96r5WiWoz1SXwDdC8VolMkrTks51i3IQdWV00SJ3LosfeoRcCcmTbpFvDiLqvree/xNizgIV7yWgz0X5Ahnzu1D5utHsf+UZjvajMhfGicOUtW47UE9li9Uh3mI6l+Cp+Lj8HxZq5jJD8HjdHKawzBrHPxq6nBezNPTWk6VIPudIwzqe1wrGg4fRUOLTLpkwvnTdThhdDtjN5hRk5+BHbX2nyKmpmrk5xajRhvf1OZgWmwaTvxHPFZv2YCkkD6sG+dKkJ5Z3unDWG1ve2rPyhR1Ta1HR1F5qjfqUfdcaceWy1WfLmt7c9W2rsjjfiv2vxCH5F0tGDNnPXKejHTRnbYJ+zOzUHpOJm1ajKjYW4sGmbziXGwUnwnVOPmNTBP5gF4P6pv+9wD++g81CNZoE8H8p/+wvAzo3/OBr5Z//0NIf+eYi24+ZpRuT0OpTNk0H8zC80fisa0oA0/cH4aIu9UhEkmLMvDpX15Hyp0DLPMNHmqbph1G4EfHS3Bi4kpseSjIMl9PGjwtDZ9/pEdE72YbXRYtqCnLQ1mtfaDnPyIVe/+agaSb5Qih6sMc1CfpsTopDKE3DrA8XarP6sbZarzxlggwZJKuDjy2WF3W9uaibV2RZXPuIPI/DMHy1amIGxaEgf3l+E7O4n/fykEFz/eJel0vB/X/h90vv4wnZ8Thl7+ai8df+gMyXn0B0xNmYU25mHzLb5EcYQ2Qe0vEE3pE5W9F/mk5QstQhMxDiZidJNPSF/9XAowZgjudHaRuHIJhgfK1E6Yj27A0/yasXhaPYO1jPFVtZjRfaLUMJidXXEwt8gpt+3xOvvdTp2m/Ftambe+zLccJU4v9+tW0s20hjYuuy8yOnM+ufGzENG2ee7Q8jfa6YdGEk/VmRN05BP5yjIVj3bBpr09drNO27V3UHa/YltfV4rrKL1cc67irfTbLZTvbH+17HJfnjKflqs7jsBjLOCfje1xX+ytc0ceW9m3yok3Y9tfZfti4q9NdTO/N9mbLJ6fvdaXb65L70T5fF/nlTFd1/6wBpQjDnSEyfSls29dF/XJXx51yV0/c5F9XbG3b2/cR9aYfKIJ87TGDwYCgIA+vQv+zEu++8RayS4+jqf3A4IfA8Y9g08pHEO7FIy2NRiNCQjw/glT9fhwyby3CavNKTPu/2fh0ZaTmoNyK/c8lYN+9u/Hw8RjMQBb+vmi4ZUrj3iUYvzEI2/YtQZTLqw9OXCjB0vg1wIt7sGWy/clKw4E0LN1QgC8GDUHwvw2oMY3A4k1r8MRYeYZwrgjzYg1I+eNgZOuzcT5oMM7XGGAaqsM7b6VitG07qjJwu94fO/8qxtnS20OQ8+AxbN5wSJx0APW1TfCfvAa718d0nFg0lWPTkheRXe+PYSEBaDD4ISVjHkyPLQHePoQVloVdXdR66nl9OYZNYan2eXHRgB1rU7HuABA6LAjfGoHolXqMLtRj/+QibHtQlp2YL/+1Ndgssj9YHdUkZpy8FlmLIjHYkv9NyH8qHvVJObhh50JkngvC9RfqUG8egicysrB4tJ+1zr2gnulq9I/Glj+vR9z3at0oQXxxGiYe34AJTxfZf/M0VI+9uckIdawbQuORHCxdkSvqU5Co+2Y0GEOwKGsNZobKS35tRux5YR6eqwhAaJAY12RAww2J2JquR8Qg6ywdjiF9QirecPiAHzg/C58+PtzS3ma0rUTGxQI8p+YFRD0/54cpL+UgY5rmeOE2v5wxoz5/PWb9vhjmG6xtqGHEKmyN2AfdwWh8vDUeg9XZ2ppQkb0GT+U1IVjdn4tGNNw2D3kvJiJU24Y8aTNeluumw2YMeyYHu2eGtLf3KoRAVB001BgR/PjryJs/XB6DrO+1q0dOVGVGY8ZbnQOS0EW52PuoqNui/PZvXoPn8g24Xq2jhjqYR6Ri6zodImyLvYKPLQ0HNuCptUWoDxiC0B8bUXMhBLPXv4YVdw+w1ifNcdniYh2yn1uC9LIWBAwNwQ0X1GPpOGz5o2gntirmrk67m27Jr+61t672x1STh6eWbkNpS4DIp0D8Uy2rcba87LptdSobocc+U5yx5fMRUdfUMlXr70NL8Ooz8aIdGZCdkoJNtXJeCz8k/W4PXp5o/7nntP4OSsXOj3QYre7TY8DLm1qR21X98qRNd2JG1VsLkfrOWQSLvFbfU//vcVj9h1VIChHLaG83x4AQkX8QZfXPoPbjsYWsB1P+koYksW02pvoirFudgRIE4Qaxjf8Uh4X4l9Kw4h7X7Ziop7mMb9Sg3lunTp1STCaT10NzY5Ny/lyT0nzR+XR3g7peb1SmRyqp7zcqiqla2RiXrGT+XU5QHc9WJiVkK8e/t843NL1aThBMtcr2OVHK0PvmKkvS8pWiylPK+WaTnOjC92eUXYujlElpR5Tv5Cib7/62TYm9K1nZ+FmLHKMo3362VYybq7xn26WvCpXUu6KUXy4vVE6LbbL41xGx3ZHK9F1n5Aihcqsy9K6tSqVMWtLjo5SH0o8o39red8a6rJcqbNt8RnlvVqQyadW+jmWr27t8ijLyrkhlY/vCri7e1RdRR+zywiTqRaIyNGGrUt4sR33fopSnz1JGjpf1yqJFKV4VpcRq8//7RqVodZSm3BqVXfpIZeR9K5VdX8pRYvnlaWL5s/KV03KMbb6OZUuWuvGMsusrmXY1n2Pd+Hu2EjtevK99naIuino/ffwWpVxWjfPvP6MM1WvqnHC+Yp9S+Y1MOOO4HsnSjhzq+endYvma9XmWX519V7FF1NW5Subf7NvQQ6Luq9t/Xo47vj1ZGblYuz8m5fibc5WRmzXt0qM243m5TkpYqWRWdmyXus6TH4s8PKM5ZliWP6ujvbsqQze+E9seK+pk5b/UlKijf0h2UkfFOFGvTtq2+wo9tjg7LipfHVF2fWzNk07HZdU31UpR6amO7bG1o/WH2svXXZ12W+e72d7c7c+3lfuUklOaabIMXvpYU08cy8DGg3V1+zOlE1HPxWeZXTuSn28jNfnscls7cTy2Spb3R9q3sU71y8M27Ugse2ScaBeWdmL17d8PifyXyzWdUko+qFZOa7Lecqx6WLQbme5cD4RvDipLxjuUceM+MU7ku+Y4S9TbXMU3fXqjrH/AAAwcZO2P2Kf8hmP+oiHY/m6JvDu/Cflv5CDqmRQMc7YtfkMwO2sP9r44FddfKMH2VTqMj47GqNhUrCusQ7OTr9sa9qZh3ZeJ2PJEmP1XtDCjYk8OGh5dhRVjO65iDBw7D8uTjmHzB8fkGFUIFs3XdNvpH4apk4GqM25uJr4YL94XhoG29wWNw5R7zGg4J/tm1xYjuzoSTzylufrRLwhJz+gRIZPkwHwURe82YvZqkUcBcly/AYiYPw9J2qtpp/fh7Q/HYf4sTf73C0TcTB0a3y+H9mE6oXNTNf10/RBxXxRQbeylpz+IeleYA9Mssb2avsH+w5Lw2MQC7P/MevXsn03/AAIH43pNOxh8dwxGd7pK76EkPRZr6nnwuGhEqVfWbDebeZFfHVpRVlgAPPoUnhihbUN6vKDtOifKrGC7GfPnaru++WHY9BRM2VmCCu0FQ3dtxovtHJiQiidGa69Q+iH0HpGH6lVFm6AwTBlbhy/OuOgG4AljEZ7SVyMlTW+9yqrW0beMTuqoHjOrM1BUI8dZXGnHFutxUe2nrq0vuDEMSV1d8Rw0HHETQzq2R21HE0U7qhF1TI5xV6d7vM5buN+fgaNjEBWimSbKIOpeoPK0UY7wVC9/phjEZ15ZGFY/q3mfWqaL9AjNz8f+Hn0gUSKWd1W/vGnTGs2NTTANEmWs+TAeODRS5L9sk34hiLp/OII1TTT47mhE1BjQ0EUTbTiQiz3jdJivLePAGMyZ8zUKPun5p90ReevyPP3mMhh4rw6LzryOzCozTJ/kYF2zHrPv0bRoR+LDMXRiIla8lIHdfynB38uLsPvZsTj+qg7J7zo8JtNQgKVrz2L2mnlOvtJswfmzQMStN8m0jfjgvz0MphOnNEFdIPx/LF9q1WvnccYP1znZldJT8s6kf7eID7wQ3Kb5CtHixlvxc/mSHHzTKPIsDKGdiu0W3DFWvlY1GVElSqckLwvpmZqhsNoSaGhveb2+vy3y0jLgpONTIXqEKPPT4tPpeJH9dmXmYt8Z8eHUZN2yYVNTMaVsCSbo1mBTfjEqxDZfUh9RsY/2J7UqEQTbbpLzIr86mPCtmNC5DYkP4lvD5CvhGxHYiROuyr0Oy36vRJSlEeftnmLhps14U64BTsq1rQk1ZUXItrwvA0sXrEK6CLJt+e61NiPyX80Alq3BTNs3rl3WUTNOnNJGX1fascV6XOzUT90DzYZj2JMvy2PDKiRsKLIrE3d1usfrvIUH+9PWivqqYuyQdUl9DOS6vWLTzzk8SMKtXv5MuWBEjbMyvTkEd4u2fNzZ/Wnd5qZ+edWmOwwcl4Qn2rYhIX4J1r1bhNIqQ+eLcefqUFqYZ12e+qjSpVmo7GKZqsYz4oTp3CFs126LGAr+1p1yJOp510xQj34hSJobidztGdj8ZjlSFoszfznJI36BIshPxZZnwlBfWdtxQDQfQ/qSNPFhux6LR3RxkuCEydTND/hu+s7xoNbGn/7ynjgpdOj3isCxSEpOwRztMHctdpeIkzw5y+VyhzgxtdsuMbyQXoyt0+TV0KAYZBSXYPfyeNyJWuRv1mFUzCrs6ZUTDamb+WVyUl+/a3O8rDYEU37jsOzkpcj6aINdv1iPdLdc1WPCb+Ox7KAZdzyg5v9svLB+FeYPk9O9ZkZV1lKsu2Ettj7oyb1MTupoL+urY4t678mER7bi5IBoa9nMX4WcRVPlVMldnb4cdR5N2KM+JjnDgOui4ix1adHzr2P5/XJyD+nVzxTR1i7he6ZL0I023X84Fv+xGB/9YTYmDmpF2Tt6TIjWtf8uhKk6C9Ni12C/eQjiE8Ty5izF1hd1GGOZ2rXBY+MdtkWU5Ys5+HS+5t4Posvk2gnqBf97dFiNAuy4MRXzbTfDOHPR9aHLctDsZ7sWIz5sM9cj+z9WYstvXN2QGYjbQv1QUWtweKxmK05U1iF4zFDrDX69KXQE4sR+73f4rtJUUYJc+Zoc/CQIwf2P4oTBoS5cqEOFtlvDTSGIaqpFg8natcxuCPDuJM/GWfDqPWu9K/uytfN2icGuC1w/PwQPC0Nckh5bcnZjy9gSFB12/x17p0DOE93Kr0AMGxOECrXbi3adbQaUvn9UJoTBt+Ln/Q+h/oKTZQ/ysiwupVxPHcEeQyRmP5GIiJBA+R4zGuy6w3jOVLUNzx2IxDuLtDf6C5b9dVVHgzBmaB/cuNftY4u1fpZ+ctSLHyxqReWhcpiSnsLi+4cgWJaH+YKT7ivu6nQ367xrbvanpRolZWak6OXjHy3brv5WgZzuoOu21cufKWrdR3XnK/Ina1GKGNwVKtPe+l7+9caltGlRxoNDhiPqwWSs/l0R8ma1Iv1/rN+y1x8pRv09yVgsH1FqWd6/jai0THUt+NZINNYZYe60LWLo3uGeqEddU0G9ejBM2lKMT9fFuPiRDFUT9qyNRviCDORXGTsen3WxCfUfZmDZfxoQN22c5aBp+bB9dwAWzxmHgbbHlGkH+d7Rv9Ljjp1p2FwmPzTazKj/7xfx3KFILI4dYh3XmwKisfjFMOQ/uxDpHx5D/WkDKgozMK/QyD71rviFIXFOEHZszuj40RSzAfkbcvGF9mLpjVMx/9GzWLexADWaHzlrrinCpmxvAhaVCF5HqsFrMarUC26inlxKt4DRv1mCiPz1WFem6V5gNqLirTT5iNdWVOUXoNSg+dq4pRbHT6q/H9FFp4iQoZgiArl8W+das0NQ2ZVu5tew6WswuyUNT70strfGKALkYmSvSEPZTzTtp99wzFwWhtx1aSht/+Vn0U6NR/HGhiJ49Vz9SynXoBBEqMF2rcxX9Vc3d+WKHNPyx3UBQMXBQ13/oNC5YjylN2B2huxHryX2N+nJIZ3r6Nr1KJuYiqShclxvuoRji1o/ow5l4aW9IjiVedAsynXHJ9Z65TdQNLSyg6hov/g8AD8fGgJUVnec3J0rx9s7NSd2but0N+u8B7rcn4AQy6MfK4939LtuLMtFrmMU6WHb6tXPFFH3U5LqsPk1UfdteX/hKDatzoL/40mY6KwXYZfEvk8GcguL0ajmizfHtW626YaDeZbP7/b1tBlRc7wRwTLyDg4Jg784ATpu27+WOuzIK5IJqX8AAnAU+w91nDQOnjwbs8+k4bmdmnvr1PYt6vwbh2WdMhRAr/4SbR9/W0akurqDej8np85+Ts6oxXz+7eMCEbe+CFsjmpC/KgXh0dG4PWwcbp8Qj4StBsT8rkA+rrIVFXsKUK8+ClEXj/BJMZ2HWNGw1UWGJCIrJx4NGxOtywqPRsKuwVidswFxdl8fBuA6hw9uywfbTYPFFKmfP/yDAmC3C45pGTAMu7HjZp7gB9Pw0ZZ70VC4BctWiaDuwjhsWT+bfeo1/PuLeqC5gj3s0Qxsm1iLZbGizNRyeyANLQ+L4PI2bQDgh9ELxXx3HkJqvJxPDJM3H0Xw2KF2J4+dgoYfByAYQbj+JzItDEtZg8XIxYxoaz157qD4oPih+j77uvEjdTu1V9tVjnUjKB5bc5KB7TqMCpfbNmkesv81DhGWE5MB4sOtBbkL4sS0GExLjMHt0Stx4oEMPHuv5kYwR4NisOKlaFS8Em9dZmIubBehbR+a7SwfjOpVVZn2Ir/s9B+OFTk5mD/oKH6/YRWe2l6L6+duwOp77a9GBz+4AbtnAZmPyHYrhvDHc/HtPWH23e3cthkvttOxHESgu/wP81C/VhwDEnWYFp+M7QEpWD5WWwcGYMqTazDxbxswWZTNqEztzY0dqoq2oPRiOZ7XbINlWGH9ef3Q37yGnb8y4rkkOT5Sh9zAJdj9SozD1dor8Nhiq5//2VE/J7x8FP7/z7pF6oncE/4F0Klt4Wm5vzO3YMtt+5AQLY7HKfEYv6IWU59M0Wy3uzrtQZ2/1PbmdH9CMDt9DW7bK6bF6pAQG4+FdfdiUYqffZtx1bYc19WTnymd+CFqeS5euWGfNe/V5U+y5tE7qbZHsgrqNnl0IjQAcYvWYMqR9Riv5kt4CrLFSZSFR/XLwzatcf1/DMCJdLUcojE+MV78TbG0i23TrSc8Ayfq8c5cA5ZFizrwSArGT8/Fdcnqzd2a/FJPWF8ah8qXk8Q6o5FeLcapx6GsNIw5vAQTbMfU8AS8dCQIEcOs29x8qg5lh4tRKW8LIOpLvf+c+h7k7XPqoZ5JOx6InbGdcTubt81sveLev2e+XrP8IEs/sSyHA62Fq+11tx/Opnuy7y0lWBqdgzEFOR03311FvHtOveAy/9U6ID4IbF/3dpG36g+SmJzVFZfLFoOz8eqPvvywizrnSflqqT/CctGvYx8cWaaLj9QAL55O5SxfVI7v705+eagmOwkJXy3B53a/QWHldVvrzna6KQf1fbDlqYt5TRfM8Pe2e5AjeZxyWX6uttPN9jud7u49Km+PLWp9F8Gfs7JSy1E9/trtl1pfTaI+27pCOdsmd3XamzrvyT5rudkfk7+sS+pyVY7LdmxbXeiVzxSb7tYrFzqVpbP3d7HMLvfVGbfb7+QY1ml7xDxqXXNcp7tlE/UiV/HN1X2l3tOGps7nat5+aiAkD8A9QD0AuDwgudwG+dcVZ9PtxrWi9NVVeOOw9uvIJpS+kYU9I+IRdRUG9N3SZR3QVIAuysPfVV1xuWz515G7QLeLbXBK/YaqqwDBMt3LDydn+eLs/V0s02V+OaovgH5DEWqaOr6Cb64twO+3N2LmfY6PkbXyuq11Zzu7eI9KfV97nrqY95IDepU8TrksP2/H2zibbjeuh44tan13UVZOgya1vmrvbXC2ne7qtDd13pN5tNzsT3tdUpfrbNmObasLvfKZYtPdeuVCp7J09v4ultnlvjrjdvudHMMcqfM4W6e7ZRNdBlf3lXpq11xbhN9vzkJ+VVP7zVUDRyTj1TQ9ovrgfrrLwesr9XTlsvyqZBrW5ZWg3tbHvX8g4hZl4JWkEKdBPfWNa/HYQkR0ObmKbxjUX2vkV4ZurwRfBRjUX6XUrg1mhytsdPldQ8cWIqLLyVV8c409/YZsXxnyQ5d8lho0MqC/8vDYQkR0WTGoJyIiIiLycQzqiYiIiIh8HIN6IiIiIiIfx6CeiIiIiMjHMagnIiIiIvJxDOqJiIiIiHwcg3oiIiIiIh/HoJ6IiIiIyMcxqCciIiIi8nEM6omIiIiIfByDeiIiIiIiH8egnoiIiIjIxzGoJyIiIiLycQzqiYiIiIh8HIN6IiIiIiIfx6CeiIiIiMjHMagnIiIiIvJxDOqJiIiIiHzcDxRBvvaYwWCQr4iIiIiIqC+FhITIVx26HdQHBQXJVN8xGo1Od4LIGbWesr4QERHR1cRVfMPuN0REREREPo5BPRERERGRj2NQT0RERETk4xjUExERERH5OAb1REREREQ+jkE9EREREZGPY1BPREREROTjGNQTEREREfk4BvVERERERD6OQT0RERERkY9jUE9ERERE5OMY1BMRERER+bjLFtSbzPIFERERERFdkssQ1Jvx+euz8MuoGKz/jJE9EREREdGl6vOg3vS/b+HZHf8Qr8w4c67VOpKIiIiIiLqtb4P6i4eRtuy/cEYmiYiIiIjo0vVhUN+Kjzatxk7cjQmRchQREREREV2yPgvqmz5Yh2eLgQlLVyD153IkERERERFdsr4J6s/uxQtbDgPjl+OlB34qRxIRERERUU/o/aC+7Sx2v/Z7/BWTsfG5yQiUo4mIiIiIqGf0elB/Zk861nwMxD63GJMGyZF9pH6nHvpCo0z1AUMB9AtyUHVRpsmnNZelIeH1ozDJ9OVnRk1hFrLLerdOm2qKkP5uORra5Ajq2rmj2PHaGuge0WNHvRxHRETUx3o3qDdX4p2th9UX+MtzcRgZGW0ZHtlhnfzXVxJEegV2/9Oa7mkt4sN2/6mvZepSNGF/ZhZKz8mkU2ZU7MpAWXUONv6lD08kqNeYLxhRU2dEi0x3nwjG8zOwo/ZSf5ehBV8czEXmkbO9eqLRcqoE2e8cYVDvidocTItNw4n/iMfqLRuQFCLH94RzJUjPLEejTBIREXWld4N6v1swYfpkhN/xC9yhGX4ur9j73/ALhD8QiTv6+Aq+987if9/KQcVZmXTm3D5k7xyHV17RofGdYtQwIKJ2Lagpy0NZ7aWeHgQi7ncl+PSZMPjLMb1h8LQ0fP6RHhF+cgS5VPVhDuqT9FidFIbQGwfAv5+c0BPOVuONt8TJlUwSERF1pZe73/wUE1Kfx1vb38SfNMPaadap4XM34a0Xfo07roTg4WIrmi+IoZtdZ2qK3kHFjERMmRiD2YE52H7Q+Q9rmVrk1do2s2V9Jofg36Rug5Px7eT7upyH+p5Z1h9b+V4iWz1odlycWE+3yt2b+q3WMe182rSt/nmzn7a8ueDiPY7LdFy/0N5utFzkhalFrs/ZvmreY5nPcR6vyrEJJ+vNiLpziPOTLE+W5dX6iIiIXOv9G2WdCPjJLeJ/P/zsxgHWEZfTxTpkPx2PUVOTodOnYvKEaCS8XIR6+WFflRmN28NSkS1eZz82TrwWw6QcVFknW5mPouAdYP409QpqEOJnjMOe9/Z1vsJ2rghPRW9DaU0edDHRCI9fiFyDdZKpvgjPp8Rg0oKFYjsWYlKMDps+abJOVLUZsX9DKsLDozH5MTHPYwkYFa1DehWDgcvKVi6RCUgW5RYbK8p1QQ4qZNE17l0i6kw8nv8EKF0bb60/E1Zhj6Zo7RiLsVQsY4JaxuryJsVgxu+PollOrsqMQXjWMWuiqRjz1OV1GjZgv+1LgYsG5L+sQ3iSdXm6pBgkvFaOxq5ODKq3IXxqVkcdV9PPFqHiwAYkxCRCtyAZE6LFfq4odtNFx4yqt0TeTFLbllpn4zAqdg3yDR11tvGTDCSIZU1IEdN1cSLv8lDzieP6sxAu2o1dmxMB9Z4VMXhqb0dGmkS7mifyblSsdX2xU8d12kY1/54qPIr9ap5Ex2CyyAtL3rY1oeItPcIfSLVuq7otKwrajwOOmss2YJRjuabkwdKl3pNldTnPMaRPEMt7LE+8zsMMWa7hb8lyJyIickbphlOnTikmk+mShuZvnI/valDX643K9EhlaHq1TDnTqBQtjlJGLi5UTn8vR31/Rtmljlt/SPlOjlKUamXjXZHKxkqZdPDtByuVobPyldMyrZiOKC+NT1Qyj8u0zVeFSupdiUrskmyl8hs5TvXNQWXJ+GRl42ctcoTQuE+Mm6u896VMm04pJR9UK6dNMi2c3v2MMvThfOWkTJM9b+uLo/Pvi/zVFyrnZbozk1L5h2RlaMJWpbxZjvq+RSlPF+NEfThpq1Oinu3SRyqp7zfKtCtyvt1nZFr4vlEpF+X+rUx2WactdXeKWI/t/S1K8aooJTb9iPJte/0WdX51lDJ9l2Ydjiq3KkPv2qq0V3c1PT5KeUi7nDNqXY5SXqrQVEhH4n0j40Te/EumhW//fkgpOSXfY2kPUfb7+2WhsvC+qM7r16YtOufpt5X7xLI1behfR5SNcZHKSx93bKOaf5Pi5irPfXBK+a69fBTl+PZk++OAKNvjb85VRm4+ojkOOHJerp4sy6P1Od1vIiK61rmKby7LlXqVf3/54nIylGB7WRhWPxuPYFtf2H5BSFqkR2h+Pva7upqq1VaH3DcPIe7hqQiWo+AXhsRZQOb75U5uaByApPk6jNbcR9BwIBd7xukwf6zmm4vAGMyZ8zUKPpGX8v1CEHX/cARruioF3x2NiBoDGnix/vIwH0XRW0bMXq1HRIAc128AIubrMbM6A0U1cpzHmtB4Crg+cLBMC/0CESHKfaBMumZG1etLse6Gtdj6YJB11Ol9ePvDcZg/KwwD2+t3IOJm6tAo6qZXD2q5GI9F8zXLCRqHKfeY0XDO9X0CzY1NMA0ajOs1fVMGDo1EVIi1EtcfLEDpPUvwykNye1U3x2Px3O7dbTpwdIxYtqYN9Q9D1L1A5Wn7G9cbxs7G6vtDOvq/q9+0bTdj/lzNcQB+GDY9BVN2lqDCm/blybJ6cn1ERETSZQvqrwjq000QgttulGmbm0NwN8px/LRMd8F0pAiZLYmIHyOCGLVvrByCx8YhOD8b+Z2WEYgAh15HjWeOAecOYXtmFtI1Q8HfgJpzmr755+pQWphnna4+Qm9pFiphxPlv5HTqW980ogFhCL1Jpm38bsEdY804ccqTs0KtIYh7IhrFT8dhxgsZ2PHhUdQYPYvwTFXb8FxZJN5ZFNnRv7vJiCo0oiTPvl6lF1aLiuXtU338cJ2Te19KT7m+e3zguCQ80bYNCfFLsO7dIpRWGdCs6QrTIuozQm+F5hTGIvS2MPnKS22tqK8qxg65n+uW6rBur0MbUg0KsO8D/40RDRdF8L/XIZ/eKxHl62X78mRZPbk+IiIi6doO6l1pM8OzUKoV+3cXwNSUh3kxMQifpBkey0I9jiF7nwhcPDB4bDzmJKfYDYtezMGn84dbppuqszAtdg32m4cgPkFMn7MUW1/UQZxL0BXHDJO2/7QXgqetx6d/zcEL04aqd1/jpUesfde7fKzhuWI8pa9GSpoeox2/AQsciySHejVn7lrsLpmH0XKWXtN/OBb/sRgf/WE2Jg5qRdk7ekyI1uGN6q5bl8nUnUvVTdizNA4JGQZcFxVnbT/Pv47l98vJbg3BlN845FPyUmR9tAFJjif9bnmyrJ5cHxER0bUe1N8UgihUd74if7IWpYjBXaEybfO9/Gtzeh/eOxCNLR8dwt+POhn+mAq8U+T26/TgWyPRWGeEedAADHQc5NXR+iPFqL8nGYvlo/Ms0/5tRKV1Ml0Og2/Fz/sfxQnNjZ8WF+pQUROEMUPtfz/Z1Obh0+X7B2HY3TGY+cwa7CxYg7sP7EOJq99IaDMif+MWYNkazHTstaLW76ZaNJg09ck2BPTRI6f6+WFwyHBEPZiM1b8rQt6sVqT/j/VEd/DPxAlrpdg+S6pD/Yly+Ur6cQCCRdB+XvvVQpu1q1K7lmqUlJmRok9F3LAguZ8mnPfg2zZrOR5C/QWHPLIMXuaTJ8vycn3fdXkzMhERkdXVH9SbW+y6xbQPahx241SkJNVh82sFqLEFDBeOYtPqLPg/noSJtn7SCMGdk4HcwmLrU0PazCJAM6NiZwZOqI+xdPWc/WExmB1agHQ3v2o7ePJszD6Thud21nV0T2hrRU1hBt44bO06EBwSBv/KOhy3bWdLHXbkFckE9RqTGf90Vn/UK/H9hiPpySHYsTmj44fJzAbkr12PsompSBoqxyEQw0YGoeL9YlSp5WepP9YpdlqOYUd+uQj2ZFpoFieYXyAA1zm9B8WMqqyleOPmDR396LVE/Z7/6Fms2yjqt3aZNUXYlN3xRJ3e0nAwD/lVxo59FScgNccbESzPVIMnpyCuPgPrNPW++XAGNn/gENjeOgJR/YuRv0+2I9E2qt7NgV3tDxBtVJzUVB6X96AIjWW5yPXkrFeU48xlYchdl4ZSTXcnk/Eo3thQ1Omko0ueLMvT9YUMxRQUIN92c4/ZOm/zJxnQveDuyUNERHStubqDej8RHOxcYt8tRg4T3lYfD+eHqOW5eOWGfdBFy8cBTlqJEw9k4J3U4Zp+twMQt2gNphxZj/HhYp7wFGSfOIr9O4Mw/8GufggoCPEPx+DEnnK7wOBHP5QvbPoPx4qsNIw5vAQT1OWr2xGegJeOBCFimLUD/sCJerwz14Bl0TGY9kgKxk/PxXXJekS4DPjokqk3MR5JQ4KT+hP+nLVLTOhvXsPOXxnxXJIst0gdcgOXYPcrMXZ9xYelrMFi5GKGWs/Co/Gcs98x6H8TQi/kY1a8mGdSCqZNUh/JWIf4bXpMsZ1gijptC4rRVIK33zKgYYceo+RjD61DDN6oVmfww+iFGdh25yGkqsuU0ydvPorgsUNd33zbzx/+QQHi3RqOaVHrrxPbNKyLx9Je/x8DcCJdh1Fif8cnxou/KZa82TZ9iHWGQdF4JUePgHfVR7Wq2xYN3f6heHl5pHW6jV8Y5m9MxvnfJ1n3IToZ7wWkYrk40e4Qgtnpa3DbXrG+WB0SYuOxsO5eLErR5Jfkb5+0CH5wA3arN7c/oj7C1ppP4Y/n4tt7wjpugHfiR2odab/Z1cqTZXm0vkExWPFSNCpekY/MTMyFeu/1+fpyVBw8ihPd7OJFRERXpx+oj8CRrz1mMBgQFOTkymAvMxqNCAnpyd9h11B/8KbFDP+Arn8VUv3BGvSX86hXyrqYt512PnfvcbcdlukiyLd9Te/pNlyD1Hraa/XFkYf1x/IjUD8c0N6tyhW1nplEGN2T3WTUH7Qyibrrbt1OOatnHtd/93lj2V9/uW1VGbj9MXE+flRv3+/fcTku1m+3LHUelW0+x7QTlvf3E+/35GTZTR54siy38zi2eSIiuqa5im94o6xNPxFADXITkAl2gYmbedtp53P3HnfbYZmu+XD3dBuod3lYf9QTQk+CarWe9XS/d3+1z3Z3F+lsvzytex7kjWV/3W2b43JcLM9uWeo82vkc005Y3u/pt189sCy38zi2eSIiIicY1BPRlae/605tRERE1BmDeiK6sozW4+8lqb3/yE0iIqKrCIN6IrryuOnWQkRERPYY1BMRERER+TgG9UREREREPo5BPRERERGRj2NQT0RERETk4xjUExERERH5OAb1REREREQ+jkE9EREREZGPY1BPREREROTjGNQTEREREfk4BvVERERERD6OQT0RERERkY9jUE9ERERE5OMY1BMRERER+TgG9UREREREPo5BPRERERGRj2NQT0RERETk4xjUExERERH5OAb1REREREQ+7geKIF97zGAwyFdERERERNSXQkJC5KsO3Q7qg4KCZKrvGI1GpztB5IxaT1lfiIiI6GriKr5h9xsiIiIiIh/HoJ6IiIiIyMcxqCciIiIi8nEM6omIiIiIfByDeiIiIiIiH8egnoiIiIjIxzGoJyIiIiLycQzqiYiIiIh8HIN6IiIiIiIfx6CeiIiIiMjHMagnIiIiIvJxDOqJiIiIiHwcg3oiIiIiIh/X+0F9y2GseSAaIyOdDJOexu4GOR8REREREXVL7wf1/27E+QvqiwH4+R2/wB3a4c5f4PoBlrmIiIiIiKibfqAI8rXHDAYDgoKCZMqNf+7Fk796FX/Fb/HH8gUYJUd3h9FoREhIiEwRdU2tp6wvREREdDVxFd+wTz0RERERkY/r06C+8R+V2L3jbWRk/Rd2f/YPNLfJCURERERE1G19GNT/F56e8TTWvP5HvJn9B6x5ahYmPbsXZxjYExERERFdkr4L6m+ZhlVv5OHjD/bg4PZlSLgFMH38Kp59/6ycgYiIiIiIuqP3g/obpuGl7W/i4I5lmDHqJgwcNACBd0zDmpW/hb+Y/PnH/4sm65w9rn6nHvpCo0z1orZW1JcVYN1SHRIesQ66F7KQX9VbeyaIddZ8mGdd56vlaG4zovRdsc4as5yBuquxqgjpL+jbyzJhaRp2lBl6tbtYc20xsjesEutLQ2mLGTWFWcgu64O621Ou5Pp37ih2vLYGukf02FEvx3mkFaWv6vFGde/sk3p8WvphLx4jiIjomtInV+oD7/gFAvvJhM0Nt1zSk3A80SI+zPef+lqmLkUT9mdmofScTGpdrMMbqXGYtrYEiEjB8oV6McxDXGAt0vWJSHjrGExy1p7Tiv0vxCF5VwvGzFmPnCcjMbDta1S+n4s9tY1yHvKaCEz3r03BeH0BGm6KwSJLWeoxZ2QLisT4yauK0Ru523xgDSY8no9vx+iwNUOPqIAWfHEwF5lHzvZC3blU4oQjPwM7ah0C3Su1/tXmYFpsGk78RzxWb9mAJBcPQzLVFmBTfp1Dfptw/vRRVJ5qkemepR6f9tR255vKLo5HRER0zer9oP7CcezcXYkzDjHAF6V/wafir39wEK78R9Wfxf++lYOKTp+/Irh+JRXpFxKxsygDq5NiEHF3mBgikbQoDR//JQcv3Bti+UaiR507iPwPQ7B8dSrihgVhYH8xzm84FheUIOchDx81Sp3UvLsU+gM34eU/5WDL/HhEWcoyDHGPrsHO4iLkPDwcAXLentOE4sJihD65CovvH4LgQX5iXCDifleCT58J6/m6c8laUFOWh7Jah0D3Cq1/VR/moD5JL9pmGEJvHAB/x4sLUkvtIWSX1Yq98wWujkdERHQt6/Wgvqn8Xax/9Wk8EBWHX895Aeuz0vH0DPH698eB/ndjZfKYKyNwudiK5gtiuCjTnji9D29/OBiL1+kxWg2sHQWEYHSowymLWa6nxflX+ibb+Dazdb4LTuY7a0ApwnCn41VHsQ8mJ11ETC3WddqmqWln813TzEdRsN2AKc+tRZKzuLRfIIaNCLKvq+1l5CI/NeXhWAYdzqL+E+Du2x0KU9QTV8u0rNNWLRzL3MX72uuV5FjP7N7jbr9ccVH/2rfZWdvSbq/jvnmiy21twsl6M6LuHNIjxxjXZdjB5HJbvOTmOEFEROSo14P6wJjV+NPa32LSLcAXJ8qwM/vP+OgfrRg4/NdY8+Y6JNwkZ7xcLtYh++l4jJqaDJ0+FZMnRCPh5SLUywCkKjMat4elIlu8zn5snHgthkk5qBLpxspDqOofg4hhllm7pnbt2JCK8MgEJOsXIjY2GuELclCh7VJ7rghPRW9DaU0edDFxYj6xPZOiMSolC1WW7TEgO0Ws/7E88ToPM9RtCYvG82WtIt2E/Gdj8JS2j25TOTbpYjAq1rpvE6J1SK8qR3p0DNKr5TxkVXMIOy5GYuovPfveqOFAGmbERGPyYwuhS4nDqBg93jiiLUxreaR/IurXghhM0C1EcqIoC0sZWAO1+h26TnVr1MvlaBbpqswYhGcds8xncdGAHc+JejpB1p9JMdDvPWot87229TZhzwptWqrOQrioV2qdtbCrZ6Iexi9ErkGMt9XRcLlfjyXYbW/j3iViG+PxvDgJKV0bb20LE1Zhj2V1Tuqfm7alUvfzqcKj2P+yDuFJ1rwMj1T3zf39BF2VQXPZBoxy3NaUPHTqUt9UjHli2vi15cAnGzBetim9dj9ajrosQxtTfRGeT4nBpAViW0T5TIrRYdMnDuXgCTfHia6OR0REdI1Tf1HWW6dOnVJMJpP3Q0uTcv6cGFqcTPNgUNfrjcr0SGVoerVMOdOoFC2OUkYuLlROfy9HfX9G2aWOW39I+U6OUpRqZeNdkcrGSpmULMvXFyrnZdo1k1L5h2RlaMJWpbxZjvq+RSlPF+Nm5Ssnbev+qlBJvStK+eVyzfb864iyMS5Smb7rjBwhVG5Vht61VbHfnEZllz5SSX2/UabPKO/NilQmrdpnv2/LpygjnezL1cib+nL+/Wec5Klz3/1tmxJ7V7Ky8bMWOUZRvv1sqxg3V3mvfZXW8hh530pl15dylKgH5WmJljI/Lcd0Wbfa66543+Yo8b5spdKu/sxSRo7XlrljHZAc64ulniUqsUvE8r6R41SmU0rJB9XKaZNMC6d3i3x5WNRRmXa5jk7jPWtb6n6OHD/LLi8t6xy/RSnXbIcjb8qg87Z2Zin/Tm3Z+v6h45/pugy/OagsGW+/LUrjPjFObEv7+zrrfHzy8Djhos4QEdG1wVV80yc3yrbzG2B5+s1AtdvwlcBQgu1lYVj9bDyCbX1t+wUhaZEeofn52N+NC21OmY+i6C0jZq/WI8LWKbvfAETM12NmdQaKauQ4ixAsmq/Znv5hmDoZqDrj5Q2/6tNUqiPxxFMx9vv2jNgGmaTuMKNiTw4aHl2FFWM7ruoPHDsPy5OOYfMHmqvrQujcVCTdLBPwQ8R9UUC10bsbblsOIX8nMHuxDqO19WfhUqTIpPcGIGm+WN4gmVT5hSDq/uEI1rTP4LujEVFjQIO3vUC8aFum2HlYrMnL4HHRiLpoRMM3ckQn3pXBpRr2pL7LMmw4kIs943SYr9kWBMZgzpyvUfCJ+hWIh7w6ThAREdnr26D+SnPBiBoRRN92o0zb3ByCu1GO46dl2oXB/xEGnGrCP2XapW8a0YAwhDp2NfK7BXeMNeOEWEaHQPj/WL7Uqj/lXSD47xaxTif7duOt+Ll8SR0GB6l92ptw3u2dki04fxaIuLVTYSL09jCYTtiX0/X9nd1aa8BJb55ccrFFrNVJ/el3E0LHyNdeC0SAs55G5+pQWpiH9MwspKuPgVyahUoYcd5lgO2CN21L5FHnPu/lqHd5I6h3ZXCp3JVh4xlxEnHuELareaYZCv4G1JxTu8Z5yKvjBBERkb1rO6h3pc0MTy5MBt86BP7GQ6h0E/y7ZoZJ07+4N3zneMNe25X3kMQrggg2o1CCikt4zrrJ1JvPThHb1enmS1GWPVicpuosTItdg/3mIYhPSMGcOUux9UUdun3e4IyHbau7ercMXBs8Nh5zkkWeaYZFL+bg0/nD5RyXovePE0RE5Puu7aD+JjWQq+58Rf5kLUoRg7tCZdrme/nXZkQ8lo84hs3vqT/+JMdpiQDGpEYwg2/Fz/sfxQmDQzhzoU4EkUEYMzRQjuhBoSMQhwLsr7Bfp6miBLnyNWncOBUpScCOzALUu3hyiTWwCsRtoX6oqDU4xNOtOFFZh+AxQzFYjukxNw7FmKCjyC9z6MphKEf+Efnawh/XBQD1TfZXdJu/8uzZh/VHilF/TzIWy8c/WrrK/duISjldy+Tu5NDbtuWVXioDsbDv5EtvBN8aicY6I8xqfjkO3nQ19PY44Xg8IiKia9rVH9SbW9ofeWc3qJ+blkCuDptfK0CN7QLfhaPYtDoL/o8nYWL7t+4huHMykFtYjEY14FODdfVvvxDMXL8SEX9Zgsn6HJQamtB8UUxraUVDVRE2pcYgfLMI+PsNR9KTQ7Bjc0bHD8aYDchfux5lE1ORNFSO60kB0Vj8Yhjyn12I9A+Pof60ARWFGZhXaGSfeqf8ELXodcxuyUDCIxuwo8poeZyg6WIrGkXwnL00BaMetz49ZfSv9LhjZxo2l8ngWdSH+v9+Ec8disTi2CHWcT1qCGavS0bLq6vwfH45ak4bLb8mrN98CNfZPXlpAO4YMxwNu/ehQtZnk6EYm3eJQNea7FJwSBj8RVB83NYWWuqwI69IJmwCMWxkECreL0aVOp+tLTjyuG11T0+XweDbRiD4SBH2VFu7y1hOxj00ePJszD6Thud21nWc3Ku/+Cza2xuHXXe/8RsYBJQdbC8reHyccHE8IiKia9rVHdT7+QE7lyB8kgiuHYYJb6s304lAbnkuXrlhH3TRtsfDrcSJBzLwTupwTT/fAYhbtAZTjqzH+HAxT3gKsk/KSUHx2PbnDMwffAjLEuMRPiEao6JjMHlJHhoi0/DRykgMFLOF/uY17PyVEc8lyfVE6pAbuAS7X4lxuKoYgOscnnlv+fC/aXDHDx/184d//869kH/UT7xbMz74QbH+LfeioXALlq1KQ/6Fcdiyfjb71LvSfzhW/FHUh7sbkalPQni0KMsJMRj/yHrsC0zG7m3JsFxgDklEVk48GjYmWssyPBoJuwZjdc4GxDn0IdeWh8WPA0SAHYTrfyLTgn9/v84/iiTqbrDmMq//aD3ycnUIqNiG51etQmZtIOZvWoIpmuWogmNXYfWwovb6PGFNLaYsnmXdbgc/+qF8IQ2cqMc7cw1YJurvtEdSMH56Lq5LVm+stq+Tw1LWYDFyMUNdh9j35w5aA1f7+udp2xLb7Hg5u3+AWKP6Q1wy7YyHZaBuExzz1plhKdgyH9iui7Esb9TaEsujRVVuy1CtN1lpGHN4CSaoxwfL9iTgpSNBiBjm7MYFq2HT1+AJ/wJr/jxt/bViz44TXRyPiIjomvUD9RE48rXHDAYDgoL6/pcjjUYjQkJc/M77pWozW67M+ge4/tVJlXoVHv1dz6P++IxJfcqPsx+jUrlbj+UbAOtLO47jXc3nTksJlkbnYExBDmb2UlZeKdR6ein1xfIjXSI4HRjgug+FZZ5+Lsq7t8sSdXgjXofzz5Zg9T0O26j+kFObZtu9Waeljoog3/LrtmpaDM7mVdfxQw+6mHRV59Vlq5yNd7V9DrpVBq6o23pR7LurfLNxOd6z44iW02OKh8txdzwiIqKrj6v4hjfK2vQTAdAg9x+O7j5k/dV+tK4CepW79Xg63s12qv2LS19dhTcOGzu+mm9rQukbWdgzIh5RV3lA3xPUsu4qoFdZ5nFV3j1WlkD9zlVYV1iHRlu3ELV7x85tyLyQiCm/dLKNItCz23Zv1mmpo12810ZdR9fZY9VVnVfHuRrvoW6VgSvqtnaVbzYux3t2HNFyekzxcDnujkdERHTtYFB/1RqAMQ9G4nzWPIS3dwmIx7LjkdiWluhRH2u6coTem4jry9YgNtJWljFIfjcAy3P0iPAksCYiIqKrGrvfXAvkV/keX1m9Slxq95srldsuXkRERHTVYveba5n8Kv9aCuivZm67eBEREdE1h0E9EREREZGPY1BPREREROTjGNQTEREREfk4BvVERERERD6OQT0RERERkY9jUE9ERERE5OMY1BMRERER+TgG9UREREREPo5BPRERERGRj2NQT0RERETk4xjUExERERH5OAb1REREREQ+jkE9EREREZGPY1BPREREROTjGNQTEREREfk4BvVERERERD6OQT0RERERkY/7gSLI1x4zGAzyFRERERER9aWQkBD5qkO3g/qgoCCZ6jtGo9HpThA5o9ZT1hciIiK6mriKb9j9hoiIiIjIxzGoJyIiIiLycQzqiYiIiIh8HIN6IiIiIiIfx6CeiIiIiMjHMagnIiIiIvJxDOqJiIiIiHwcg3oiIiIiIh/HoJ6IiIiIyMcxqCciIiIi8nEM6omIiIiIfByDeiIiIiIiH8egnoiIiIjIx/V9UG9uRfOFVpjaZJqIiIiIiC5JnwX1zcf+jGfnxmFkVBzGPxCHX46PwyMv/Rc+/VrOQERERERE3dInQX1zeToenZuOvxwzI3DIRMxImIg7bgE+/+APePztwzDJ+YiIiIiIyHs/UAT52mMGgwFBQUEy5Ya5EusfeBo7L96NpTvW4dGf+8kJItj/x3GcCbgTd/xUjnDDaDQiJCREpoi6ptZT1hciIiK6mriKb3r9Sn3zx3tFQA/8LPVxu4BeNfAWzwN6IiIiIiJyrteD+lMnyyx/J9x+C/DP49i9421kZL2Nd/ccRxNvliUiIiIiumS9HNS3ovGM2fLK7//+jOnJT2LN63/Em9l/xJZXnsT9T/4ZXzCwJyIiIiK6JL3cp/5r7H4mAWvK1de3IGHtS1g56Rb4t/wfdoqgfv3HZoxaloc/Jtxkmdsdb/vUN364Bqk7DDIlBYTg7vumImlqJEID5DhVfQF07wRgy0sxGCxHudJclgbd36KRtzAM/nJc14zIX7oKuedk0pWAqXg5IxnD+sk0XRJP+9Q3H87CU68fQrNMuzJmzutYfe8AmbrCtbWiZn8RCg7sQ+WN85CzLBID5aSutaL01YWovDcLi8fad5frDfU79cgctAZb7g+UYwQnbdFUU4TMI4ORNDMSwWwfRER0DXMV3/T6jbKfvx6NR3aIF/c9j49fmdwRWJz4Ix6Y8zbOjH8eB1+dDM1HukveBvVVvx+HGUY9chKGyDGqJpwozEV6WSBW/ykNSbbdqMrA7Y8BO4/qMVqOcqWxcAnGH4jGx1vj3Z4AWJnRUFWNBs1jfk7s1mMTHLbN/yaMGR3k4YkCueNpUI+mOlScbJEJ4ZtD2PzcUdz9ih5RP5HjhIG3hWGYJxX1smvF/ufisPSrFLyyJA4TQ4IwsL+c5FYT8p+Kx/7JRdj2YO/vrKWNIgt/XzRcjhGctMXGvUsw6bUQbPtAj4jeP9cgIiK6YrmKb3q9T/3gm8dYX9wQaH+lcNBP8TP1b1svP9AyaAQi7g7TDDGY/crreGVcOdbtOiZn6m1+CB6t3YYwjFFPJhy3jQH95RE4xL4cxoTgenGaGTpGM04MvhHQC+cOIv/DECxfnYq4Yd4E9FeuwdPS8PlHDOiJiIhc6fWg/mdhURilvigtx6cXLaMsznxahk/F35+NHuLRVfqeNQB3jAyByWBEoxzTpTaz5VdwmzXb79RF66/lNltvI7CkvfrlXHU9tvc6MLVoJmiWa2px/wu9JnWb+Cu+l8yuDLS05aa+ttUTW71x9T6V/IXlLudxossyPWtAKcJwp6dfasl663RZ2v3RclVXndX5bu6jHcft8DKfHduJmmZ7ICKiq0mvB/UIjsXS2beIQOO/8Hji01if9Ta2vPQkpm88DPS/G/r7fyFn7ENtRlQeNmD0PcPddJ8xoz5/FcLDozH5sYXQJcUg4eUSnHQMBi4asOO5eIyakIBk/ULEToqBfu9R5D8bg6f2Nlnn8UDjhysRnlqABplud7oAs6LXY7+lh0iTZbnPFZYje0EMJujEdqXEYVS0Ds8fMFpmtzHVF+H5lBhMWiDmEds1KUaHTZ94vj2kdQyZsTFYd9gxcDSj4jVRL3bUWZPV2xA+PQd7DmxAQkyiyPdUTI6ORviCPNTYBaVNqHhLj/AHUi1lo9PFIXxFAeqdBdAappo8zIsVy0sR73kswVruhQb5A24GZKeMw+2P5YnXeZgRJl6HReP5slbL1E7UersiBrfLeqvWj+cPONyDUpODCVPTUGG3263Y/3IMwpcW2Z8Ut9XhjelxyKyxpbu3j06p+To1C1UyaUk/W4QKWz4vSMYENZ9XFKNB2z6byrFJF4NRscmWspgg8iu9qhzp0TFIr5bzEBERXQ3UPvXeOnXqlGIymTwfLjYpn25frIwbH6kMvcs6jJzxspJ3osX5/C4Gdb3eqEwX65r1ovK7P2zTDFuVJclTlIfWHVROfy9nVFVuFdu1VamUSdV3Ytyku5KVjZ+1yDGK8u1nW5WHxkcpQ/WFynnLGJNSvlmkZ2Urlc2WEYryfYtSnj5LGSn2N/X9RjnSnmXb0qtlSvpmn7LwrkQl87hMS8ffTFRGbj6ifGdJNSq79OK9459R3vt7x3adL92ixN41V3nPlkXfHFSWjLffdqVxnxgn5vlSpq9y3taXdl8VKql3PaPs+kqmJbUchi7fp3wr0xaWMtPkqaUeRSqxmw8p5231q7lWeW9xlDJy/SFZhmJZ25OVkYsLNXXQJJY/V1POTny1T0kVdS919xk5QvhSbKsY99LHJjlCcFKXOzOJOij2J2GrUt5Vvf2+VsmME8uv0Czfss9qO3aoS8ezlUnjxXrlPnmyj07bgbPtdxynpsV+P5R+RPnWtvwzarlpt/WM8t6sSGXSqn0d2/D9GWXX8inKSLH9G7vOICIioiuSq/im96/Uq/oNwKiZm3DwoxJ89sEefKz+fWcZEhx+jKpvmGEyAQ1GAxouyFFOmVHxQR7OP7oKK8Z2PPFk4Nh5WBSruWzZcgj5O4HZi3UYbXuajtjfiIVLkSKTHhsUjZkzGpG596i88iqYj6LgHWD+NPsn7QTPmoeZQzu2a/DEeZg/+RiyD1qvGDccyMWecTrM12w7AmMwZ87XKPjE4WoseWTY1GSMPpCPotNyhNAg0vsnJyH+ZjnCIhrz50ZisO0pLQFDMHOuDtfn70OZ+m2LWqbbzWKeeM2TXPwwbHoKpuwscbgq3qH+YC5KxyzBKw9pblK/OR7LnwzBjvwSz7qS2YhtKHq3EbNX6xGhrbfz5yFJeyW93xBM/NVg5JdVt9fJ5ooSlM1Yj4wZdSg63PHtUNX+HGDWVIxW96mb++iVi/FYND8MA23LDxqHKfeY0XBO3vRcW4zs6kg88VRMxzb0C0LSM2KfZZKIiOhq0TdBvYb/oAF9e+PemCQsnp+qGZYgo2APtt62B7rNxV08xrAF588CEbc6Pm7TD6G3h8nXwsUWMWcYQh1n63cTQuU9wp7zQ8Q0EfztLMB+ecLR/D8F2BGajLhh1rTN6BDHpw8NQLAY1fA3gyW4azxzDDh3CNszs5CuGQr+BtScc9Edg7p281Q8rJ447ZNdbdrqsOedOsxMiLa/CTxoCH4+SL62CQxEKEpwXD2f+saIBhE4V+61L5v090rQACPOf2N9i6OWc2K9obd26jIWepuoj2W1nbttdeWbRjG/k3rrdwvuGCtfS8MmJyO0PRBvQvFfDiFp4jhMnBiPE++Xo14drZ4k5A9G0gT5NKdu7qN3/HCdk+sCpadEw1X9u0WsKwS33WhNtrvxVvxcviQiIrpa9HlQf2UQwfN9UcCBWnwhx3jDZNI8/tBCRDudbrozWf55bVgMZo8owXuW/vFGFIlgasqMqQi2Tm3Xon7d4Ex/P7F3VoPHxmNOcordsOjFHHw6X/P4QPLCAExJSMT5d4osAa7pSBEyoUOi4/PcL5jVGuHEYPyofdYhmPIb+7KZk7wUWR9tQJJjEOqGydQTl71tzDA59nkPiUTiiAIUqX3zT5cgvzIR8WKf/UX9mn9B5IU4UTFVivHqyedQ+R6LntvHS/GdY9vs7SduERERXQbXaFAvgpB/iUCof1cPkAxA8M1+qKi13YRo04oTlfJKrerGoRgTdBT5ZQ5dWgzlyD8iX3slCPEzolG1pxz1NcXIbkrF/Cmdf/Co4qS8GtnOiOOVQPBtQZarxsG3RqKxzgiz+s2I43A5ej1dJSyB7KAi7K80Yv/uAkx8Mqnzj4VdrMVJhx8aMxnqUIHhCFW/YBl8K37e/xDqLzgpm0GuC0ctU1R2viJff6IcuH+Ed1effxKE4P5HccLgcEJwQWyn7UbXdkGIihuOPQePoOqTIjTauthYuua0IvvgMVSWFeGOuMiOk89u7mOPCh2BOBRgv0NfH1NFCXLlayIioqvFtRfUX2xFY00R1r1WgNA50R0/NPVjEcSjHPuO2Lqm+CHiQR2Cd6Zhc5l8YkybGfX/vR7bT2q7vgzB7HXJaHl1FZ7PL0fNaSNqPsyDfvMhXOfQZcZTA+9LweymPDy1OgeDZ8U4/4XZ/C1Y175drahRt7M+Eotjrd0fBk+ejdln0vDczjo0265UqvMVZuCNw+x+020ikE2aG4Ydm5ci81AiZt7n7Bdmj2KzqF81ti90zpVj8+YCBD+ehIlq//V+wzFzWRhy16Wh1NgRcJqMR/HGhiKX3WgGT07CzPoMrNOUafPhDCzL9MMTM8Z5+Iuxkl8YEucEif3IQKntBMRsQP6GXHzh2LNLCBbrnvLh61i6oxVJ4zp+ME3tmjNw9xo8vzMMSRM0b/RwH/0GiveUHUSF9suvTm2xmwKisfjFMOQ/uxDpHx5D/WkDKkT9n1doZJ96IiK66lzdQf3/JwKud1Nxu+XRfnKYEIPY1cXwn5WDvEc1v+Y6NAVbHvdD7rwYMd8S7FHj5aE6vLM1EsfXxlvfGx6HdS0peHXWLSJgCGjv5uI/Wo+8XB0CKrbh+VWrkFkbiPmblmCK5tdIO/Hzg7+rC5Z+w5E0cwDqDePw8GQnEZYQod7sV7YEoyzbFYOEN81YvG0D4mzdGvoPx4qsNIw5vAQTwuW+hyfgpSNBiBjmLBCldj+0foPzox9a/nQy+H4RXBsMMM2Kd/FjSImijpix+dcy32NXonLMemxLHd5+s3PwgxuwexaQ+Ui0dR4xhD+ei2/vCevU1apd/0iszl2F4A8XIlyWafiqOsRvy8DiEZoN6ecP/y6/hbIa9mgGtk2sxbJYuZ0PpKHl4TWYfZuo3o7vHzQOD97fiIZAh/s71K45gUacvz8eMQ5dajzZx2HT1+AJ/wLoosX0p4utN/s6a4vqPgV1tDkLx7TI3evESdOwGzvqd/CDafhoy71oKNyCZavSkH9hHLasn80+9UREdNX5gfoIHPnaY+rP0wYFOQ82e5PRaPTsZ/8vhfpDORjQqYuK+mM/CBgAf9tVc/VKqbMr6O3q8Ea8DuefLcHqe5xEfrar506XYUbFqzGYhzR8usz+qTedfsZf3V6THwYGOFmHjfrjPC1m+Gu3/xrg6meUPdJV+Z4uwIxf70P8n7Mw0+6pN0JVBm5/DNh5VG/5FqhTvXHC8kNI/USd8+YGcvUHo9q6KHe39VPDUj/Q0S2mq/c6m9ZlXbZyt4/qdPR3yCcXbbGdq23pYjssWkqwNDoHYwpyMLOXDydEREQ9zVV8c832qXfJz3kQoT61xy7g0Lyu37kK6wrr0GjrZWDpDrMNmRcSMeWXLiIS9f2ugo8LJdixc3Cnx1g6pW5vVwG9qp8I/hy3n7rWRV7V7MtDVafHWDrXqd44oZ5sef1EKBEAd1nu3pS1pX5oltXVe51NU8dd4j46PeF00RbbudqWdq0ofXUV3jhs7Pj12LYmlL6RhT0j4hHFgJ6IiK4iDOp7QOi9ibi+bA1iI2U3hvAYJL8bgOU5ehfdM7rWWFGC/ffMQlIXffI7dY+gPnIMZXnA7GSHx1hqdeoWQpfHAIx5MBLns+a1d1e6PTwey45HYltaoutuTkRERD6I3W96mNrdwqReYfT2yqujrroReNLFgC6t+01X3OU/y+fKI7ugWb7h4BkXERH5MHa/6SM99uNaXQWFDBgvL3f5z/K58sguaAzoiYjoasWgnoiIiIjIxzGoJyIiIiLycQzqiYiIiIh8HIN6IiIiIiIfx6CeiIiIiMjHMagnIiIiIvJxDOqJiIiIiHwcg3oiIiIiIh/HoJ6IiIiIyMcxqCciIiIi8nEM6omIiIiIfByDeiIiIiIiH8egnoiIiIjIxzGoJyIiIiLycQzqiYiIiIh8HIN6IiIiIiIfx6CeiIiIiMjHMagnIiIiIvJxP1AE+dpjBoNBviIiIiIior4UEhIiX3XodlAfFBQkU33HaDQ63QkiZ9R6yvpCREREVxNX8Q273xARERER+TgG9UREREREPo5BPRERERGRj2NQT0RERETk4xjUExERERH5OAb1REREREQ+jkE9EREREZGPY1BPREREROTjGNQTEREREfk4BvVERERERD6OQT0RERERkY9jUE9ERERE5OMY1BMRERER+TgG9UREREREPq6Xg/pW/HVjHEZGRrsYYjB95z/kvERERERE1B29HNT7YWDQL3DHHZ2HwP7qdDOazWbLnERERERE1D0/UAT52mMGgwFBQUEy1Q3/3Isnf/Uq/oq7seb9TUi4QY53w2g0IiQkRKaIuqbWU9YXIiIiupq4im8uQ596Mz7/r/dEQA/8bOajmOZhQE9ERERERM71fVD/j79gy46zQP/JWPrwnfCXo4mIiIiIqHv6OKhvxUfb/4DPxaufz5qOSYOsY4mIiIiIqPv6Nqiv+29kFJuB/r/GkqRfyJF94NxR7NiwCgmP6KzDgjXILjOguU1Ov5LUF0D3QjEaZdKipRzrFuSgysU9xY1VRUh/Qd+xf0vTsKOP96+5LA0Jrx+FSaZ9jxH5S2X+aQbdCxl9npc9yk3duSY4ywOfyZdWlL6qQ/oRuaFtRpS+m4X8GncbbkZNYZY4zhll+grS1oSK/AwsXSDa106DHOmZ+p16LP2wSaZ6mLNjLxGRD+nDoP5r7H7jbXwhXo164iFMsDz9pvc17F2F8NglKGgdgTkL9VguhkX3B6J0bQompOag5qKc8UrRYkTF3lo0yKTFxUY0HK7GyW9k2kZ8wO8X+zFeX4CGm2KwSO7fnJEtKBLjJ6/quw8o8wUjauqMaJFp3/M16g/W4Wf3W/PQNsweC0seT1hahAYvA3tTbQE25df10YlOE/ZnZqH0nEzauKo71xJneeAz+WLC+dN1OGGULavta1S+n4s9tR0t23k9a8EXB3OReeTslXWi3VaHN34bj3XHg5C0PA1bE1zcyH6uBOmZ5Z2OXy3njop9PytTPczZsZeIyIf0WVBv+nwn3iwXL/r/Gvpf3WId2dtqczDvhTrE/64Au19JRtzdYYgQQ9SDeuQUZSHlQhaSf1/us1eXa95dCv2Bm/Dyn3KwZX48ouT+xT26BjuLi5Dz8HAEyHnJM8F3WvPQNljqSsEaTCxLw45qOZOHWmoPIbusto9OdM7if9/KQUUvxTt0hfAbjsUFJch5qOPpY87rWSDifleCT58Ju7LuW6reh0xDIpavTERESCAG+snxjs5W4423jjDAJiLyQt8E9W3/wH+//l84I15OePpRhLs6kPcoMyoKc1A/ORWLJgbKcRr9h2PFulRcn5+N/NNynLkVJhdXY00tDl93t5nRfKHVMnR6jzrN9g2AWGbzBYf3WsY5Ge8N81EUbDdgynNrkeTs6aL9AjFsRJD9B3pX2yy072P7fF1sn22eK+2bjt4wSAT395jxxZedv/Y3yfxs7k5RXpTvdZWHbsrLa56Uq61uOtZ3N2z50Gk7vWlTgsvlCI71026ens4rR+6W31W+qe+1lbFtOV3lr6wXLvdDTPdoH13lvZsy9uo44ERXZdj4pQGme4bgzp74DLC1n642z10bc8WLcnK6bG2Zazkru/Z87qJcu9kuieja0idBfXPpH5F2TLy46bdIjfmpdWSvq0PpTjOiJoZhoBzTydARmIJjKPubNVirejsO4a917hduOpyG8JRc1Mh045Ec6GLikKxfCJ0+FRNiVmFHveZgW70N4c8WoeLABiRMikF4YhpK1ctoF+uQ/XQ8RkXGIXaBeG9KDG6ftAp7utPtteYQdlyMxNRfDpAjutZwIA0zYqIx+TF1vXEYFaPHG0c0Qeq5IjwVvQ2lNXly31IxeVI0RqVkocruw8mM+vxVCA+Xy0qKQcLLJTjpSZDhq9qa0HgKCOjfcYpkyc9J4zAqMdVSByZHRiMh85i17jQVY17YOIxfWw58sgHjxevbw6Kht/UFvmhA/ss6hCep9Ufm4WvlaNTkoakqR5RXjLWeqHUsOh5L/1sERHK6VlVmtFh+KrLF6+zH1HWJYVIOqqyTLVoq3ZSr2s/5LT3CH1D3R6xTJ9rCigLUuwmGTKK+zIuNFu1DvOexBIyK1uH5wo7t9LRNmeqL8LxoD5Ms+7sQk2J02PSJq/op1he/ELlqd2y1C9qG1I76KLchvQc7yzeo7Tg6GhNs+xiTik2HW60TbeuPTLAcD2LVvFiQgwrt+Z/2eBCTCN2CZFGeYr4VxfZdukS92LFCHBMmWJel5sHzBxz7nDch/9kYPKXWJTf1rCpTHHuy1AOv5Mm2enwc6KzLutBSjucnOG6rDtmdutQfQ7qY7/bH8sTrPMywzDcO4W9p9+MU9tvajziWhUfGQL/X4SDqQRtz5aTbcpLH8anJlrY5eYJo+y8X2bWVxg9XWsrcvvuQ2LepMUjXfOPntp13s10S0TVK/fEpb506dUoxmUweD59mRClD74pSnv6gyel0Twd1vR77qlBJvStS2Vgp0041Krv0kcqk7bXW5PFsZdJdK5Wib6xJqxalaHmkMn3XGWvy79lK7PhnlF1fWpOq78T7po/fopSb5IjKrcrQuERl+pp9yknbONU31UpR6Snl2+9lWjEp5WmJytD1h5Tv5BjLe+/aqthttmVfxDq/kmnh/PvPdJ7Phe/+tk2JvStZ2fhZixyjKN9+tlWMm6u8Z8tSyzqilF8uL1RO27bvX0eUjXGafRe+E9s3ycmyHhovylhfqJyX464EXtUXpVrZ6KS+fNd4SinanKwMTdimVLaXpUk5+fE+pfKMpnDPqPk3qyM/BUsZdcqTFqV4VZQSm36kox5836gUrY7qyOfvxbaMTxR5rFl+c61S8vGpjnrSifPtt7WDkYu7Ltfj25Pt5xH7ePzNucrIzUdcr/OrfUqqKPfU3R3LUb4U6xPjXvpYbrsnbeqbg8qS8fZ1SmncJ8aJ+mlrZ5b9SFRil2QrldplmU4pJR9UK6c1WXV6t8j3h/OVkzLtrP04HeeEs7ajfHVE2fVxo3hhUir/oNaNrUp5s3WS8n2LUp4uxs0S67flpdqmRZ48pC1zS30R+VRh23CxrHRxLOi0rFnKyPGRSur76vpU1mNWR9pVPROrTY9UhqZXy5SH2+rhcaATT+qC4GpbO3F2HBQs++RQHpby1h5/PWljzljWGWn/vk7lJJazOMq+rXx/RtmljtMcx53vp0Mb9aCdd6tdEtFVz1V80ydX6kelFuOzj4qx8T7Prir3tfPfyat6w2Iwe0QJ3juguepzep9IR+PhyWofF2uXHtOseUi62TpZ5T8sCY9NLMD+zzRXB41hmL8sBqHar5kHDUfcxBAM7CfT8EPExCigxtiLfUfFNu/JQcOjq7BibEf+Dxw7D8uTjmHzB5orYAjBovnxCLZtX/8wTJ0MVJ35Wo4Qy/ogD+edLGtR7NXxtXD7lW45jPq1Hu99n4zdOakY3V6Wfgi9JwajgzSFGxSGKWPr8MUZN/kg6tPbH47D/FlhHfWgXyDiZurQ+H456tX0xUacvzgAN/xEs/yAIYi6J6Sb/aOHYPmiLsrV0pXLjPlzNfOIfRw2PQVTdpagwsUu1R/MRemYJXhF078bN8dj+ZMh2JFfYr1K6bZNqVfCc7FnnA7zNXUKgTGYM+drFHyivZQ7AEnzdRitfRSuXwii7h+OYE1WBd8djYgaAxouuUpa2059kh6Ltdt2YxiS7gm05FvRW0bMXq1HhO3mlX4DEDFfj5nVGSiyfQ2huhgv2pamzIPGYco9ZjSckz3h1WW92+hkWeJY0xNXZb3ZVrfHgc48qgs9xaE8gsdFI+qiOIbabnr2pI25lIjlXZWToQTby8Kw+llN/vQLQtIiPULz87Ff+62HO+7aeTfbJRFdu/rsRln/PnraTbvBQfi5+GP+V1dHvrNoqAQifnaTTAchfkY0qt4pRo38urVmXx5OzEjEFEsg0YKG02J5x4uQnpmlGXKx74wITpq0t6oNwHVO9rnZcAx78uX71MdsbiiyBPX2N7m5NzhIfWpEE867fWMLzp8V+3irbR9tRGB6exhMJ05pPnAD4f9j+VKr3jZP18u6Gsx++xD+ftQ6fF6cg9VjTTAPuhWhjncctzWhpqwI2ZbyVx/PtwrpIjCyrwNONBlRJXKzJM9Wd+RQWN1RDwLG4eHHgXRdPOZtyEN+2THUX7C8u5vclOs3IiASgWPlXodteq9EnGwacd7FE2JaztUBobdisEzbhN4m6kKZ7Ski7toU0HhGnFieO4Tt2nWLoeBvYt5zspuLRSACNLF1O7EdpYV51ve9tga6pVmo7GK7PWet71F3DnF+MvVNo9jHMIR2ag634I6xZpw4pY3w/HCdJnazKT0l72zuclny9aXwalvdHQc686wu9JD+AU7KQwTrtpvEPWljLrkpJ/UpX+Kk57Ybrcl2N4fgbrENx233Z3nCXTvvZrskomtXnwX1fa5fCELvAfIPVTvth2xhqEXZxSCMGdpxI+3A+xIx80IOCtTnQqtXSt4B5k+zf4LEHRMTMSc5xW54Ib0YW6c5uSFXo3HvEkx4ZCtODohGkvq++auQs2iqnOol8SEShRJUuH1etWsmk7enEq715LKuFP6BQzBz0Tz4vbUe2bVypMp8DOm/jceyg2bc8YBaF2bjhfWrMH+YnO5O4Fhr+WuHuWuxu2QeRltm8MPo+Tn49M8ZmH/PALR8ko1Z8dFIeEv22e8VQzDlNw7blLwUWR9tQJJjAOOGyWRfJz1pU4PHxjusOwWLXhR5MH+4nMM5U3UWpsWuwX7zEMQniPfNWYqtL+owRk6/PMww9Vif555cljO9u3zHutBn3LaxHtZmFjnpLU/aec+1SyK6+l29QT0CET89EdiZiyKnN6KaUZqXgZp7ZiFpqByl8gtD4qzB2FF4CPX/U4Ad41KR0h6sBeK2UD+UfdmKgYMGdBr8278idaYVlYfKYUp6CovvH4Jg+R71+e7dcuNUpCQBOzILUO/i5i/rh7V1mytqHW+ybMWJyjoEjxna6eqaawEIvtn1sq5KIfF49lEz0v9Tc9PbqSPYY4jE7CfkY/nUsgwwo8GuC4MkMuo7+dLiJnEy1lSLBpN93bEuw/4SoX9gCEZPjMfslWn4eJsOzZkHcUJOc+l7+dcbg2/Fz/uL+n7ByTYNcnLZUgq+NRKo7HwVtv5EOXD/CMs3ZRZdtinrchrrjDB3WrcYXK/eov5IMervScbipDCE3ijf828jKuX0S2NtO6WfHEWzHGPHkm9HccLgEM5dqBMn2/YXC9z6SRCCXS5Lvu6KYz1z1JPb6oTHdcFL33lwY2snXrQxr6nLRnXnK/Ina1GKGNwVak369Q8Qx4km/NOatBLHemffWLhs591sl0R07bqKg3pxsLxHj3cePYvnp6civcyARjXIVR8fdvoYdqzVYd5fwvDys/GdgtphSamY8mEWnnrzEGYmRNs9PWf0b5YgIn891pUZOx4/Zjai4q20jkdjOjUAPx8aIj74qjuC8HPleHvnUZmQfiwCZ5Rj3xFNtwPxARGAo9h/SHsC4IeoRa9jdksGEh7ZgB1VRsvjzkwXW9FoKEf20hSMejzP0n909K/0uGNnGjaXya/YRR7U//eLeO5QJBbHDrGO84gfIh7UIbjTstZj+0lnz9W8Gvhh9KyFiKtMQ+ZhGRAFhSBCDZBqbU9AaUXNrlwUWFPtBt82AsFHirCn2jqf5aKlOBmbL+rkuo0FqNF81d5cU4RN2TJ4PF2C7MJjdn3CG2qrcT4oQGyNKyG4czKQW1hsfcKHKBeXj8dz1G84Zi4LQ+66NJQaO1ZqMh7FGxuKXHadGDw5CTPrM7BuZ137L+42H87Askw/PDFjnF276apNDZ48G7PPpOE5zXIseVqYgTdsT5lxITgkDP7ihPK47YuiljrsyCuSCclZ+3HapjpT23vUoSy8tFecyNr2saYYO9Qn84h8S3pyCHZszuj40S+zAflr16NsYqr9xQJ31BOfOUGdl7UhF1+4aVpO65mjntxWJ7ypCx4JGYopokXl2zqpm53tlAuetLHuslxMqcPm18SybXXuwlFsWp0F/8eTMFF20xs4dARGG/egyFZ/RV7v+X0+TmjL0l0772a7JKJr11Ud1FsCskU52LtsKCo26jBefVRaeDTCf/0MivySsfsvac6f8T4oGjNnGEVArEPiWIcwKigeW3OSge06jAqXN1ROmofsf41DhHZZmscf2oTO3IItt+1DQnQ8ElLiMX5FLaY+mQJ/bbA2NAVbHvdD7rwYsewl2KN+pgVEY/FL41D5cpIYF93xSDT1Wft/zMUrdzciU5+E8OhojJoQg/GPrMe+QLF/25JhuXAUkoisnHg0bEy0bq/Ig4Rdg7E6ZwPi7L7CDeh0H4DfQLFTNw0WU6ShOryzNRLH18bLZcVhXUsKXp11i3h7V0Hnlc+/v5/zb1tEfZivBkS75Q1/ojyW/2Ee6teqjyvVYVp8MrYHpGD5WDFJW+7DRFnOV6uKWpbjMGptiQgoRJ1cmIFtdx5CarysP2KYvPkogscOtQY/gSEIOL4VCZHiPbEplno7TS2v9BS47uEzAHGL1mDKkfUYr9bL8BRkn5STPCjX4Ac3YPcsIPMR9fGY1m0KfzwX394TJk4yXegfidW5qxD84UKEy7YQvqoO8dsysHiEQ03oqk2p9TgrDWMOL8EEW5sKT8BLR4IQMcy+E/2PfihfSAMnihP3uQYsi47BtEdEXk3PxXXJekRo99lZ+3HVphzZ2vt/drT3CS8fhf//s+Zc6G9ew85fGfFcktzuSB1yA5dg9ysx9hcLOp2Q+eM6sYhhN3bs37BHRb2YWItlsXJZD6Sh5eE1mH2bfb36kaij7uuZ4OeHYM1XHR5vqyfHAUee1gW1ffXrfGzsZFAMVrwUjYpX5HEmsePxp9p9srCcoKnffsq0J23MFbfl5Ieo5eKYe8M+6KLlsietxIkHMvBO6vCOLmU3x+OVlUNQsMBaJrc/sB7HJz+FJ26V01UetPNutUsiumb9QH0EjnztMYPBgKAgZ9Fw7zIajQgJcfGz4p5QfyzE7Of5V5fqFaeuutSoPwhy0cXyunqv+j6TeJ/tq2Bn86rziEDN7vNL/ZZBfZ/DB66NqaUVJvGh09VXzJZ5+onlOluGq212MV79kRn1zsX2QNhdfvUxtZ56VV/cbb+T6XZ54DL/rD9E46xc1Peb+juUs4Zlup+L8nJBLWOIZbotFxfju6wjrqhtq63rumfhNo9FXrWY4a+tVzZdvdfyPpHHtrbobF5n7cdNm7Kj7qPaJp22nS62W+V0e8TgdF4P9sUZ9X0u6pmd7myrytPtcFcXPF2OylleqBzf38Uy3bUxO86W42rZ7vJR5TiPi2V50s671S6J6KrkKr65toJ6uqZ4HdQTERERXeFcxTdXefcbIiIiIqKrH4N6IiIiIiIfx6CeiIiIiMjHMagnIiIiIvJxDOqJiIiIiHwcg3oiIiIiIh/HoJ6IiIiIyMcxqCciIiIi8nEM6omIiIiIfByDeiIiIiIiH8egnoiIiIjIxzGoJyIiIiLycQzqiYiIiIh8HIN6IiIiIiIfx6CeiIiIiMjHMagnIiIiIvJxDOqJiIiIiHwcg3oiIiIiIh/HoJ6IiIiIyMcxqCciIiIi8nEM6omIiIiIfNwPFEG+9pjBYJCviIiIiIioL4WEhMhXHbod1AcFBclU3zEajU53gsgZtZ6yvhAREdHVxFV8w+43REREREQ+jkE9EREREZGPY1BPREREROTjGNQTEREREfk4BvVERERERD6OQT0RERERkY9jUE9ERERE5OMY1BMRERER+TgG9UREREREPo5BPRERERGRj2NQT0RERETk4xjUExERERH5OAb1REREREQ+rm+DenMrmi+0wtQm00REREREdMn6JKhv+t8/4ukZcRgZFYfxD8Thl+OjMX5uOnZ/YZZzEBERERFRd/V6UG869jYee/JtfPQPYNQDv8Xc2Y/g0ZhfiPF/xpq5q/GXf8oZiYiIiIioW3o9qP/7oT/hC/F3wrNv4o8vLIA+9TEsXfsm3k29Cbh4GLvLz1pnJCIiIiKibun97jdmaxebW0NEEK9xw/X/YfnbIqcTEREREVH39HpQf/vdv4a/+Pun9/bijO0G2Zb/w97/OSxe3ILJo26xjiMiIiIiom75gSLI1x4zGAwICgqSKXfM+OL9zXhy4wGckWOsbkHCKxux5j77K/hdMRqNCAkJkSmirqn1lPWFiIiIriau4pve735ztgLv7i6zBPQDb/kF7rhDDDf4idQ/sPe/DuDERctcPawJ+1/W440qV117zKh6S491Za0y3XsaP1yDhEd09sOCNdiUX476FjmTN4zlyM4sQo0t31rKsW5BDlzuKnmt8XAB1i3tKC/dC3koNXhRVxzLyFPdfZ8n6gvEfhSjUSbJO6aaIqS/W44GPo6XiIiuUL0c1Lfiozdexu66QDy6dQ8+3vkm/rRdDO8X44Nld8P0+dt45k//J+ftSYG4Y6QfMvXrsf+CHKXRULgSs94JRMTIAXJM72moLUZN0FQsX6jvGGaNww2V25AQuwT5Rjmjh0xN1cjPFctskiMuNqLhcDVOfiPTFmbU5GdgRy0jfa+0GbFnRQzGLy3CtyNTZHnNQ1zgISxLjMOM7DqY5Kxd6VRGHuru+zzSYkTF3lo0yOSV7zLV4XMlSM8s73Ty03KqBNnvHGFQT0REV6xeDur/gcpi9UN5Aqb80j6A/tn4iWIscKa6Dr0RwwQ/uBZbJpZg6doi+w9iYxHWvXoWKRmrMGWQHNfbgkYg4u4wzRCD2a+8jlfGlWPdrmNyJs/4j0jF3r9mIOlmOcKpFtSU5aGstjtfBVy7at5diqU1U7HtzznY8miMLKtIJC3KwF/fTkTL66nY/In7INOzMuqsu++7Ol2mOny2Gm+8JYJ3mbQZPC0Nn3+kR4T6JSMREdEVqJeDej9cZ+kyfxwn/mEZ0c7U8A/Loy7RT72NtjcMwJTnXkfKlxuwrlBeDm8zYMeqDWhIWoXFo+0/nU0X3PzabZvZMt3VPKYWGezJ+dz/au4A3DEyBCaDseOqoNnNsiXHNPUA81EUbDdgypPzEBUox2n4j9bj1fmDseNNcZIox6lclbvTMmqvQ5r3uClbx+W3v9cZ+YvNXc7jqYtyWS66AnXZXsR7O/Khi/lU3dhmV3muXW87dR5n+9Cen11sm1Y3l+NV+dm4OA6oOtUrT/ajqzzW7pdlPg+2j4iIrki9HNT/ApOS7xR/j2P9nLl49vdvIyNLDK+uwP3L/gtnRNAf+0AEnMRQPaP/cCxenYyGl5civboJVa+vwjoswdaFwy1P5FGZ6ovwfEoMJi1YCJ1+ISbF6LDpE813B21G7N+QivDwaEx+TMzzWAJGReuQru3Efq4IT0VvQ2lNHnQx0QiPX4hcg5zmilhu5WEDRt8zHIMtI5osXT+e2uvwvUV1FsLFsqtk0rquldjj4uuNxr1LcHtYPJ7/BChdGy9ej8PtE1a5nJ+kmkPYcTESUx2+UdIaNjpKlMchVNny0lW5Oymjxk8yMEPMMyFFrUNxGJWShapPtnVdtnbLj0OyPhWTJ0Vb36sNMC/WIfvpeIyKjEOsWo9Ffb59kihzL7t2WajLWiDePyFBrG8hYqdGY/xzRaiX1d0ktmVerNhXy35Y28LzhQZNt6Qm5D8bg/RPrMuZoFuI5MSYzm3Gcl+LaFeTki3tzpInsWuQbzB3XYdd5TmOIX2qWG+1+rpD44crEf5skV13moYDG5AQbSsLsQ8xqdh0+DOkTxDreSxPzJGHGeo6xRD+lvwmrVqU1VSR79aURcOBNEuZWo4LKWL7Y/R444im0D0tPwdVb8ch/LWjnbp6mQ6niXzPRY1MNx7JkcsV6xfLnhCzCjtsBaXypF6o+yXyp0LNk0kxCE9MQym/4CMi8k3q02+8derUKcVkMnk4tCgnCjYpv70vUhl6V8cw8v7Fyusfn3Uyv+tBXW93HN+erAy9b4ryy/HPKLvOyJGqbw4qS8YnKxs/a5EjhMZ9Ytxc5b0vZdp0Sin5oFo5bZJp4fTuZ5ShD+crJ2Va+apQSb0rUYldkq1UfiPHSZXpYn9nvaj87g/bNMNWZUnyFOWhdQeV09/LGZVGZZc+Ukl9v1GmpcqtIr+2KpUyaV2X2I+vXKQtXCzrGuNNfTn/vihTbT47I8s58+/26U7l7lgmX+Yr08V8S/ZoKt+XhcrC+6I8KNso5ZfLCzvqyb+OKBvjIpXp2or8TbVSVHpK+ba9LpmU8rREZej6Q8p3ckyneuRUo1K0OEoZuVizvu9blOMfHFSOq/X/q31K6vgoJXW3/X6o41762NZArHVv5H0rlV22NmTbnln5ymk5Rt2ekXFblfJ/ybTw7d8PKSWn7JfTqQ67ynOlWtkojisbHXbQUq76QuW8TH/3t21K7F0Obf6rI8quj+V6XOWTw3hny/n2s61inDh22Kqdp+Xn6Hi2MumulUqR3f61KEXLNe/7e7YSqx7P2vNYbJN43/TxW5RyWxZ6Wi/iEpXpa/YpJzXHOCIiunK5im96/+k38MPP4xbjjx+U4G8f7cHHH4ihtASfvb8Jc3/5UzlP7xr26HqsCGpF8BN6JGmexNlwIBd7xukwf6zm6mxgDObM+RoFn8hL7X4hiLp/OII1vXWC745GRI0BDXbfVA9A0nwdRnvUT98Mk0ms3yiW4eRGXrqSNeI7L8u95kAequ6ZhWenaSrfzfF4cVGYTHQlBIvmxyO4n0z2D8PUyUDVma/lCGHQcMRNDMFA2zyizUVMjBIrNnp3Y6yhBNvLQrB8kWZ9/QZg2P3RGCbqf/3BXJSOWYJXHrLfj+VPhmBHfond1fDQuamaewPE9tynfsvR0dWsubEJpkGDcb2m993AoZGICvGk07o3bU3LjIo9OahP0mOxts3fGIake7z5vtC6nIZHV2GFZjkDx87D8qRj2PyB9j4ZD8rP0bAYzB5RgvcOaC6pn94n0tF4eLKa92L9hTkwzZpnd/+F/7AkPDaxAPs/kxXU03phDMP8ZTEI5f0CREQ+rQ+Ceo3+AzBwkBj6+sOjXwACfgJcHxAgR1g1nhEfvucOYXtmFtI1Q8HfxOfeOc0jDM/VobQwzzr9tTXQLc1CJYw4b/fEmUAEuOq5MSYJi+enaoYlyCjYg6237YFuczGa5Wx0+QwOUp/3asa3dgG7g3+eRQXCEHyDTFt0Ue6SuVkEZ6G3ym5WHQb/hyfP0A+E/4/lS636U3ZBdLPhGPbkyzq8YRUSNhRZgjevelJcMKJG7N+dLjarRbQDZ/sReps4OSmzf7LO9f3t25qVASfPWV8NHJeEJ9q2ISF+Cda9W4TSKgOaPenbbuE+z51rwfmzQNSdQ9q733WPdTkRtzr+xoYfQm8Pg+mEtmw8Kz97QYifEY2qd4pRI/OkZl8eTsxIlDf3t6DhtKiox4vsjlvpmbnYdwZoaOoodc/qxQBc11++JCIin9W3Qf0VaPDYeMxJTrEbFr2Yg0/nD7dMN1VnYVrsGuw3D0F8gpg+Zym2vqjDGMvUSyGvXh6otd4wTJfXzSGIQhHKKl1H9fXHD8EUNALDbpQjvNHm5GGY38u////27gcsqir/H/h7H/eBXX9i7kL1i6WNwlUj/4ZLYCi0KhZCuwG7Bm45WmKaKBv+Sc2yLDWTYqXNtBL6I7o/wS3BLdFWsBIs/WIpGHwlKXFaE8qAdRueeO7v3JkzcGeYP3cQ/4y+X89zn5l75865555z7r2fe+fcO+dI7YM++r61ONYnBslqG565GHlzJ8hPzz+TydWZkBPq/S5vluD9l6ZiTL9W7H09HaNjDHj5cDfSuoSYTD3TIb3v75Iw+UweCg+I8lBv4n4dmDkxzOZk5OYxSV32XY9nl2DtRMuvDhe7XRAR0YV1RQf1QTdGorHWiDb11wP7Qf6aUHegBHW3pyAjOQwh18rP/mtEpeXjc2L6jzhg97Yepn1xlZ9YXpPmRjuh+d9fy3eeMzkKJMmxaycgNRnYtGmn42eRny1H/t9qET09AaFykl433RIL/KMUZTY3R7ahbFehfH8uWlG5rxym5DnIuHMAgmT7bTvTjbtkr1NPbMpQYb0T0466vaCy67Pu646WA3cOwU1yXLdePggIHozou1Ow9IUibJ7Siux/1coPLfS3YR9cFQicbrT9k7BvvtE+dssf/UN8UPbRQbe/jv3g8lcDSzoVNdobhFWtOFpZi6ARA7v8muExnzAkTQlAwd7DaPhXITaNSkNqR8OzLH/vV622+yw5+Jq72/RguyAiIq9wRQf1AeOmYurJLCzZUtv50397K6q35+Dl/ZbgICg4DL7iQF1lvQDXUotNm4vkSDedbUVjdRGWP1+IkGkxGG6e2Ac3jxiMhm07USGXZaovweqtIkiwjDrW2w9+OIhd+7QHa3+EDg1ExTslOKSm1d7m/HF3JPkgeu6Loj2sxMS0DSirb7KUWVsrGg4V4rH7MlEwchGWyqugnuh7RxqeHlmEOekbUHyoHg31B1HwvEjvGz196t3pg5sGBotg+zDqrHV8qhyvbTkoR6Sf+4l2VI6dB1z8M644sZl5vw+yV+fhkPVejzYjKgpKUC3OPwPGJWNyXQ6Wa7aX5v05mL/OBw/dOwp9LZN0adizGQWHjJ3tst2I6qpGBHX0zfO0DQdj+BgfFG/vPClrPpSHde9a3lsN/2MmovdtwFM7REBuna+6BJusT7wKHojxKETBLjne5viXg+G/T8fNW7Kweq+cT+Sv7h9PYMm+SGTEDbBMO0ehCVMQIZYx45V9mJwYY1O+6npEFKzA8r2aMlTr6tUsFJxQR3S2CyIiumxcMUH9z9SrVx03jEm9B2PhhiyM2J+J0eGWR9gNCk/EUwcCERFq6bTbd0w6Xp9ej/kxsZh4XyqiJuXjqpR0RIhQ2r4f6s9+Kt9o/R+RzhtplrStw+hYxC0tge+UPGy+vzMACIpbjKWhRTDEWOYbvawG4zOmIER+bvZT9cq+Ztl+Mch4ahQqn04W34npeKRfaOoyZCAf96pphcdgyR4XwRxZqO3hzXws7X8AS+5LwDC1TUTGYlzmTnNdfbBGc8OjRpd6t6+jXoFIXlOI9dFGFGQtw5zVRWi5fRlypth1Xrf/nlnXdubTNxC4LkB8YhEyeQ3W9N+JxJgEJKYmIGphDSY8nArfQD9xqiINTMWaB32QPyNWtJNMJ4849cHw2TlYP2If0sbKthppwMtn/HGNut69I7E0fzGC3puNcLm9hC+uRcL6HGQMsb1Rxq/jFyjJfFIRiKt/YRm9+td9cDTbIMo4BlFJalmnIt8/E+sndW4Prtpw123NBxHTVmJqYw7GmfMWg7itfsiYGy0/lwITsDYvBfibumzLOox++iB8/68szX6xWPhUDCqekY/STJKPkOzla1uewUnYkJeAhlVJlvlE/hK3BmBp3krE23TPcl9/Tpl/PapHXZsBSSNty7djPTZ2rsegsTOQ+59RiJD3MetqFyr7uiIiIq/0E/UROPK9bvX19QgMlEeOC8hoNCI4WM/NhQ6oV6scBGQd1D9haWmDr5/152s75s9FkN9PHg7t03OXvifUP/5p90FfPyfLckTNn0l8xy6AMKf10z4X/ubkS4DaTrvdXgT1D5ZMPqLs7MtU6xzqvXn3MoS/PgQ73kyyPXHTcpa+o+nqnwepbcBVu1HngY724G57sG+jWp7k2d1yVPZt2Fn6kvqHV6ZemnpzNr+arloWjurXfnt3ocvytDwpiy6M2GRIRlF8AbZoH9tlT63Ts6IunOXVXbvQlRciIrpUOItvrpzuN+4OWr3Ug6KLwML8ueagaT9fTx4U1acEaYMlPWmr+XMUVKhpuY9LyAFftR+yq4BepaduWsqxfF4eKtQnllidKsdf15Vg+O8jnQf0KmfpO5qunoC4azfqPHrag7vtwb6NanmSZ3fLUdm3YVfzCuoJgk29uVoHZ/Vrv7270GV5Wp6Uhb3qEuQetj7G0gW1Tl3l1V270JMXIiK65F3xT78hOu96D0HSmCZkm7u+yK4ScU+gakwWXtQ+851I49C+fOD+VPkYSyIiIteunO43dMU51+4354W5q4Tl6q7Lq9NE7BZDREQOsPsN0aXA3FWCAT3pwDZCREQeYFBPREREROTlGNQTEREREXk5BvVERERERF6OQT0RERERkZdjUE9ERERE5OUY1BMREREReTkG9UREREREXo5BPRERERGRl2NQT0RERETk5RjUExERERF5OQb1RERERERejkE9EREREZGXY1BPREREROTlGNQTEREREXk5BvVERERERF6OQT0RERERkZdjUE9ERERE5OUY1BMRERERebmfKIJ8r1t9fb18R0REREREF1JwcLB816nbQX1gYKAcu3CMRqPDlSByRG2nbC9ERER0OXEW37D7DRERERGRl2NQT0RERETk5RjUExERERF5OQb1RERERERejkE9EREREZGXY1BPREREROTlGNQTEREREXk5BvVERERERF6OQT0RERERkZdjUE9ERERE5OUY1BMREREReTkG9UREREREXu7CBvVnW9Hc0iZHiIiIiIioJ1yQoL75yP/Dw7+PxdCx8YiKFa93PYwVxV/CJD8nIiIiIqLuO+9BvenIa7h/+kv44BsfhCfeh+lT/4BwVGHLM9PxSPHXci4iIiIiIuqu8xzUt+LDrW/iC/jg3ue34dX5DyA9LQOvbpyP0WjDBy/8HR+zNw4RERER0Tk5z0H9l6j+UH2Nw+gwH/MUs+siMTZSvJ59G7sPMqonIiIiIjoX5zmo98HPrlJfv8TpJvMEqQlN9ZZ3nzawCw4RERER0bk4z0H9bxCVcJ14rcTK53fgC/WifHsrjm59FRtkLH/0VKvlDRERERERdct5v1H25kmP4f4bANOHz+EP0TEYGhWPSS8D90++Tc5BRERERETn4rwH9eh9C+Zt3Iy/zb8P99/7J0yf/Rj+/vazSLze0pd+dLB6Jb+nNWHX0+l4+ZCz/vptOPRqOpbvPf+/EjRsX4zE+wy2w6xleLagHHUtcqZLXj02zVqMghNy1N6Zcjwr1qnYKMd1c5OuVV0hDPOK0CBHzw8jCubZ1ZMYDI/nYNPeejS3y9kudd0pq5ZyLJ+VB6ebi0utKHvOgOwDl8C9MSeKkP5cOZrlKJFL7UaUvbEBBdUXt+02781C4osHL94jno3lyF1XhOqzctyqvQkVBTmYN0vsB7fI/rLkUnfqsm5LOua9Z9M/GabqImS/UY4Gbznu9CB9ZWh/3GlD9fYNyN3rLgjRO9/5oMalIk46JUfPk/Mf1Kt6X4fRiQ9g3txZSJ88Djf7teLTjyvFB9dh+IBfWubpUf64eagP1qWvwK4zcpJGw/ZFmPK6PyKG9pFTzp/G46WoDpyABbPTO4d7w4B/PYGJcZkouBhty2OtaNhfijrb/U6Hht25yD9ciiWbPD0wuU63Q4sRFXvq0ShHz49vUbenFr+6U1NPYpg6Etj1ZCpGq4GyN+xgu1NWZxtFPRzGse/kuEdMOH2iFkeNnp2hmmoKxYltbQ8GMm2o2JKFo7/wR185hS5F4sC2bgPKzvOBzZ7D9tb+LSrfyUdxzfnds7jTdsaI6lojPNuCeq4cTU2HUZBfgmrtfri9Fi//KQHLqwKRvCALaxOD5QfkSnfqsuXUQdEGbe8tbBFxQ+7rB67IoF5fGdofd1rwxZ58rDvwdec2fqoU2evK7Y6FDua7YPxxtZ/IU1GtHD8/zntQb2qowtGvba+ENP/PG9jwL/HmhjhEhVim9bSgu5/EmjGlmPekXTBmLMLy575Gas5ijO8np51vgUMQcVtY5zAmAQtf2oY1o8qxfOsROZOXajuCTa9/i5nPLMaYLYUOT6K8SdAtmnoSQ/Td6cgrXIYxe7Ow6bCcic5ZS80+5O6t8TCQcaFlHwq2BCB59AA5gS5NX+N/Xs1DxQV+PoLD9uYzGBmFpci7J1BO8CY9V46+Q9Kw44McJF8vJ6gO78S6+iQsWJSEiGBxoqx5eB2dfwETs/Dp++mIYLnr5I/4F0rx8SNh8JVT8PVhvPyqODGSoxYO5ruAhkcn4fTrRag4jz8Onueg/lvseP5hTEqMxx1THseKDdn4y5REjH34/+EL3ID7F03Czb3krD2uD8YveRGpX63E8u3ycnh7PTYtXomG5MXIGG67tZjOtKJZDCZnZ8btbebPnc1japG1JOdzmk6HPoi4PRKmuuNdr6qetSyn2f7nUJX4zJq2Jc+2rcPUcm7rYeU2Han5X/nI9U9B/JgYTL53H9b9w/VZqK50rXm0lunF1k8E97e34Yuvuv6k4LLdnGtdtVk+d1kOestKZ73rItunu3SsZdPcnWp0tQ040Ly/FMW9oxHRX06w0rHeLvN5gbY3e27LrjvpuvuOm/Zmv4+zLwstj+teTdNa1+Z8aJblZj9ow8N20610tHmyloUn+yrrd9zl0VofLsrZKT37Do2OupUav6qH6fYBuMVdUKndPnTs263twtU8HZy1CStrOTpKr8t3xaD9up460NOWPK1Lve1Em3+Vdty6TBdp2deFOq67zNW0Nd+1oa1vdT53q6OnDestQ1kfTtdDLEvXOjqbz826e7L/62g79nUUOhLJZwux6xN3Bdd95zmo/yUSH30B6VF90Fq7F1ty38b7td/Cd/AfsGzTK5g37DyfhvYejIylKWh4eh6yDzfh0IuLsRyZWDt7cMdZmqmuCI+lxmLsrNkwpM/G2FgDnv1IE7y1G7FrZRrCw2Mw7gExzwOJGBZjQLa2A/KpIsyJWY+y6s0wxMYgPGE28nV0Qfzmmy8BPz90lMLZehQ8bUB4siUvhuRYJD5fjsaOBtaEgkdjMWdrCbJlnuMSYjDsgc2obhInLAtjMdowGylJsRgWu7hL362G3Vm4V+TPvB6p8WKedLx8wC5QbSrHs6kizbgUkYc0jBbz5FY7u55qRNGWUoy/dwKCxFpETDTAtNHJWajOdBs/ykFiTAxGp4o8GuIRPkus28XuJN3ehMbjoqp6d57bu20351JX1jYXmYgUkXZcnGhTs/JQYVdVesuq8UCeaJfx5rQsZb8Ym+q6sVMR7VPN96DRlnyp6/zY7q4N3dzOxo7CsKQ08/LGRcYgcd0Ry8+dTSWYETYKUU+WAx+tRJR4PygsBunWPqVutwHHvvjfUmDMENykuUhgOpQn2nss4sx1JNY7JgHz/iGCFfm5y3yandv21p1yd58n9+vlSMPulZ1tRd2Hxabh2f3yniI97c1mH6euk8jbWFEWqRtwSHswNpZgnvj+aHUfo6Y1Nhb3/vWg+T6HQ+tiRF2nIVe8z31ArXcxjM3DIfV7h9cj/FGx71DzKb4TnpSFMrF7aHxvkXm67YWPI8ieECv26XJUdbYWubM622bchBhELSlC3b9dtTdZv9r+zGo6f0nAsAmW/dS40aL8nxbpaNdRm9fYJBhmpYg6EGW2sMRNd4k21BUs7jyWqG376VIcs/+ONQ+R8ZY6Fm1v0FjRvuS1KZflqPaDfzUd4Xep7Ud8V90vLCy0zb89c90uQrFaDC3leGy0fXkZkOvweGYpv+yPLGXfsS3YHx8Fk2g3M9R2ZW1/Yp7Htrtus87ahMrttqV+d0IOCnaI8lbLQiwzPDIVj+0xWvab1npT6/dV2+1LVxvQW5fdqQ+VOf9i25Kjutucepw1iDqwHmfNdVGO7Bi77cUB9/GBbX0PGxsPw1YngY6bNmyhd3vQd9w5tE60kQ1qzwexfxBteJDYTwObca+5DY9CuKhn2/k6uV13vfs/sS8tXiLWO0HW9ySxLEMOKqw9GHwG4ObbgbJaHQFidyndcPz4ccVkMnk2nG1RTp9qUk63OPhM56AutzuqNqYoA383Xvlt1CPK1pNyouq7PUpmVIqy6pMWOUFo3CmmTVfe+kqOm44rpe8eVk6Y5LhwYtsjysA/FyjH5Ljy7+1K2q1JSlxmrlL5nZwmVWZHKgOzD8sxydSoHHt3jRJ3a4rywmfWhFuUksXRSlz2AeX7H+WkHxuVoqXRyqSOTDcqW9NFeup6WPP3nwPKqvhIZWz89M71+PGkeb6hmuX+8Nl68/K06/r9J2vFNLGuHcVqSX9oxnblREceRFoLxitDb41UVlXKaVZVucrYqDVKeUfZnFTemhKpzH5XU55mOtM1l2O0krZNU0lfbVdm/y5aGXjrWsV+8e541l4OK6scrOMPjceVotWi/SSuVyqt66mn3XS7rkxK5Uvq8tYq5c1y0o8tSnm2mDZFtDlr+ektq89zlThtHoQfRL1N0tabOS0xz7/luEMiX9lJDvI1RRkaFamkvdMoJ5qUYx/uVCpPajaYk2r6UzTtTFFOvyO2ofTtymk5bqFnG3DEUtZjN9bIceFHUZ9RSaKcNflorlFKPzyu/GAe0ZPP7m9vusq9Cx15crteXTna9pV/H1C2fqjWmWft7bcLNNuwLAv7/ZNNmxT1Vy72n9/LUWfbmVK5VhkYn6RMWrZTOaZZNcftxD4N0UYyou32Ly1K1bt7lCqZluN0ZH472q6jdETdqtNW7OssXzWvUdHKPdp2aq6naOWpCqeVq/wgvjfWwT74HpGWTd6+O6wUlR3vTFvUUXmW2Pa0eXBSjuqxzib/4rtVr0xXhq4+4LR9ONr+HZeXPUv5Df3dIk07l3kVbeeEnKL8e6eSJtbRfl+lTnvqQ+fl5axN6Nq21O+K8tHuS8zHbZFenKZ8fhDlP9Zm3fW1Ab11qac+HMYI5vxr9uPquNs2Zzn+jl280zbvzo7fGo72Ec7ig7GJi5R1lZp9iSM62rC+MtR73HFQjvZlKNnPp2vdde3/OrebzvoW0yrEPl0TF5qXv3iPZp/YPc7imwtzo6yqlw/69utzUfrmhd6/AgsDWxH0UDqSNd0nG3bno3iUATNHam6Y9Y/FtGnfovAjeSblE4zoOwcjSJPvoNtiEFFdjwabixF9kDzTgOGO+um/kWa5mmIdIpMwZSswNX8DMobIhE/sxGvvjcLMKWHoa73a2Msf8ZMNaHynHHVykipo2ozO/o+9wxB9h1iXoamd69ErEBF3hGm69rShojgPDfcvxkLNuvYdOQMLko9g9bvyrLW+FPkfRWLpowkI6shDoFivGeh660Mrdm3Kg++0BE2/v0Ak3BuDXVt2ok57tq0z3bo9hSi7PRPPaPu4Xp+AjOkX7iatjitfchj2h3S89WMKtuWlwdpjS1e7kTyuq7aDKHrViKlL0xHhZ55DzNMHETPTMflwDoqqLZP0lZWo9+15ME3R5EHwDU3GA2M8/AlQzdcbjQ7yJdK2uerkg5DbYzE8ULPBBIZh/MhafHHSzfI82AZsWX5JCfH3l+PC2UacPtsH1/xCkw+/AYi+PVj+Sqc/n93a3rpV7jry5Ha97Fm2/brkdGRo2+u1YUi+XZSXzvZmEYy5MzXbsCiLCeOAQye/lRMs9XC1f4AcF0T9RYj9p66bl41hmDk/FiGaVdNF7F827g3Ggrna/UsfhN4Zg1BP0jKnE9Z1PzU3HSEFBdilvWh5NkGUhaadBo7C+Nvb0HDK2a+aoh7e3YzTDvbBc+Ps2kO/wYgfE9yZtmgXEWOigWqj66daibos3NiGmdM1+RffDZ2UivFbSs9bP96Q6Wmadi7y+juR18PGjl9X6vbko2xE133VgoeDsamg1O5XGDtd2oQn21YsMqZ11pH5uG0EEh7qLB/fEaLeIPYt1nsTdLUBnXXZ0/Xhrs3VlCD3cCQemhNrm/dHxLYtRx2z7CPcxgdS38Q0PDRcsy9xxG0b1l+G+o473eXJurvb/wHfNH0pYoEAXN2x3kDAbWKfrokLA34dBrS0iCWfHxcuqL+YevnB7xfiYONnbRUWjSdFhZ3ah43rNiBbMxR+Jtqe9k+xTtWibPtmy+fPL4Nh3gZUwojTNk8L8Yefs3Z+/wZ8fnCfZSgvwrb5YWj7rx/6X6/5QpMRh8TurXSzbV6ytx82bwjaQ4VN8CL8TG1A1wTYHDh/Jk6iOrXgtNhpRdxo//hQEUQMEsHIURmMqHedi4bb/1rzh52uD0aXfxUwB2BhSL0jsKMfmjpgaAziRTCQr33Eoc50W0Q5I+RGaEICs5D+YiO4QKa+JutJDJ+W5GHpSBPa+t2IEE3T0d1uBI/r6rtGsdMLQ0iXqroBN49sw9HjlshCX1m1oOGEqIeqIpt8Zq/Lx86TIjBtchaAOOAyX/K9VXsTqvcWIde8LPWReIuRLYJDt8vzYBuw1Ybv7Z8i5TcKf34QyDYkYMbKzSjYewR19jdx68xnd7a3bpe7uzzpWS8blm0/+pYBjoN+ne3Nwh++P5dvtTpOZgYg/qEYlPwlHveqj4J976CoNk8OXX1wVW/51hPm/UsYbjnXc3+X+6lyVNk8etcHVzk4YSg77uzOVdf7YHvN9UdQXCDbzcrFSFxZ5GYbEL4TAZMIdCp3WNubHN4qFXVsf7zqOVf3tj2uWtTjmOyO5nJftbdGBnnO2LcJT7Yt9Wkj8q1KbLe+uAEB2gtvvey2Cl1tQGdd9nh9uGlz/xVl4yjv196Im+Rbx3TGB5J9HOWM6zastww9OO50iyfr7m7/B4ROSMP4vZkYbVAfW16CCrG+9v3zbY8VPe/KCOpdCBiZgGkpqTbD3Cfy8PHMwebPTYc3YGLcMuxqG4CERPH5tHlY+4QBI8yfdoOPP0L/mI65PnlY8ne7m0r9RyLZLi/Tpj+JbaUzMFzO0tNMJpeHCYv2ti5nldU7N4sArBzLk2IRrvZ3tA4Jy1As5t60rdT988IdpOuIyeRJYNBzfP0HYPLcGfB5dQVya+REyV276XltMOm4MuGorG4ek9Qlr49nl2DtRNtgtXvs8tV2BNl/SsD8PW24+S51uVPx+IrFmBkqP3enm9uAb5dg0AfDZ4r6eDsHM2/vg5aPcjElQdN/9lzzqYPH5a4rT27Wq8foa2/2giauwMcf5OHxiQPFTqIIT91n6ferDQq8js79VHfZ74Mbd4ig4L61ONYnxrItzFyMvLkT5KfuDMD4P9q2uWkp87Dh/ZVItg/2LrJz2a+f332aA7qPVfbH0wtfHz906dff/T2DrvjAgXNpw/qW2b39kye6te6BscgpKcW2BQm4BTUoWG1weL/V+XRFB/VBN0aisdaINrVbkP0gT6bqDpSg7vYUZCSLs8Vr5Wf/NUJ9yn639QpGckYKTC+uR4G1sq8LRnRTDRpMmjxYB79zPbPzR/8QH1TU2N+Y1IqjlbUIGjHQchXFP1AEToftrkgJx2pQJt+aqT8rvg5kvNl5VdtmeH8Zxu8uQJE1HZ3pBvxKBMSVXa/c1B0tl+8uguAEPHp/G7L/1nmznp52020BN+Km3gdxtN7uEHKmVpz1B2LEQMtBS19ZWep971etXfMpBl/NT4Ru/SIQQU7zJd+rjh9AcX0kpj4kH4WnLsuvDQ023Tgk0Rh/kG/Nur0NXCfaMHD6bNedsK9/MIaPScDURVn4cL0Bzev24Kj6gSf59Fg3y92DPDldry4seSn7yHKzahc625tHegci9LZYTH5kGbYULsNtu3ei1P6g9qN8dcNHvQp8vAnfyHGzM3bdUNR2I/YkNu3QEfv2Zs+cjrP9VCxuPafHL/sh6Hrn++BOrajcVw5T8hxk3DkAQbLNqM/udkhbjua63Ie6M7btzTKc36uDrqj7S6f7qjuHuLmKbK8H92mO6GoDOuvyQtdHyBDEoxC77Pr1mCpKkS/fO6YzPtBNTxvWWYZ6jzsudDnJsdHT6y708kFQaBjik9OxJm8b1owsRdH+zl88G04elO/Ojys6qA8YNxVTT2ZhyZbazn8MbW9F9fYcvCyfDBEUHAZfUblV1nihpRabNhfJke7zHT4VC+88iOVvyD9sunYCZt7/NZavKkS15uf05uoiPJvr5IDsgeG/T8fNW7Kweq9sXO1tqPvHE1iyLxIZcfLZ3tdPwAN31mL18yIP1vU9cxDPvlhi89N9w/b12BSSgnhnVzX7qY+3FOlskeumM92gcamIr8vBck19NO/Pwep3L94ByXxldMpsxFdmYd1+y45FT7vptl6DkfzwAGxandP5xzJt9Sh4cgX2jklD8kDLJL1lNfyPmYgoWIHlezU/A7YZUfFqVuc/+YrAyQ8HsWufk8BB5ROGpGmBXfO1Mh9faB/zHRiMCHUnXCPLQS2XrfniUGMroP8QBB0oQvFhy3zmi3bd3gb8xXYKVB/X/KHIiVLkbj9ic99LQ81hnA6UT5vSmc/u0lXu9vTkyd16OaDmJXrfBjy1Qxy4rG2lugSb1Kc16WxvurQcwSb1n7K1dSeCoS9E6+rsQhGMW8YB+dtLLE80EvshR4+Ps+o7cAiGG4vFQVGWichb8V8LcFTb5sztxgfZq/NwyLpstawLSmD9s1iH7c2eSCc12cF+aukG+D6YjDH6eh044YOIuw0I6rIPXoGNx7Qr0wc3DRSNufJw531Jp8rxmtiX2nJQjhiMyfPDkL88C2Wabk8m40G8vLKoS1B9oQSMS8ZkB/uq+et88NC9ozz+s7hubVt66WoDOutSbFt66sOnr/jO3j2osC6vu/xikPFEGAoenY3s946g7kQ9KsQxacZ2o5s+9TrjA930tGGdZaj3uONI8ECMF3vPAuvNMG2ONvqeXPdWHCooRFm93FepWmpQdUxUTceT81pxWuy8fW/WdEdTH7U+Lx0vd+8v3bu4YoJ6cz9Y+7P43oOxcEMWRuzPxOhweXNkeCKeOhCIiFBLf/e+Y9Lx+vR6zI+JxcT7UhE1KR9Xpag3nmgPVBY/+6l8o+XjA1+HR9s+GD9dbUzizNrclkTwODsH62/Zh7SEzhs1x60+iKCRAzt2fA7Xw9EyzPNpQubgJGzIS0DDqiS5njFI3BqApXkrEd/xM6D6bP88LOidh5QYy/KHzSrBLYsyMb53IK4y9yczoqy4FvF/Vh9j6Yx1gy1Fpbmd6klXECcDz+Slw+8N9RGi6nwxMOwaiKcXxcDXRdDSU3x7i3K0L1uVyNdMNfDZJm/q0tFuVN2tq5A/Po8tvzdiSbJMO9KAfP9MbHsmtnNHoLesAhOwNi8F2GjAMGtex85A7n9GIcK6U1QPBk+NQuXTyeZ0nD36LPR+0T7H1GB+nEznriy0/HkZpvbX7LREWgtemoG6J2MRnmTAxIQUbPRLxYKR2h2bEJqKNTPVbMWa0xr2pNpdS9824Ej/gZHAvprOm2n9g+FXtRaJkSLtOLHdjh6FiWp7z06F+VxUZz67vb3pKXd7evLkbr0cseblb515Gf30Qfj+X0uUqqu9mXXd55kDkusCxCdC7+sQcqYAU9S6G5uKiWNHIXxhLRLWp2N8R0DcB/Fzl2H8gRWIUvMSnopccdAz07YPq+sT8MyiAShUH1ep5u2uFagaNwcP3Sg/N5PtZoRoN2KZ1nV4+Yw/rrHWncP2Zqnfzvr2QfSCfDxzzU4Y5H5q0NhFOHpXDl5P63wMslmX/ZEvrhLrGHqtsxurhIEGvL42ElVPJljSDo/H8pZUPDflBpGJzvRCJq/Bmv47kRiTgMTUBEQtrMGEh1Pt9oGOyzHo7pXYNgVYd5/62EvLOoQ/mI/vbw9zvr/+qbpmdnVr355dsNmuVT/3E8sKxNW/kOO9I7E0fzGC3pst91UiT4vVdpHT+aAIZxy1CT3blsi7r/13zevZ9Thtu9/X2QZ01qWe+gidtAwP+RZalvcX2VVNzb99G9PR5oLuzsL7a+5Aw/Y1mL9YnOScGYU1K6a6/zVEV3wgdZSVc7rasM4y1HXcUYn9cpD2p/J+sVj4VAwqnpHpJ+XDfHHffj7d6+5m/ye2yaDgFuTPihfpiHgxSexrYixt59E7rHVUj6q9wPjfaG4AOluPo/sPougzFxfVPPAT9RE48r1u9fX1CAx0dmQ6f4xGI4KDu3k3lHrG6KoxirMz9Y8CfP2c/IRn/hydP5vZp+csfeuZqrNlO/me+scOpt59unbncDS/s2U4S1v9I4peIm27BmpD/dMIk09ntwdtWk7S7cLRfK7S1TDn0Vez/nqXqaG2U4/ai7tlOPrcVbtxOL981TWvmzYp6S4rtezPqk+hsm9Ukro8tW5ctQuVu21BUtuweve4Oe/O8qSmdVak5aB7jdNtwJEThbj3D0VIKMzDZLsqN6fj47y9u8ynw3qRr46mO1pHd+XugJ6yc7deDql/iiIOPg6/4669OVs/B9PNbVIcll11m1LngajfjmU5S19lnzeneXG3Ds7bm43ulIWr/NuxqV+Vo+96sK+0KUfJXAfu9vOu6FkfZ/M4m662v3bX7cKGuzy42rYcfVfvNJW7NiDpqkvBXX04q8cOnuRdq6UU82LyMMLBvtERl/nUszwtvW1YTxma68P9cacL+++50K11dzTd3C7FaZd926kvRGLSQUx7fwXiHT0p0QPO4psrJ6inK47HQT15sVYUL4zFW78twBbtc2uJiK4IrSh7bgWOjpmNqSMDLcFkexPKnk/HjKok7M5LcvHrOl0IdVsMmFiZio+fjfW425k9Z/HNFf/0GyK6HPTB+JQUNH50xLuftEJE1C19MOLuSJzeMKOjm9Og8ATMr4rE+iwG9BefERXvtSFj2rkH9K7wSj1dtnilnoiIrjiy65DanUdX90XyOrxST0RERHS566XeZ8CA/krEoJ6IiIiIyMsxqCciIiIi8nIM6omIiIiIvByDeiIiIiIiL8egnoiIiIjIyzGoJyIiIiLycgzqiYiIiIi8HIN6IiIiIiIvx6CeiIiIiMjLMagnIiIiIvJyDOqJiIiIiLwcg3oiIiIiIi/HoJ6IiIiIyMsxqCciIiIi8nIM6omIiIiIvByDeiIiIiIiL8egnoiIiIjIyzGoJyIiIiLycj9RBPlet/r6evmOiIiIiIgupODgYPmuU7eD+sDAQDl24RiNRocrQeSI2k7ZXoiIiOhy4iy+YfcbIiIiIiIvx6CeiIiIiMjLMagnIiIiIvJyDOqJiIiIiLwcg3oiIiIiIi/HoJ6IiIiIyMsxqCciIiIi8nIM6omIiIiIvByDeiIiIiIiL8egnoiIiIjIyzGoJyIiIiLycgzqiYiIiIi83PkN6tvbYGqX750R8zSfaXU/HxEREREROXR+gvr2b/Fx7kLcERuLqNeq5EQ7Z7/EtlXT8dsoMc9d8eI1Hvc9txsnGdwTEREREXmkx4P6pk/exIPxiXhww340nQVMbfIDrfavse2J6Vj2zv/Cd/A43D/1Dxh9TRs+3fY0/vD8fpjkbERERERE5F7PBvUNbyNjzmv4uO03CB92nZzYlel//o6VH4poP3I+/v7yY5iXloG/bX4B998gPtuWjTdq5YxERERERORWzwb1143BvOdewNtvv4Jn438tJ3b16b63zVfj4+Kj8atelmnofQsSk34j3nyN3Z9+aZlGRERERERu9WxQ3+uXGBY1Ajf5yXGHvkWDOWb/DYaH9DFPsbopZIT59ajxW/MrERERERG5d35ulHXpa5z8VH39JXx+bp7QyXrV/ksjmuRbIiIiIiJy7SIE9T742VXyLRERERERnbOLENT7wz9Yff0KTWfMEzpZH2d5Q6CY69w1vrcMifcZHA6G3CMX9yk7xnLkritC9Vk53pNOHcTL8wzIPuDo0UPkWBOKH3fcVhLvS8fLhy9uWZqqi5D9RjkaruBHvl5eZdCKsucufrsiIqLLx0UI6n+JkJt8xOvXqGtotUySvqirNL/eHPhL8+u5aqgpQXXgBCyYnd5leGjUdfCV87nXhuqCHGyq6bkDsKnpMAryRf56sp9Reyuqt6/ExLh0ZO+pxVFji/zAEz2/rt7ha1TtqMWv7uzaVhbMNmBMoNpm9WrCrnUbUHZKjvaAluOlyH39wBUd1F9eZWDC6RMHUXm8O9soERFRVxchqAcG3RZnDqj/WVzW+WdTZyuxbfP/ije34J7IGyzTekLgEETcFtZ1GOjJbwEtqN67GXtreu4A7DskDTs+yEHy9XJCD2jctQIpW4Cp/y8LU+U0z/X8unqToFsctBUxhHr009HX+J9X81DxtRztAQETs/Dp++mI8OTc4jLDMiAiInKuZ4P6M/uxZs50TJo2HbNesVx1x47V5vFJ057GP7+xTPK9dRIWRYkjc/lzmPTQ01izIRsPpyzEGyIIumnyLNwTZJnvgmhvQ7Oji9JnW2Hy4Iqg6UwrmsXg6DumFrkAdVmaeTqm23GVFtq03xfzabrvBNy5Ap/mL0JyiMvHD1mI9VOX0ewkD+SEpvy1nNWlQ7IdOKxj9TNrnYplNZ/RtB1HXbVcpaXStGNzu9KRTXftz7w8B+vrtAzUPNp/5CIdp23cvgy049ZycFEP5rQ066WOO1xHe56Usd0y9HL7PQ/y0MG+vKx0bPsu2wAREV2Sejaob23E51X/i6NHxfCNPGCc+dIyLoZGa2+bXtch8clXsDj2lzAd2Y03ct/GB9/4YFjiU/jbzFs86BZz7pr3ZmF0Sg4OaQ9+xiLMmJCG/HqgcUcmBoUl4LGPgLInE8T7URg0ejGKZbcZU10RHkuNxdhZs2FIn42xsQY8+5GmT82pIsyJWY+y6s0wxMYgPGG2OV3L9EUd6ahMYp4ZcWKeVJHWA4kYFmPAY9vrbfr+H1oXiznbD2LX0waEx8Ri3PPlaJaf6dJuRPGSBAxLSDPn1zApFuGGHFSccb+uBNRtSUP4vCKbLiCmQzlIjMvCrha1fmJEuaUhV0zPfUCUn1qGY/NwyDIrGg/kiXYQjxS17NPTMDp2MTbVaYKrw+sR/mgRKnavROJYUTdJWShTfzRRp0/Y0JGOqmF3Fu4VbWrcAyKt1HgMi03Hywe0ldWEgkdjkf1RLXJnxWLY2HgYtqqNzzG1/RnGjsKwJNE2ZqWI9pWAef+Q7U+0m10rxbpHJprzHqe201l5qOhY3BGsi4vF8v32gWIbKp6PReIm+Y9y7U2oeDUd4XfJ9meIR/jCQtRptj+nbdy+DLRlFZtkzvPoGJGvhSW2XXSayvGsQax/XIqlzMV2lX2oHNki7ezDch4nPC3j0YbZSEkSyzIvw3nQ3KHloNvvuc/DEWRP6Louje8tMpdPoxx3te1bud2fERHRpUvphuPHjysmk6lnhpYm5fSpJqX5rIPP7AZ1uZ6ozI5UBk55QnnhpfV2Q75SelLOpDQqRRnRytCM7cqJH8Xofw4rqxKjlbR3OmYQGpWt6ZFiWqMcl77bo2RGpSirPmmRE4TGnWLadOWtr+T4v7crabcmKXGZuUrld3Kayjz9EWXrv63jO5W0KLHcbZrlfiXmEdOe+tAkJ1jWaWz8dGXJu8eVH9T8OiTW4VYH+RVOv/OIMjBdrqt0umKnJm9O1tULedZeLGU2aal9WxHD6/s6y8t0WHkhMVKJyz6s/KCOn1TrSLSBys46sqa1qlKOWn2eq8RFiTq3tg3hh6pcZVLUGqXc+vXKtcrA+CRl0rKdyjFtkur0W9cq1iR/+Gy9Enerbdv7/pO1Yppoex2rbanLsYmLlHWVmjbqiKP211yjFO2qEetpUipfSlEGJq5VypvlZz+2KOXZYtqUAuWYLJuqV5KUgQt2Kt9bRi2+26nMVvMk17lqY0rntmZmEt+brgxdfcBSnoLTNm5XBuZxked7sg8o31vnU+vjVrHNVFgL76Ty1hSR3uKdncv88aSydcF4ZaijOtLwpIyH/m6Rpl5NSnmWKAtRNifklK4s3xto0x66fk9fHhy3N+u2ftpu3Om2r2d/RkREF52z+Oai9Km34dMHffv1ga/1GfUXRAvaOi6G+SP+mReR+tVKLP/HQRQsmY29Y17E2rsD5efONezOR/EoA2aO1PyJln8spk37FoUfaa+I9kHyTAOG95OjDtTtyUfZiEw8c49mudcnYMHDwdhUUNp5tU1oGDkVS+8M7laZfdP0pchjAK7WfDfgtliXebvi/cfU+WuJz2Bk5CxCUMEyZO8px7PpWcD8NVg43F1H7zZUbM+DacoMm/sofEOT8cCYQuz6RHN11hiGmfNjEeI0SZFWcR4a7l+MhZq213fkDCxIPoLV7x6RUyz6JqbhoeG2f/Rmz9z+gtOxQNv+/AYgftwA+LYdRNGrRkxdmo4Ia8+uXn0QMTMdkw/noKjaMil0QgqG7y5A0QnLuKpBjO8al4wEdZ1FOoUb2zBzegKCOtqfD0InpWL8llJUaIpAdxs/m4C5M8PQ1zpf4CiMv70NDafkPSE1Jcg9HImH5sR2LrNXIJIfEesiRx3zrIxDpqdp6tUHEb+LBg4bbbZbR0IfTnfxPc/y4I67bV///oyIiC5FFz+oP99GJCNjZlqXYbz5sZpS78FYKAI1rEzHY18l4Znpg3V1AWo8KQ6qp/Zh47oNyNYMhZ8B1ae0T/bxh5/rmAotp2pFZHAjAuS4VUj/MGBvDRrkuFk/v253UQqdINZ9byZGG5bh2YISVFQb2W9WY4QIgLu2lxiEaIPLwASsfSEau+ZlIv/XmVg60f0JoHoi2XBCRK1VRTZtJXtdPnaeFAFVk/bG5D64qrd861ALTn8NRNx4nRy38kHIoDCYjh63CSav9nN/j4W5/Y0ciBA5buO7RtH+whDSZXE34OaRbTh6XHbPuH4C/jzuCHJ3Wrva1KL49VpMToxBX3X8OyMazgKVO7TrL4a3SkX6Rpz+zvwtC91t3AdXOTj5KTsu71L+ryh3BKP/tZbRDtfeiJvkW8c8LOPejsq4HsfcPAHJ9fc8y4M77rZ9/fszIiK6FF3+Qb1ODQdKUdHbB77fiAOq/fPzXQgYmYBpKak2w9wn8vDxzMFyjnNjMtn2rz1ngbHIKSnFtgUJuAU1KFhtwLDYxSjuwccvXv5EIPtRORpEe8FX9Wj04A8Pbh6T1KW9PJ5dgrUTe+KfGdT2ciGfWtQGk82NmH0wPjEJp18vMl91Nx0owjoYkDRSG3UPwPg/2q7/tJR52PD+SiTbB9496Af7E9f27v9LxYUtY8e6lQcd2/753p8REdH5w6BeVV+IeU9+jdScYuyYDyxPt7txVjLZBQJBN0aisdaItn6WLkQ2g7veGHbUtFBpd0VeqDtaDtw5xM1VRQ/18kFQaBjik9OxJm8b1owsRdF+25vh7NeVOpk+ysGUguvw9N+L8fqYckxZYnvjbIcf5auZP/qH+GDvV61d24oYPOtKZUmrosb2Jmr1D42OVtYiaMTALr/4uGNuf7sPoNrRegTciJt6H8TRersTzDO1qKgOxAjN42F9RVA4s18hCvbWY9e2Qox5OBmh1nUzp7MPdWe6rn/ffh5uMHqFDEE8CrFL27dHMFWUIl++d6zny9hzevPgg6sCgdMdTyKw+OabL+U7DRfbfk/uz4iI6MK7/IP6tpaOR8HZDNZj/NkjeDYzB1c9ofaL7oOgiZlY+utCu0DNH6FDA1HxTgkOqRfI2tvMP1sHjJuKqSezsGRLLZqt85r/ACoHL+/37OfqgHHJmFyXg+WatJr352D+Oh88dO8oS/cFd6yPCTzTAnX1TGebLOMdj65rxaGCQpTVa/LWUoOqY4Bfb2tnB8freqVoa7aWoe3QUQbGIsx59KA4AVyJ5MA+GD59sfl+jBkvav+hOBi3jAPyt5egUf2eLMPhf8xERMEKLN+r6fbQZkTFq1ko0PRD12P479Nx85YsrN4rT8bEMur+8QSW7ItERtwAyzQPmNuyzwY8lXuko/2ZjAexaUctTL0GI/nhAdi0OqfzD7Xa6lHw5ArsHZOG5IFymqrXAKQ+HIPidYuxbl8SJv9O0+9MpDN5fhjyl2ehzNgZZKvLeXml2N7keI/yi0HGE2EoeHQ2st87groT9agQ2+eM7UY3fep7voy7Q18egjF8jA+Kt+/s2Gc1H8rDunct7y3cb/s9uT8jIqIL7/IO6v+PCCi2ZCJcfTSg/bBUBFzqjWgv290Yq95EJ2+cfXZX59Xr0NRlyEA+7o0ZhUHhMViyRxzk1L74G7IwYn8mRofLxxeGJ+KpA4GICLXtRP+zn8o3Vj9VD6R+nX2ne0diaf5iBL03G+EyrfDFtUhYn4OMIbaXyXydXDU79Fq8XL9MbBLjFc8ZLONx6+VNiOKkJbgF+bPiRfqxmJgUi0Exi3D0rhw8ekdnfh2u6xXgqn7Apr9o2ohmmGduC0YRyNrdGCvvxwgqeAS5HY8U7IP4ucsw/sAKRKl1GZ6KXBE8mfvi56UAGw0YZm0vY2cg9z+jEKHtlt9xgqXRyxe+gX7oqPrgJGzIS0DDqiTZ7mKQuDUAS/NWIt6+G4ueXwGsbfnDRzra37D78tByrb+5b3vIH5/Hlt8bsSRZ5jvSgHz/TGx7JrbLFeu+vxPB/Df1wLSELn8UFXT3SmybAqy7T330pyWt8Afz8f3tYdD+PYXDNm5fBir7cZHbq/xEG762sz0H3Z2F99fcgYbtazB/sTiBOjMKa1ZMdf/rlwdl3HlSLP3cT6xPIK7+hRx3wu33dOXBBxHTVmJqYw7GmesuBnFb/ZAxN1p+rtKx7XuwPyMiokvPT9RH4Mj3utXX1yMwUM/NgT3LaDQiOFh7h+tFoP5xy08d/Bzd3ma+Iu7r56ArhXrVy5PuFeoy2n3Q189BZGO9guZRdw0H1Kv6Z0UI5Ci/Vs7W1Uuo7fRitxf1T4XQ20EZm8tf1LGjbicethfznyj1EvXk6OZaT9ueSs2byVn7c9HOtXQs12m+PWnjjpajZ51bSjEvJg8jCvMwWUcT6VYZu8uHh99zmQepyzyO0tKz7eutZyIiuuCcxTfsU+8pEaA5DHJ7qQGakwOgpwdFdRmOAiqVmlZPHGT1PErU2bqSbk6DInP5u6hjD6jLcBrodaetqHlz2v5ctHMtHct1mm/1u3rz7Wg+m2mtKHtuMV7er+ny1N6Espc3oHhIAqJ1nvN1q4zdrYOH33OZB6nLPI7S0rPt661nIiK6ZDCoJ6LLWB+MuDsSpzfM6OhWNCg8AfOrIrE+K8mmyw8REZE3Y/cbumxdCt1v6BIiu5TwFygiIvJm7H5DRFc22aWEAT0REV2OGNQTEREREXk5BvVERERERF6OQT0RERERkZdjUE9ERERE5OUY1BMREREReTkG9UREREREXo5BPRERERGRl2NQT0RERETk5RjUExERERF5OQb1RERERERejkE9EREREZGXY1BPREREROTlGNQTEREREXk5BvVERERERF6OQT0RERERkZdjUE9ERERE5OUY1BMREREReTkG9UREREREXu4niiDf61ZfXy/fERERERHRhRQcHCzfdep2UB8YGCjHLhyj0ehwJYgcUdsp2wsRERFdTpzFN+x+Q0RERETk5RjUExERERF5OQb1RERERERejkE9EREREZGXY1BPREREROTlGNQTEREREXk5BvVERERERF6OQT0RERERkZdjUE9ERERE5OUY1BMREREReTkG9UREREREXo5BPRERERGRlzu/QX17G0zt8r0bpjb5hoiIiIiIPHJ+gvr2b/Fx7kLcERuLqNeq5ETHmj55Ew//Pha/ves1fCqnERERERGRfj0e1KtB+oPxiXhww340nXVxBf6bSrwyJx53zHkNH3wjZjprkh8QEREREZEnejaob3gbGSJI/7jtNwgfdp2c6MjX2LLkL8j5pA03//YW/EpOJSIiIiIiz/VsUH/dGMx77gW8/fYreDb+13KiI9dh/Nxn8eqWbfj7Y3G4SU4lIiIiIiLP9WxQ3+uXGBY1Ajf5yXEX/AffhvAb+sgxIiIiIiLqrvNzoywREREREV0wDOqJiIiIiLzcTxRBvtetvr4egYGBcsyxpuKFuOOZ/cDkv+Gz2bfIqQ58swMP//45fIA/4c3yWRgmJztiNBoRHBwsx9xrfG8Z0jbVyzHJLxi3/W4CkidEIkRHN6HzyWH+pF/9cQVy7g6EqboI6w4EIHlyJIJ6yQ/1aqlF8Vv5KNhXj2bzhECM+H0Spt4dhiAf8wShCcWPZ2LjcTlqIxCpK1Yg+Xrxtr0VdR+JvGzZiS9a1M/8cNP4VGQki3z1VscvPWo71dNemvdvwJwX98kycm7EtBex9I6L3GWspR5l/8hD7i5Zp6I9J9ybhtQxgfA1z+Bac00JCreVoqjaH3NfSsfVe/Kwv188porv62YsR+47jbhtSgJCddV9K8qeW4Sjd2bhoSEdDa9n1RXCsM4HT69JQJCcdEVqb0LFP8Q2/6+DaByzDHn36t9fEhGRd3AW31zWQf2hv47CvcZ05CUOkFNUTTi6PR/Ze/2x9O9ZSPYglukuU00hsg8PEQHwAJvAy3H+LH4WOATDr/dB445MjH0+GOvfTUeEJ/GQsQgzJq1E5ZA0PD5lCALUaSYjyrbkILfmDqx/exGizSc1R/BsWBoaHsnB5P7quJYvgoYMFkF7PXJTDVjnE4OZ9ybg5l+Ij76rxaZXcrD314uwQw2kPD3huAD0BvVoqkXFMfOZisV3+7B6yUHc9kw6otV1lfr2D0Oovxy5GOo2I9GQC587puLPEweY67RRtK11f92HoCfysV6cBLrSvHsZRj9pxNQl85AcEYygfi0o/ksSnro+Cx88EqbrpEBlOrwBibMOY2p+juWEz60mFMxJwK5xRSKP56kAD+Vg0APAloPpGC4nXXHaa/HynwwoGpqJpVNiEBroj749dg7VhF3rCuGTmIboa+UkIiK6KJzGN2pQ76njx48rJpPJ5WAszFAG3hqpDMz6H4efdwwntikPqvPd+oLysaPPNYO6XE9UZot0sw/LMa0WpWhBpDLU4Wc97/Q7jygD07crp+W4lfP8nasWpWSxWL8V+5Qf5BSt01U1yukf5YhyWFklyn9VpRx1yKScqDqufN/xHelYvnLPrUnKus/l+CXG0/bS4d/blbRbH1G2/luOXyr+c1KpOt4iRzode2uKMjA+V6mS4441KlvTI5V7NnezTM6JZdlp7zTK8fOgcq3Yh6xVXDbjy50og6G3rlFKTXK8R+nZTxAR0YXgLL7p2T71Z/ZjzZzpmDRtOma9UmmZtmO1eXzStKfxz28sk9Sf4z948S+W6fNfw8fmaf/EE+b5puPRkm/NU86fPrh5aDBM9UY0yikdzrai+YwYWuz+Nau9Dc1n5fs2OY92FvVzdZp1np6iXa5ksubNuswz9v/wVY+qvUDELba/DFgFhA5AgEdX1n0QFBqMvvbfCR6A22DE9/+V45e5jnK3p9aD9SNtfVnrx9n3VNa25Goeq96BCA3u2v0nZGAYYGyB6xS+Rt1HwG2D7M7sxfJN7fK9Sjtu3RYcJOywLKzr0qU92jK1WOazWa4dkzkdF/PoKVtHOrYZF2nL9daWg8289uMqbb1ruSoT7XfM89nNoyevGo1f1cN0+wDc4ujqvJ60PFweERFdWno2qG9txOdV/4ujR8Wg/kus6syXlnExNLZaJgEtOH20yjK99ltY/ku2FV/I+T4/rekKcT60G1G5vx7Dbx9s6ZaiEtOKlyRgWEIaDOmzYZgUi3BDDirOyM8Pr0f4hBwU7FiM8LvEPA8kIjwyFY/tEScGH+UgMTYJhlkpGD06BomvHrGsU1MJZoSNQtST5cBHKxEl3g8Ki0H6e03mJHUxL3cDDslRnCrCnJj1KKveDENsPFLS0zBubAyGpYp5OoKK69B/JFBRVSvL9jw5UY/9iESIq/8Zu2wcwbq4WCzfbx+ctaHi+Vgkbqq1jKr1NSkPxbtXWtqEWj8xMQiftRnV2qBP7fv8arqlLantzRCP8IWFqHMUGLpRd+wgcHuw077kdZsMot2lIVe8z31AbYOjMOzpcnOf/EPrRDvfcMQ8n0odn7P9IHY9bUB4sshXqshXZCzSdxjlHIK5DS5CcUczbsOhV9MQPjbFsi4PxGNY3DIU1NuVVctB5M6KxWjDbKQkxWJYjAHZh2znMdUV4bHUWIydJdIRaY2NNeDZj2y3F/P2Jsp0dKosN7Vs3d0QIZgO5eHe2FjEmdNOw+iYBMz7hwiE5ec4W49NC2MxaHSi2K4sy35s90EUPCrKpGObPYLsCbHIPixHpcb3FiH80aLOiwRna5H7F7E/iYy3LE+s06Cxi1GsKUZzWxHfqVDbylhRD0lZKJO7vsYDeXL7lnmNXYxNdfZtT2opx2Oj7fczBuTK23X0pOVqnkPrYrq0n0Fj8zr3SUREdGmQV+w9oqf7zfkYutX9ZsoTygsvrdcMa5XMlPHKPcv3KCc03UmsXWRsplXsVCq/kyPmn/cjlbjsAx3dUE5sE9+JT1LiMjq/98Mna5Wxdl03XHa/6ZI/MWzdp5z4j3Umu24F5q4h0cpvF2jy+p8Dyqr4SGXS1pNygsjH5/nKpKhI5bci/VVbxXocb1S+d/izvOVn9UlL7fIghrfKTjrsvmNhUkpXRDvt4nMp6OnuN1WvJCkDF+xUvpfjZt/tVGbfOl156ys5bm0nq/d1dnFqrlHeyrAtq6qNKcpQTbtRy7PqlenK0NUHPCvP/+xTnoqKVp760F2fC8fdJ+y7gKnjQ6OmKKs+6ezmY27nUWuUcusi7MtH7fYRv1Ypt7ZZ4fvP9ymlx61fsHS/GRglvmMtJ7G+5VmiPKcUKCfkFOW7PUpmVIrNspXGnWKapnxl+0/b1tnWla+2K7N/F+26+82PYv2jkkTamnIS9VL64XFZ3iax7iI/iWI9ms0TxHdalPLsKaI8tF2HHJdjl238u8NKUZm2y5pcX+32orYVsf+YtGynckxbfZ/nKnE2ZSW256pcsT1r6sABh/sZPWnpWh673xARXSouTPcbr9AGkwloMNajwXoVXvim6UvAPwBXa7qYBNwWi+H95IhZLDKmhXV0Qwm6LQYRRiDhoc4bRX1HjMJ4lKPua8t4t5yuR53LHyuCMXem5ubU3mGYMA44dLKz25LvwBRs+Wc+nov3x+l/5WP2fQkIj4xB1ANZKKjp+MnEpdP1X8JZNhq2L8KcA0l4fW6k7hssvV3ohBQM312AohNygtAgxneNS0aCzQ2jMZg5PbKzi5PfAEyebsDVBTuxVy3QtoMo3Ngm5tHeYOyD0EmpGL+lFBVOLsh20W5EwZJFqEh+EQtu77mnypjiZiBjZGc3n6BRMYg+a0TDd3KCnebGJpj6iW1H0xD6DoxEdLBtnkIfTtfcWOuDiN9FA4c7u8A17M5H8SgDZmqWDf9YTJv2LQo/slx2rttTiLLbM/HMPZqbgq9PQMZ0NzdEn23E6bN9cM0vNHkS9RJ9e7Cl/Yo6KXqjEVOXpiPC+lSsXn0QMXMGkrvx6wn6DUb8GG2XNbG+Y8T6VotylFPMjGGYOT8WIR3ZakPF9jyYpojlatqUb2gyHhhTiF2f6G0cKj1p9eTyiIjoYrr8g/oRyciYmaYZMpFTWIy1/YthWF3S8RjD0AlpGL83E6MNy/BsQQkqxMG3a79Sf1ytfQymOGD74gYEaAP/Xh6GuF3ypw4pbp4w4Q/fn8u3WnXHbe8R8AtGdHI61ryUhw8/2IdPS/LwzMgaLE9Nw8s1ch5pRKJ9HsRwvwhM5edaDTsWI/E5YGlOOoZfoo+zPC+un4A/jzuC3J2yq017LYpfr8XkxBj0tUyxCByAm2xOBgV/f4SgFFVqbPqdCOxEoFi5YwOy12mGt0pFwGfEaSfBsw21u9hiA5YjE+tnD+7ZE6vefg7Sc36i2ndUMh5qX4/EhEwsf6MIZYfq0eygT/bVIt2u6nHslOVd48kjwKl92KgtEzEUfiZi4VOWE9GWU6LsQ27s0i5D+ofJd074jcKfHwSyDQmYsXIzCvYeQZ3mpB7fNYqyD+valcznBtw8Ur73UHP9ERQXyPVYKbaZlUXmoN72RLkPrrLZhlrQcEIE0lVFNmWQvS4fO0+Kba/J5dm+HT1p9eTyiIjoYrpC/3xKXiXcXYMv5BQExiKnpBTbFiTgFtSgYLUBw2IXo1gGHJcDX38R5M9chqUj61FZ40G/fo3mAzmYscqEuXkrL8jjQC8tfTA+MQmnXy8yX003HSjCOhiQNNLuKvmZNji+vhmAn3XMOgDj/5iKaSnaYR42vC/K1d0jA9tbUfHiPCxpm4Ftz1wCjxPtPRgZb5bg/ZemYky/Vux9PR2jYwx4+bDjUnAlYGSCXZmkYu4Tefh45mA5h2Mmk7tl+WD4TJHO2zmYeXsftHyUiykJmvtfnGqDqRtX6tVH0Y6+by2O9YlBsroeMxcjb+4E+al7N49J6lIOj2eXYO1Ezx8JqietnlweERFdHFdoUC+CgP+IIKC33fXIXupTXsIQr17dztuGNSNLUbS/e8FvFyJy+EG+vRCcByIySOlGIGg6lIOUGeUYk7MSkzv7C1xRfEXQObNfEXZVGrFrWyHGPJyMUPuyPFvTcfXZylRfiwoMRoh6IhRwI27qvQ91Z/qgbz/7wV25tuHQi2kw7I3E688kIeRS+aVEbDsBwYMRfXcKlr5QhM1TWpH9L/mLhk5BN0aisdaIti5lIgZZLAG/EsF9ZY1tFxah7mi5fOeaemI7fEwCpi7KwofrDWhetwdH1Q9+EYig3gdx1P7m3jOi3qrlezMfXCXq8HTnXf9m33zzpXynakXlvnKYkucg484BCJLr0HZGe5esM/7oL7atvV+1di0DMfh6tN3qScvD5f0oX4mI6JJz5QX1Z1vRWF2E5c8XImRajPyjmlYcKihEWb3mQN1Sg6pjgJ994N8NAf2HIOhAEYoPW9J3e1HxXDWVYN7oWBj+WoRDJ1o7HkloOlWP4ueXYXV9LJJv9+wKnKk6D1PSSzDi2TWYGdz56Dvz0J0+x96q1wAkTw/DptXzsG5fEib/ztE/zB7EatG+qq09F06VY/XqQgQ9mIwxag+UXoMxeX4Y8pdnoczY2RhMxoN4eWVRl4C1Uxuqc2djyo4hyMmZips6HpdoGS7WYwgb9mxGwSFNd7V2I6qrGhHk4T8fBYybiqkns7BkS21n9532VlRvz8HL+y3bTtC4VMTX5WC5Zp7m/TlY/a6bZZ0oRe72I2jQbHsNNYdxOtBPhOmCTxiSpgWKes1BmfWErK0eBSvz8YXNL1LqSYEPirfvRIN1+YfysO5dy3uLPrhpYLA4+TiMOut6iDbw2paDcsS14X/MRETBCizfqynTNiMqXs1CgeZ+Dj30pKVvecG4ZRyQv70Ejeo87W2WeesLkT4rT/PkLSIiulgu76D+/4iA6400yyPYrIMIduOWlsB3Sh4232/9J9c+CApuQf6seDFPLCYmxWJQzCIcvSsHj94hg7ZevvC1D/B/ahn/2U/NLx18e/vYXuEKTcWamcBGg0hX5GHYk6WWvvw+Yj53cY+6XGvg0cHPrh+uSKqviDyuCxCfCP6xyPnnSkQ3FWF2aizCIy3rPizOgFUnYrD+7WUYr+nz3SW/DhwtUw/cTShYmIxw9fF72uHBzaiT810WnNSrVcCdyZhcXw/TlAQn//KbhOemtGH1H2Sbi1uEyhErsD6ts+970N0rsW0KsO4+9XGBlvnCH8zH97eHOX00JVCLko1HYBL1mp5gVwdiSNkin2HohMN6Fm3QPvjuEoz39hPtSr3iLMfN5dPZBq/+dR8czTZgWHgMopISxGsq8v0zsX6S7T8ldzlB/rmfWNdAXG39197eg7FwQxZG7M/E6HBZduGJeOpAICJC5XbYLwbP5KXDT2zX4eZ5YmDYNRBPL4pxsJ1o+AfDr2otEsW2MCwuFVGjR2Hi1gAszU5FqJwl9P4crB9Tg/lxctl3ZaHlz4sx9UY5g5kPIqatxNTGHIyTy4/b6oeMudHyc4uQyWuwpv9OJMYkIDE1AVELazDh4dSueXR00SAwAWvzUtQdhihLmZexM5D7n1GIcNXlTa1b+3t69KSla3l9ED9X7DcOrECUOo+o49xj4oTmeC327i9B5bk8GICIiHrET9RH4Mj3uql/TxsY6Orocn4YjUZ9f/t/LtSrn2dFAOTn4Kdn9cpUd6ep5J/N9PWTh3V1PpWjeV1xmr4YHE1X/0ynzck6qZx9z8s5/RtlPVyVyYlC3PuHnUh4ewMm2zz1RjiUg0EPAFsOppt/BVL/RAnOyl1S/4zJ1KsP+p7vrjR66lmdR2U/n67vivbd0qZ/21E5ne4iLclcbr6i3KxRsp48CmqdmHxclLd52WI7NXeFEieycxKwa1wR1t9t++tWl3pztHx1f2Lysd3mtfO4y7N5fyS+77ZbluQqPT1p6ZhHXW/0dt2miYjo/HEW31yxfeqdUg/2jvqSqs5lmqqX5uCuUudzNq8rTtOXr/bEAdjpOqm6k4fLnYsyqd65GYe6PMbSMV9X5S6pget5D+hVeupZncfRfLq+qwaDHmw7KqfTXaQlmctNG3vqyaOg1onL8jYv230Q3aXeHC1f3Z/Yb/Na7vJs3h+5z0sHV+npSUvHPK5OtIiI6OJhUE/kkSPYuxmYmmL3GEstV91AyDsxiCUiokscu9/QZeucut+44q7LhLvPybuwPomI6BLC7jdEPcVdgMcA8PLC+iQiIi/AoJ6IiIiIyMsxqCciIiIi8nIM6omIiIiIvByDeiIiIiIiL8egnoiIiIjIyzGoJyIiIiLycgzqiYiIiIi8HIN6IiIiIiIvx6CeiIiIiMjLMagnIiIiIvJyDOqJiIiIiLwcg3oiIiIiIi/HoJ6IiIiIyMsxqCciIiIi8nIM6omIiIiIvByDeiIiIiIiL8egnoiIiIjIy/1EEeR73err6+U7IiIiIiK6kIKDg+W7Tt0O6gMDA+XYhWM0Gh2uBJEjajtleyEiIqLLibP4ht1viIiIiIi8HIN6IiIiIiIvx6CeiIiIiMjLMagnIiIiIvJyDOqJiIiIiLwcg3oiIiIiIi/HoJ6IiIiIyMsxqCciIiIi8nIM6omIiIiIvByDeiIiIiIiL8egnoiIiIjIyzGoJyIiIiLycgzqiYiIiIi83PkN6tvbYGqX750524rmM63u5yMiIiIiIofOT1Df/i0+zl2IO2JjEfValZyooX6+6Wncd1cMho6NR9Rd8fhtVDzue24Hvjgr5yEiIiIiIl16PKhv+uRNPBifiAc37EeTCNBNbfIDjU9fuxcPvrgbn+IG3Bz9B9wb/Rv4927Fp9uew6Rn96JZzkdERERERO71bFDf8DYy5ryGj9t+g/Bh18mJXQ0atwDLnnsdHxa/jr+vysDiVa9gz8YMDBOfmUp24MNvLfMREREREZF7PRvUXzcG8557AW+//Qqejf+1nNiV703jkBh1A/r2khNUN/zGHNSrfvhRviEiIiIiIrd6Nqjv9UsMixqBm/zkuCca/hefqq+9b0CIv3kKERERERHpcH5ulPVU+9fY9teXzEH9sIfvwTDtFXwiIiIiInLpJ4og3+tWX1+PwMBAOeZYU/FC3PHMfmDy3/DZ7FvkVEfa8OmL03Hfpi/hGzUfb6+aiF85CeqNRiOCg4PlmAstB5G9MAd7W+S4M6EG5C2KQV85ej7UbUnHun7LsObOzp8fTIfzMGN1qd0NwYEYMT4SCRMSMPxaOeliaqlF8Vv5KNhXL/Mp8vf7JEy9OwxBPuYJQhOKH8/ExuNy1EYgUlesQPL1cvQiUNupnvbSvH8D5ry4z+0N2iOmvYild/SRY+dDK8qeW4Sjd2bhoSEdhXzFaq4pQeG2UhRV+2PuS5mI7s4vgBdKexMq/iG2l38dROOYZci7177dsW6JiKhnOItvLnJQLwL6DQ/jwdz/hemGP+HNjbMwrLf8yAHdQb04wFYfsAajqiaUvbgM+0csw4LbNX17+gUjYqCOvj6nSpG9zRd/nhmJADlJr0N/HYV7sQGfzx0spwCN2zMRtTUYa2aP0qTXhoaKfKx+owlJr+Vh4fALcOB3tl7GIsyYtBKVQ9Lw+JQhls9MRpRtyUFuzR1Y//YiGWAdwbNhaWh4JAeT+6vjWr4IGjIYQS7q83zTG9SjqRYVxzRngN/tw+olB3HbM+mI/oWcJvTtH4ZQHc3FVFOI7MNDkJE8QJSCJ5pQMCcBu8YVYf3dV3YftObdyzD6SSOmLpmH5IhgBPXrue2h+/XjRHstXv6TAUVDM7F0SgxCA/3Rt0t2WbcOncO+lYjoSuUsvrmo3W9OvrO0I6B/9RXXAb1Hevkj9LYwRGiGEBGcXS2CMu00XQG96uvDePnVA2iQoz3iF+KEQpuX2yKRPDcHeTPbkLtxJxrlbOeVw/Vqxa6/rURFXBY+eMmAeGv+xiRg4Usl+DAnCbfY1VPQLdr1sA4XN6D3iP8A27yPCMbV8EfICM00MegJ6FUtNfuQu7cG7n4oImeaULK9BCEPL0bGnQN6NKBX9Xj9HN6JdfVJWLAoCRHBjgJ6cup87FuJiK5QFy2oP1m8EH9YtV8E9H/A316ahfCL/dO6/Gfb5m78+ZWppfvftRcyIAyo/LrrQa5NLuOMgwf/i7xb/5HX5GAea/70/WtvPar2AhG3OL6KGRA6AAG850GWc/f+Cdn63WYHVekRa5ttcZJQe5vt5+q4to3aj1tp2pOWy3zbt0H7eTzavr5G3UfAbYOc/MqiJy2PlueGtRzF4KhcGr+qh+n2AbjFg2Bezzbptp24yZeZdb/hqI2IzzrqzFF+ZBk6TdvV8rVtyzqfs3bqCTfrbNK2dQfzuN1u3aRPRHQp69nuN2f2Y83jr+KTVvG+6Usc/UbsYPvdgJuvU492N2DKqscQd414W/sm/jDlNXwh3vpe8xvcZHcFNDD+MbyQeIMc66S7+00XLn76PluL3CWZyD4gAupgPzRUGxF0TyaeeyQBIb2PIHt0Gl62Cwz6ztyAjx8cDFP1ZsyZtx5lLX4IDfbHN/W1aBu1DNtWxCJIBr5Ou9/sjsGHaxPsfnJuQ8XzqZjRvggfzw+TQXUbDr06G2mvf40gsQycNaLuv6Ow9KXFSA5Wy1Wum1juzdvXoACiXk7UomVAOjavjkTl6jT89Vggrj5TizrEYE3+CsRf62q9rkPxXxKw5JosfLwo0k33BEv3G7y2DwuHy0mXEN3db+ydKsKMuFKM/2cWku3ub7DWeQWCEfJzI6q/CUTy/GVYencwfJtKMCN2GcrkvBY+GP9MIXLu9EfD7izMW1mIQ+K7oaKazG3twRexeeZgWc46u2i0G1H8+AwsqfBDSKBoA031aLgmCWuz0xHRzzJL40c5SHt0M+r8Bpjz2XDtVOTd24jEJb7Y8kEa1Opq3CHa4U77dmhpG6aczjrVm++65Dxcs2U2nt3fhtBH8rBtsij7s/UoeH4ZVu8DgtRVajIC457EhrmRDk8O6zYZMPH5Wjlm4XtPFj54LBJ99aTlap4zruvHEeu6f9FvAIL+W49q0xBkPLsMD40U87eU47G4TBTYbEcDsLAwD1O7NDtZt7ctQ8RHa7DuVKAlvZZgJD+xAk+P69yfui9v0Q4P5WFKZp6o12Bc06sNDfUtGPNIDp65R7RDdQa1j3/uMszZ3IQgtY2I/UZD/xnY/ESS2K+ZkzDvm6ZgEZ4x5uAp6z6iXwJyctLgsyUT83eLMhQn+WoeM17aYHMvQOOBPMxbmI/T4jjgq3YdNAZj7oZlmBwi5zmUg0Ebg5F39xGsXikqQ2xHdTVN8B1n3T+63rd2Idr8rtXLsKTgCBAs6gKWbe+hnA3IsHZVNG+39Uh9MwC56TmoaBN1kSfqIkSUV10Rli/NQanYP14j2so3olkkPJWFhdbumHrSJyK6RDiNb9Sg3lPHjx9XTCZT16Fum3JfVKQy8FZHw73KK0ct8zUffEm5y+E8luG3qyuUZvu0xaAut3sala3pkUraO41y3KpRKcqIVoZmbFdO/Cgn/XhS2apOW7FP+UFOUirXinytVSrlqNX3lTuV0uMtckz4zwFlVXyk8tSHJjlBfDVbrFP2YTlmcfqdR5SB8Y8oT720XnlBMzw1c7zy25n5StV/5Iwqseyh8WuVcs207z/fJ5ZrXYZl3QZGPaJs/UpOkvkYGz9dWfWJzJ+6XmK+odq8OFmvHz7PVyaJevztlCeUVVt3KpXHG5XvO1dJ47CyStTXpKW266EOb5Wd7Cy/i6Tb7eXf25W0W0V5/luOW/17p5IWFa2kbTspJwhfiXnFNG2dm+s3fbtyWo5bmJRjH4qyPKkpyJPqcqYob3Vk01k7tWVNv6PNCqcrRNrfyRFz/rvmc/bvom3q23E+LXW6qqNR6M/32MRFyrpKzfagtCgli6OVuOwDyvcd25fY5pZGK5O2avLWhX0eVHrS0rc8x+vd1Q+frVfibk3p3IaE7z9ZK6ZN16y73vQ6t9O3Pu9M73TZGrv0dJT3j6J8opJEvjTzNNcopR8e79jmqjam2O7XRLpVr0xXhq4+0DGPed+kXT+5jxgbn6JpOyalPCvJdv0+z1XitPsb4YeqXLHPWKOUW7Ok7lvEdnGPti7M6yG2lQpNvp3sg7owHVdK3z2snNB89cQ2Ue5/LlCOyXFLu09S4jJzO7cF1Xd7lMwo23pUGneKaaLcreugJ30iokuEs/imZ7vfBE3Eq++X4rNyR8PruP8my2y+gx/A2w7nsQwfzh3RcUXqvKovxca9YVj6aELHlXX0CkTy3HSEFBRgV5Oc5kTf4bGIDtY8DaV3GKLvACpPGOUET5jwvUms9Zl6VH/d+TN1c2MTTP0CcLWmQPoOjBTLtb16FDRtRueTZmQ+GoamYuZImT+xXhF3hMFUd9xtf33fgSnY8s98PBfvj9P/ysfs+xIQHhmDqAeyUFCj/gzj3un6Ly+7PuV1e/JRNiITz9zTeVUV1ydgwcPB2FRQ6qZcfRByeyyGq1dNrQLDMH5kLb446Vm3hG+avgT8RZvQXOkOuE2kLa/S1+0pRNntXfOZMb07v3Lpz3ffxDQ8NFyzPZzYidfeG4WZU8I6/2iulz/iJxvQ+E456uQkXfSk1ZPLU381K85Dw/2LsdC6DQl9R87AguQjWP3uETnFM0FTZmDywM70AsbMwMxxR5C7x/rrhI7yPtuI02f74JpfaObxG4Do2+VV+raDKNzYhpnTNfs1kW7opFSM31KKCm213ZnWZR/RgFjM7Wg7PogYEw18VC+7BIpy2Z4Hk1gP7ZOtfEOT8cCYQuz6RJP42QTMnampi8BRGH97GxpOdWPP4BOM6DsHa568JcrythhEVIt82TTDPkieaejYFlQNu/NRPMrQuZ4q/1hMm/YtCsV6melOn4jo0nVpPKf+YjljRDWC0d/+EZLXB+M2lKPqhBx3pr0VdYdKsGndBmSLYfk8A5bvAKpP6Qh8b4zBzJlpyOgY0rHmtSJs+2MjHsvIR7Xsz9l3VDIeal+PxIRMLH+jCGWH6tHsoK9niL9t94GfqQfSawJsHtf5s16aI5Y7fuIglyzy9FIePvxgHz4tycMzI2uwPDUNL9fIeaQRIpjrXA853H/5Pc2i5ZQIvEJu7LJeIf3DgL017m/2U5/KtLcIueb2koN5sxYju1oEHU2eBTmhE9Iwfm8mRhuW4dmCElRUG236/7rMZ3fozPfVfnY3xjQZcUic6pRutmwfHcP2w2IjMXp20qcnrZ5cnpj79NdAxI3XyXErEXQPEifHR92fHDsyPFhzomXWB0FqF5vP6jvTc1fefqPw5weBbEMCZqzcjIK9R1B3xvKR2XdGNJwFKnfYlcNbpaKNGnH6OzmfytE+4kZ/qL0kO/xUvpq1oOGEiHKrimzTXpePnSft24QPrnKwyyk7Lgq2O0S7Ltu+2bK855fBMG8DKu3XB/7w08TuqsaT4gTs1D5stMnvBhR+Zrev1pU+EdGl68oO6p1pb4P7izNNKJ4Xj8ScelwVHY9pKamY+9iLWHCn/LibgkbFINp4GNXWI3zvwch4swTvvzQVY/q1Yu/r6RgdY8DLhy/s5SNffxHkz1yGpSPrUVnj5ieMK4zJpKMu2o4g+08JmL+nDTfflSTay1Q8vmIxZobKzz0RGIucklJsW5CAW1CDgtUGDItdjOJT8nMndOXT3rnm238kksW2oW4fHcP0J7GtdIa5X79H9KTVk8tzwmTy7PRAq8Vkku/s9PYRIbCgq7x9MHxmHj5+Owczb++Dlo9yMSUhBomvHkFn6gMw/o925ZAyDxveX9nlPpHuuHmMmjfb9B/PLsHaiY7vTThXpsMbMDFuGXa1DUBColjetHlY+4QBI+Tn7gSMTOiS37lPiDKcaem/f67pExFdCq7soP46EajicNcr8sdqUIZY3Boix6UftFfIWw6jdG8bUtPTEB8aiL79+ojBhNPuru678982nBYvP9NeHevlg4DgwYi+OwVLXyjC5imtyP6X7c2E58JmvQST3c1rndosn3X8pH9lCboxEuKMpssV+bqj5cCdQyB7l1mI6OoH+dbs+AEU10di6kPysYdqe/FrQ0O1/NxTok0EhYYhXv01JW8b1owsRdF+y8lWwK9EoOIsnxo+vf1EvprwjRw3O2O0/d655FvdvppEPkzqtmE3+Hnwq5FKT1qeLM++frrwR/8QH1TU1GsCZVUrjlbWImjEwG79ElVxzP4qtRFVlaJt9Rf7EHXUg/JWT7SHj0nA1EVZ+HC9Ac3r9uCo+kHAjbip9z7UnbErA/PgYbl3YSmXvV+1Oki7D3y7uW+w3wfZqztQgrrbU5CRHIaQa+Xy/muEKDq31O22sdaINru8mgdZHOeSPhHRpeLKDuqvnYDU5Fqsfr4Q1daLb2cO4tmlG+D7YDLGWHsTBA/EeBSiwNrJvq3N3D3llmARO1XJPplC49585NsdBXz6BgJ796DC3cU99dFzJw4ie3kO6u5MwBh5wathz2YUHNJ0r2g3orqqEUE98TBsR+vVVIJ5o2Nh+GsRDp0QeZIXd02n6lGsPlWkPhbJ2j/wuoIEjEvG5LocLN9S29EFqnl/Duav88FD947q6MYQ0H8Igg4Uofiw5ad98wXywGBE9D6Io9Z7EtpbUb01X5S+li+uEm2uYs8+NDgNclpxqKAQZfWabgMtNag6Jppkb8uNF0HjUhHvIJ+r37VtM30HDsFwY7E4GZBptYk6/msBjmp7iOjKtxNi+5p5/9dYvkpsX5ruIc3VRXg296Dbf/C1oSctnctzWD8ODP99Om7ekoXVe+X20d6Gun88gSX7IpERN8AyzVMFa7C8Iz1Rlmr6dZr09JT3iVLkbj9i09e7oeYwTgf6Wa729xqMyfPDkL88C2XGzplMxoN4eWWR+25ibgz/YyYiClaI9dDsl9qMqHg1CwWeXtRwtA9yICg4DL7iZKrKuh9tqcWmzUVyxLWAcVMx9WQWlmi2B3O5bs/By7Ltn0v6RESXiismqDf3Me9yFckH0Qvy8cw1O2GIGYVBYWIYuwhH78rB62mdj49Dv1gsfCoGFc8kWOZJyjf3xZ+avQz9dxgwLM6AxLgEzK69A3NTfWwC7tBJy/CQb6El/b+UWPrN+vjC96OViFLTsg6RsRg9QwT0kVl4XyzLGiBe/es+OJotlhEeg6ikBPGainz/TKyf1BlUOFw3Hx/42sf95vk0d9w6Wi//WOT8cyWim4owOzUW4ZGW/KnruOpEDNa/vQzjNTeh+fYWy+lSrl7up5Yysvm1RNU7EkvzFyPovdkID7eUS/jiWiSsz0GG9q//Q1OxZiaw0RBrKbsnS9HsF4MFL81A3ZOiTJMMmJiQgo1+qVgwsjMYV/tXj394GcZ8thLjRPrD1jm6GbOPCEBakD8rXqQdi4lJYhkxljb76B2yM3G/GDyTlw6/N9JkPmNg2DUQTy+ItHxudX0Cnlk0AIWzLPkcdNcKVI2bg4dulJ+rdOVbcrB9DZ+dg/W37ENagqW81GHc6oMIGjnQpi+3va7tSk9aOpfnqH7kRzaCk7AhLwENq5IsaYltMHFrAJbmrUS8tguL/XblwvglixGxNxPDzOnFIuUNIGO9Jj095e0fDL+qtUgU2+awuFREjR6FiWq+slNh7aUTdPdKbJsCrLsvpqMcwh/Mx/e3hyFIzqNrH6ES477aug5MwNq8FLUAxf5IlvPYGcj9zyhE2JwQypOMDpaT1tBrNZ3eHe5bu+o7Jh2vT6/H/BjR5u8T6zwpH1elpCMCfrjK7k/uum63g7FwQxZG7M/EaGt+wxPx1IFARIRa8uJJ+kREl6qefU79edb959QL6hUaV8Gn+qcjLW3w9XPxE7J5HnEAsPsJW/3jFpOv/CnXeiXILg11HvTu/s/TLvPnaN2c5MPxvI7Xy0z9A5o2cTh2Vi7uyvUi6vZz6lXu1kstl3Yf191I1HI9K8rVbh71D3DUu/nM5elkOaYzoq7ddZVQf90R6btqszZtU312+APAloPptv3L7duW0zy5yLeOdqB+3yS2AV0/MrlJT09abudxUj+OmMuxl0jLWYCnY/1t5lHrzuS6/ehrJyJfPi7yJTjNu5qmyj5dR8tytn7mNijWw1Fb9SQdV/sgLfv57NNzlr6VfVu35y59IqJLgLP45soJ6umKc05B/eXIWVBPREREXsNZfMOn3xBdSey7zBAREdFlgUE90ZVieDo+L03jVXoiIqLLEIN6oisJ+wcTERFdlhjUExERERF5OQb1RERERERejkE9EREREZGXY1BPREREROTlGNQTEREREXk5BvVERERERF6OQT0RERERkZdjUE9ERERE5OUY1BMREREReTkG9UREREREXo5BPRERERGRl2NQT0RERETk5RjUExERERF5OQb1RERERERejkE9EREREZGXY1BPREREROTlGNQTEREREXk5BvVERERERF7uJ4og3+tWX18v3xERERER0YUUHBws33XqdlAfGBgoxy4co9HocCWIHFHbKdsLERERXU6cxTfsfkNERERE5OUY1BMREREReXjNsK4AAA/rSURBVDkG9UREREREXo5BPRERERGRl2NQT0RERETk5RjUExERERF5OQb1RERERERejkE9EREREZGXY1BPREREROTlGNQTEREREXk5BvVERERERF6OQT0RERERkZdjUE9ERERE5OXOb1Df3gZTu3zvzNlWNJ9pdT8fERERERE5dH6C+vZv8XHuQtwRG4uo16rkRA31801P4767YjB0bDyi7orHb6Picd9zO/DFWTkPERERERHp0uNBfdMnb+LB+EQ8uGE/mkSAbmqTH2h8+tq9ePDF3fgUN+Dm6D/g3ujfwL93Kz7d9hwmPbEbTXI+IiIiIiJyr2eD+oa3kTHnNXzc9huED7tOTuxqWPKzWLV2Mz4pfh1/X5WBxatewZ6tj2Gs+Mz04S7s/9YyHxERERERudezQf11YzDvuRfw9tuv4Nn4X8uJDvxyBOJ+ex18e8lx1S+vw6/kWyIiIiIi0q9ng/pev8SwqBG4yU+Oe6CpbBfeF6++sRMR9UvLNCIiIiIicu/83CirSys+WBWPoZEx5uGOR9/GD7/LwN8XjkFfOQcREREREbn3E0WQ73Wrr69HYGCgHHOsqXgh7nhmPzD5b/hs9i1yqlYbPn1jIVaUtprfnzz6JZrhg5unvoA30m6Br2UmG0ajEcHBwXJMp1MHsWljIQqrjZZxv2CMuTsV08YPQF9t9x936gpheN0Pa56KRYCcpEvLQWQvzMHeFjku/Sp0AqLvikXycH85xYl2I8o2FeP0SAOSQ33kRNJDbad62kvz/g2Y8+I+0f5cGzHtRSy9o48c80B3286lTl2vdT54ek0CgtRxYzly32nEbVMSENrbPMcF17w3C4bPYrB5dpjDfQgREZG3cxbfXMQr9T4Ydv8L+PvGV8TwOj4s+RvSB7fhaO7TeOOonOUcmQ7lYGJcJgrbwzB3djoWqMPdA9HwRhpG37cZdXI+XVqMqNhRgwY5qttZI46Kc5vbJsvly2HCr2qQn56ExFePwCRndaj9W1S+k4/imkY5gXpa3/4xeEhTNwsmhwHVXessaWg3AnpVd9vOpU5drz31sLZMU9NhFOSXoFr346uasGvdBpSdkqM9oO2MEdW1RtidQxMREV32LmJQb8fvFowde4N48zUO1fXE429qkbt0M/zm52HbY0mIvi0MEepwZwrWvFkspkVbri5eEP4IGSGXL4f4+5dh8wtJaF6XiyJXQY3PYGQUliLvHte/jNA58B9gUzcRI4JxtYM6C3Xzo8qVzndIGnZ8kIPk6+UEt77G/7yah4qv5SgRERF120UJ6pv+Zzc++FLtdqPRLoL5j780v/Xr3QPdTJrqUWkERgxy0P2iVx+EhAZ2/Xm+zfLvts1nHDxc35X2Nvk9z/4Z13fkHRiPctRZg5qznd83qelZs6GZbkP+G2+zkz/sMqfhYZ5In26XrbWttLhoY562J227aXH+PZN1mTJ9+3ncrpOOvHcsw063yktPOVjn4Z/WERHRFa5ng/oz+7FmznRMmjYds16ptEzbsdo8Pmna0/jnN+qE/8W2p5/Gw/fG47e/n44Hn3oJOc89jkmJU7CsXHx8w5+QEtHNbg5a/oG4uTdQ+Xm9nODC2Vrk/iUBwyLjETdrNgypsRg0djGKZTd8VxoP5MEQG4+UdPG99DSMjl2MTXUuAjatlkacho98tGcTCh6NRfZHIi+zYjFsbDwMW9W8W6bPeU/Tp0HNr5hn0OhE83LjJsQgakkRrIs11RXhMbEOY9V1EZ+PjTXg2Y/4l149wVS9GTPiYhCeKsr2gUQMizHgse31rrtQScd2r0RibJK5nYyLEWnM2oxqu2DU8/ZkaR9Ltpeb28Rog9p+4y352q1pwKeKMCdmPcpE/g2xYtkJs5EvNw097aXxoxwkijyPVtfbEG/Ju/1NCOZlLEKx5qtqeRnGjsKwpDQYZqUgPCYB8/5Rj0/WxWBQWBpyxTy5D4wS78UwNg+HLF/TUQ5tqCtYjPDwGIx7QMyTHIvEp0txzJOTBiIiosuJeqOsp44fP66YTKauQ9025b6oSGXgrY6Ge5VXjsr5TlQoryx5UBllM2+0MmrOq8oHX2vSsxvU5Xri9L9WKHEi3dsz1igb39mnVH3Vovzwo/xQ67vDSlHZceX7js9MSnlWkjJwxT7lBzlFqVwr8rhWqZSjZp/nKnFRjyhbv5Ljwg9VucqkqDVKuUlO+Pd2Je1WMc+/5bjVjy1KeXaKMjA+V6kyL7dR2ZoeqYxNXKSsq2wxz2JhmZ72TmPHeFFGtDI0Y7tywppfkVbVu3uUKnWZ3+1RMqNSlFWfaNJo3CmmTVfe0uTzSuBpe+ngrM7+vVNJi4pW0radlBOEr8S8YtpTH1or3AFz24lU4lbvU05b66y5RnlLrUdtG9PTnrqwtI+B4ntvfd5Z56fL1oi2L+rcWgTmdUpS4jJzlcrv5DSVnvZi/m7X9Z79u2jbbcK+3ByVl1jvol01cp0PK6tEuayy2agEHeXwgyjTsbfa5vv7T9Yq94jlDUzfrpyW04iIiC43zuKbnr1SHzQRr75fis/KHQ2v4/6b5HzXjMD9j/8Ne8S8n5QU48N3i/HJhyXY89x9CO/BZ9QH3LEIO/75IjJGAP+zNQeGP8RiWHgsJs7LQ4W2H3u/wYgfE6x5Go4PIsZEA9VGFzc3tqFiex5MU2bY9CH2DU3GA2MKsesT7VXFg8j+iwGJ93UOUTGxmLFzAJZmpyJU8xSevolpeGi4i18q6kuxcW8wFsxNQJD1e736IPTOGKgPx2nYnY/iUQbMHKlJwz8W06Z9i8KPdPxqQU7V7clH2YhMPKO9v+H6BCx4OBibCko7bhh1LAYzp0ciwFpnfgMweboBVxfslE9G8qQ9dRUkvjd5YGedB4yZgZnjjiB3T62couqD5JkGDO8nRwU97aVuTyHKbu+63hnTXT9ZyFxewelYoP2eWO/4cQNcPJlGTzmIed7djNP3L8ZCTb77jpyBuXGuy4mIiOhyddFvlPX164O+/frY/rtsT7p2MJLvz0TOm/n4+OA+fPr280j1K4EheRl2nZHzCM31R1BcsAHZ68SwcjESVxaZg3rnT9FoQcMJEUBUFVm+0zHkY+dJESw1ab8ZjIT7NU9SyVyGt4tK8ek/l2FyiO39A1f7ufnnLvXpHgjDLU7iqcaTR4BT+7DRJk8bUPiZWJ1TdvcxkEdaTokAOeTGLo+lDOkfBux183SbwAG4SRNMm/n7IwSlqDLHzp60p66GB9vfSN0HQWJSw2edT6cRC4TY3GzoaS8u19sF8/dGDhTr6Ak95dCC018DETdeZ/lKBx+EDHKdJyIiosvVpfP0mwvE9/rBmPxYJqaeLcH/yAvXjTsyMfq+tTjWJwbJKamYNnMx8uZOsHzoxs1jkjBN/Y5meDy7BGsnah+VYvckleHBCOh3/p45HzAyoUue5j6Rh49nDpZzUE8ymXRcHT7TBsdzBeBnmqagrz111WJy0qu/t48IdV3rbnvRtd7d1N1yMJlcn/wQERFdri7foL69DU5jDvFZW8cNqq2o3FcOU/IcZNw5AEH9LL8cqM+7ds0f/UN8sPerVvP89sN5++XhumBEowwV1XLcTtCNkWisNaLNQZ76nr/ziCuCWrao7HpFvu5oOXDnEFh7lzl0tgbH7B5daqqvRQUGI8R8kf3c2lPFMfvnQhpRVSny3D/Q5T8062kvAb8Swb2z9XbBXF67D6Da3c2rP8pXMz3l4Ieg631QUWN/g3IrjlZquxsRERFdOS7foL46H6PHGjDvjXLUnZKPxFMff3fiCHKXPoFNwQbEhqoz9sFNA4NF0HIYddbg41Q5XttyUI5IPxeBBMqx80BnF5bhf8xERMEKLN9r7HzkXpsRFa9moeCEHO9p107AzPt9kL06D4es3YfUZRaUoFqcxASMm4qpJ7OwZEstmq15am9F9fYcvLyf3W/ORcC4ZEyuy8FyTdk278/B/HU+eOjeUS6DZ/W+itXPF6LaeiFZtLHVqwsR9GAyxsgeV+fUngrWiO/Jx86o9b0lC6vrIpERN8AyzQk97SVoXCriHaz36nddnyWa0/bZgKdyj3R8z2Q8iE07amUwHoxbxgH520vQqH6unoiLV/fl4IOIuw0IUtexY53bUPePFdh4zL4bEhER0ZXh8g3qhxiw+9VUXP1ZDlLi1BtkR2FQeAzC//AIdvZLx443DR03qIZMXoM1/XciMSYBiakJiFpYgwkPp8I30K+z68LAVKx50Af5M2IxKCzT8ti+wASszUsBNhos6ZsfyzcDuf8ZhQhrbPFTyy2BP/up+cU9B1dkfyam+fW23lrog+Gzc7B+xD6kjZXLjDTg5TP+uEb9bu/BWLghCyP2Z2K0NU/hiXjqQCAiQu06VJNjzuqsdySW5i9G0HuzES7LNnxxLRLW5yBjiJufQQINWDulDav/IOsk7glUjVyB9WmDO28a1dOenIh4JB0RezMxzFzfsUh8pQ0Z61ci/lo5g9R1nXS0l34xeCYvHX5vpMn1joFh10A8vSjGdhsxl5sfruptGe1I+8NHOspr2H15aLnWX65zH8TPXYbxB1YgSv08PBW5x8RkPeUw0IDX10ai6skEmed4LG9JxXNTbhBZ0OSJiIjoCvET9RE48r1u9fX1CAy88FfEjEYjgoNdP3HDGfVPeUztPujrqi+7+udTJjGPn5xHvUpoH2Sr84hgpEtXFnX6WSfpO0rHEb3zWam/PLS0mW82dtg9w93nlzm1nXa3vbitC/WPv9T2ZG0r7mjSU/+ISb1j1WWduGpPNppQMCcBu8YVYf3d/l3bsJa7ddLRXszbka+m/etts67yJajporeD5eoohy7l6el2RERE5EWcxTdXzI2ylqfsuAmQfMQ82qDDUWCgzuMoGXW6s/T1BhieBiK91GDHRXDo7nNyzl2ZiQBUd0Cv0qTnq6dOXLUnV+zbsJa7ZepoL+btSJu8uzStXOVLcHoioaMcupSn3jwRERFdRq64p98QXY46u2cRERHRlYhBPZFX80fyC/uwZhzvlyAiIrqSMagn8nbsbkJERHTFY1BPREREROTlGNQTEREREXk5BvVERERERF6OQT0RERERkZdjUE9ERERE5OUY1BMREREReTkG9UREREREXo5BPRERERGRl2NQT0RERETk5RjUExERERF5OQb1RERERERejkE9EREREZGXY1BPREREROTlGNQTEREREXk5BvVERERERF6OQT0RERERkZdjUE9ERERE5OUY1BMRERERebmfKIJ8r1t9fb18R0REREREF1JwcLB816lbQT0REREREV062P2GiIiIiMjLMagnIiIiIvJyDOqJiIiIiLwcg3oiIiIiIi/HoJ6IiIiIyMsxqCciIiIi8nIM6omIiIiIvByDeiIiIiIiL8egnoiIiIjIyzGoJyIiIiLycgzqiYiIiIi8GvD/ARqw2Sc2xJl8AAAAAElFTkSuQmCC)\n",
        "\n",
        "\n",
        "\n",
        "\n",
        "\n",
        "*   There are 13 columns, including 4 categorical & 9 numerical, and 2919 rows of data.\n",
        "*   There are some missing values in these columns that need to be handled : MSZoning, Exterior1st, BsmtFinSF2, TotalBsmtSF, SalePrice\n",
        "\n"
      ],
      "metadata": {
        "id": "mFCBOmll5Sjr"
      }
    },
    {
      "cell_type": "markdown",
      "source": [
        "Most of machine learning models don't accept categorical data. to deal with them, first we need to know how many unique vales each categorical column has.\n",
        "\n",
        "The first 3 columns have only 5 different values so we can use one-hot encoding for them. but the last col has 15 different values which is a lot to be OH encoded, so we're just going to delete that column.\n",
        "\n",
        "OH encoding needs to be done after train_test split to prevent data leakage.\n"
      ],
      "metadata": {
        "id": "A_unB_0ql_Vg"
      }
    },
    {
      "cell_type": "code",
      "source": [
        "# finding categorical & numerical cols\n",
        "categorical_cols = df.select_dtypes(include='object').columns\n",
        "print(categorical_cols)\n",
        "\n",
        "numerical_cols = df.select_dtypes(exclude='object').columns\n",
        "print(numerical_cols)\n",
        "\n",
        "# number of unique values in each categorical column\n",
        "df[categorical_cols].nunique()\n"
      ],
      "metadata": {
        "colab": {
          "base_uri": "https://localhost:8080/"
        },
        "id": "o2esHvMxmWpU",
        "outputId": "f33005db-b4db-45de-d5ae-2b86a9bb7703"
      },
      "execution_count": 3,
      "outputs": [
        {
          "output_type": "stream",
          "name": "stdout",
          "text": [
            "Index(['MSZoning', 'LotConfig', 'BldgType', 'Exterior1st'], dtype='object')\n",
            "Index(['Id', 'MSSubClass', 'LotArea', 'OverallCond', 'YearBuilt',\n",
            "       'YearRemodAdd', 'BsmtFinSF2', 'TotalBsmtSF', 'SalePrice'],\n",
            "      dtype='object')\n"
          ]
        },
        {
          "output_type": "execute_result",
          "data": {
            "text/plain": [
              "MSZoning        5\n",
              "LotConfig       5\n",
              "BldgType        5\n",
              "Exterior1st    15\n",
              "dtype: int64"
            ]
          },
          "metadata": {},
          "execution_count": 3
        }
      ]
    },
    {
      "cell_type": "markdown",
      "source": [
        "**Step 3 :**     \n",
        "\n",
        "Data Cleaning\n",
        "\n",
        "To deal with missing values, we can impute those missing in SalePrice with the mean.\n",
        "and for other columns we can delete the records with missing values since null values are very few in each column."
      ],
      "metadata": {
        "id": "Nu1Ic63y8r9E"
      }
    },
    {
      "cell_type": "code",
      "source": [
        "# replacing missing values with 'mean' in SalePrice\n",
        "df['SalePrice'].fillna(df['SalePrice'].mean(), inplace=True)\n",
        "\n",
        "# removing other ramining rows with missing values\n",
        "df.dropna(inplace=True)"
      ],
      "metadata": {
        "id": "cyDUTi3a9Y6g"
      },
      "execution_count": 4,
      "outputs": []
    },
    {
      "cell_type": "code",
      "source": [
        "df.info()"
      ],
      "metadata": {
        "colab": {
          "base_uri": "https://localhost:8080/"
        },
        "id": "s8ebKv0IlHXC",
        "outputId": "7f4bff53-be1a-47f8-80fe-577b114e2be6"
      },
      "execution_count": 68,
      "outputs": [
        {
          "output_type": "stream",
          "name": "stdout",
          "text": [
            "<class 'pandas.core.frame.DataFrame'>\n",
            "Int64Index: 2913 entries, 0 to 2918\n",
            "Data columns (total 13 columns):\n",
            " #   Column        Non-Null Count  Dtype  \n",
            "---  ------        --------------  -----  \n",
            " 0   Id            2913 non-null   int64  \n",
            " 1   MSSubClass    2913 non-null   int64  \n",
            " 2   MSZoning      2913 non-null   object \n",
            " 3   LotArea       2913 non-null   int64  \n",
            " 4   LotConfig     2913 non-null   object \n",
            " 5   BldgType      2913 non-null   object \n",
            " 6   OverallCond   2913 non-null   int64  \n",
            " 7   YearBuilt     2913 non-null   int64  \n",
            " 8   YearRemodAdd  2913 non-null   int64  \n",
            " 9   Exterior1st   2913 non-null   object \n",
            " 10  BsmtFinSF2    2913 non-null   float64\n",
            " 11  TotalBsmtSF   2913 non-null   float64\n",
            " 12  SalePrice     2913 non-null   float64\n",
            "dtypes: float64(3), int64(6), object(4)\n",
            "memory usage: 318.6+ KB\n"
          ]
        }
      ]
    },
    {
      "cell_type": "code",
      "source": [
        "# deleting column with 15 different categorical values\n",
        "df.drop('Exterior1st', axis=1, inplace=True)"
      ],
      "metadata": {
        "id": "qt13zza4o0Nq"
      },
      "execution_count": 5,
      "outputs": []
    },
    {
      "cell_type": "markdown",
      "source": [
        "**Step 4 :**    \n",
        "\n",
        "Building a Model"
      ],
      "metadata": {
        "id": "CityvbKpqBfD"
      }
    },
    {
      "cell_type": "markdown",
      "source": [
        "Before we start building our model we need to split our train data and apply OH encoder"
      ],
      "metadata": {
        "id": "YdAraCf_qSgs"
      }
    },
    {
      "cell_type": "code",
      "source": [
        "from sklearn.model_selection import train_test_split\n",
        "from sklearn.preprocessing import OneHotEncoder\n",
        "\n",
        "# defining target variable and features\n",
        "y = df['SalePrice']\n",
        "X = df.drop('SalePrice', axis=1, inplace=False)\n",
        "\n",
        "X_train, X_valid, y_train, y_valid = train_test_split(X, y,random_state=1)\n",
        "\n",
        "\n",
        "# finding categorical & numerical cols\n",
        "categorical_cols = X.select_dtypes(include='object').columns\n",
        "numerical_cols = X.select_dtypes(exclude='object').columns\n",
        "\n",
        "# One-Hot encoding\n",
        "OH_encoder = OneHotEncoder(handle_unknown='ignore', sparse=False)\n",
        "OH_train_cols = pd.DataFrame(OH_encoder.fit_transform(X_train[categorical_cols]))\n",
        "OH_valid_cols = pd.DataFrame(OH_encoder.transform(X_valid[categorical_cols]))\n",
        "\n",
        "# reseting the indexes\n",
        "OH_train_cols.index = X_train.index\n",
        "OH_valid_cols.index = X_valid.index\n",
        "\n",
        "# putting cols together\n",
        "OH_X_train = pd.concat([X_train[numerical_cols], OH_train_cols], axis=1)\n",
        "OH_X_valid = pd.concat([X_valid[numerical_cols], OH_valid_cols], axis=1)\n",
        "\n",
        "# resetting dtypes to string\n",
        "OH_X_train.columns = OH_X_train.columns.astype(str)\n",
        "OH_X_valid.columns = OH_X_valid.columns.astype(str)"
      ],
      "metadata": {
        "colab": {
          "base_uri": "https://localhost:8080/"
        },
        "id": "mQ7tlQkk2mDp",
        "outputId": "2f4feb3b-5837-43dd-c15f-697df8bba2d7"
      },
      "execution_count": 6,
      "outputs": [
        {
          "output_type": "stream",
          "name": "stderr",
          "text": [
            "/usr/local/lib/python3.10/dist-packages/sklearn/preprocessing/_encoders.py:868: FutureWarning: `sparse` was renamed to `sparse_output` in version 1.2 and will be removed in 1.4. `sparse_output` is ignored unless you leave `sparse` to its default value.\n",
            "  warnings.warn(\n"
          ]
        }
      ]
    },
    {
      "cell_type": "markdown",
      "source": [
        "we're going to use a couple of machine learning models including : Random forests, XGBoost regressor & Linear regression\n",
        "\n",
        "Then we're gonna use cross validation to compare the results and see which one works the best.\n",
        "\n"
      ],
      "metadata": {
        "id": "gXcF7aBaLuaZ"
      }
    },
    {
      "cell_type": "code",
      "source": [
        "from sklearn.ensemble import RandomForestRegressor\n",
        "from sklearn.metrics import mean_absolute_error\n",
        "from sklearn.metrics import r2_score\n",
        "\n",
        "# training the model with random forests\n",
        "model_one = RandomForestRegressor(random_state=1)\n",
        "model_one.fit(OH_X_train, y_train)\n",
        "\n",
        "# predicting target for validation data\n",
        "pred_one = model_one.predict(OH_X_valid)\n",
        "\n",
        "# calculating the loss function and accuracy\n",
        "MAE_one = mean_absolute_error(y_true = y_valid, y_pred = pred_one)\n",
        "accuracy_one = r2_score(y_true = y_valid, y_pred = pred_one)\n",
        "\n",
        "print(MAE_one, \"\\n\", accuracy_one)\n",
        "\n"
      ],
      "metadata": {
        "colab": {
          "base_uri": "https://localhost:8080/"
        },
        "id": "dFnjyiUnNyPm",
        "outputId": "d9825885-b157-4319-9492-37094694b429"
      },
      "execution_count": 8,
      "outputs": [
        {
          "output_type": "stream",
          "name": "stdout",
          "text": [
            "11982.575275269515 \n",
            " 0.8128487648482201\n"
          ]
        }
      ]
    },
    {
      "cell_type": "code",
      "source": [
        "from sklearn.linear_model import LinearRegression\n",
        "\n",
        "# training the model with linear regression\n",
        "model_two = LinearRegression()\n",
        "model_two.fit(OH_X_train, y_train)\n",
        "\n",
        "# predictin results for validation data\n",
        "pred_two = model_two.predict(OH_X_valid)\n",
        "\n",
        "# calculating the loss function and accuracy\n",
        "MAE_two = mean_absolute_error(y_true = y_valid, y_pred = pred_two)\n",
        "accuracy_two = r2_score(y_true = y_valid, y_pred = pred_two)\n",
        "\n",
        "print(MAE_two, \"\\n\", accuracy_two)\n"
      ],
      "metadata": {
        "colab": {
          "base_uri": "https://localhost:8080/"
        },
        "id": "v4WszCO13v9H",
        "outputId": "8b4c0d46-5f1c-4082-ee1f-342eacdbdc9b"
      },
      "execution_count": 9,
      "outputs": [
        {
          "output_type": "stream",
          "name": "stdout",
          "text": [
            "32634.515352125418 \n",
            " 0.33887900215560596\n"
          ]
        }
      ]
    },
    {
      "cell_type": "code",
      "source": [
        "!pip install xgboost"
      ],
      "metadata": {
        "colab": {
          "base_uri": "https://localhost:8080/"
        },
        "id": "F5yim1CnA8VT",
        "outputId": "f66cb32a-3270-4b69-b35c-133d1e137d55"
      },
      "execution_count": 10,
      "outputs": [
        {
          "output_type": "stream",
          "name": "stdout",
          "text": [
            "Requirement already satisfied: xgboost in /usr/local/lib/python3.10/dist-packages (2.0.0)\n",
            "Requirement already satisfied: numpy in /usr/local/lib/python3.10/dist-packages (from xgboost) (1.23.5)\n",
            "Requirement already satisfied: scipy in /usr/local/lib/python3.10/dist-packages (from xgboost) (1.11.3)\n"
          ]
        }
      ]
    },
    {
      "cell_type": "code",
      "source": [
        "from xgboost import XGBRegressor\n",
        "\n",
        "# training the model with XGBoost regressor\n",
        "model_three = xgb.XGBRegressor(learning_rate = 0.01, n_estimators = 1000)\n",
        "model_three.fit(OH_X_train, y_train)\n",
        "\n",
        "# predictin results for validation data\n",
        "pred_three = model_three.predict(OH_X_valid)\n",
        "\n",
        "# calculating the loss function and accuracy\n",
        "MAE_three = mean_absolute_error(y_true = y_valid, y_pred = pred_three)\n",
        "accuracy_three = r2_score(y_true = y_valid, y_pred = pred_three)\n",
        "\n",
        "print(MAE_three, \"\\n\", accuracy_three)"
      ],
      "metadata": {
        "colab": {
          "base_uri": "https://localhost:8080/"
        },
        "id": "gJeiQUN75wB_",
        "outputId": "ce7bffad-d5f7-48a7-f9b2-c977754cf2be"
      },
      "execution_count": 28,
      "outputs": [
        {
          "output_type": "stream",
          "name": "stdout",
          "text": [
            "12665.79277825636 \n",
            " 0.8028253955073497\n"
          ]
        }
      ]
    },
    {
      "cell_type": "markdown",
      "source": [
        "From the results above it is clear that random forset regressor model has the best performance on this data so we will use that to predict sale price for new houses."
      ],
      "metadata": {
        "id": "9TwrA0MJKEnW"
      }
    }
  ]
}